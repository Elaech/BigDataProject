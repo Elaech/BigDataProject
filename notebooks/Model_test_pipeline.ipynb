{
  "nbformat": 4,
  "nbformat_minor": 0,
  "metadata": {
    "colab": {
      "provenance": [],
      "collapsed_sections": [
        "XOCeS2XNNmJt",
        "Vh8kc67VxdNN",
        "4xel26baGBEE",
        "nAiLE_zhH5EP",
        "KKSaB01YMwWY",
        "p0MUA6w1OLeH",
        "NrY2qVOHQm6C"
      ]
    },
    "kernelspec": {
      "name": "python3",
      "display_name": "Python 3"
    },
    "language_info": {
      "name": "python"
    }
  },
  "cells": [
    {
      "cell_type": "markdown",
      "source": [
        "## Install packages"
      ],
      "metadata": {
        "id": "XOCeS2XNNmJt"
      }
    },
    {
      "cell_type": "code",
      "source": [
        "!pip install findspark\n",
        "!pip install pyspark"
      ],
      "metadata": {
        "colab": {
          "base_uri": "https://localhost:8080/"
        },
        "id": "N6wT1dReNp8A",
        "outputId": "6fb2b243-74ea-4143-f003-2cca92d19e53"
      },
      "execution_count": 2,
      "outputs": [
        {
          "output_type": "stream",
          "name": "stdout",
          "text": [
            "Looking in indexes: https://pypi.org/simple, https://us-python.pkg.dev/colab-wheels/public/simple/\n",
            "Collecting findspark\n",
            "  Downloading findspark-2.0.1-py2.py3-none-any.whl (4.4 kB)\n",
            "Installing collected packages: findspark\n",
            "Successfully installed findspark-2.0.1\n",
            "Looking in indexes: https://pypi.org/simple, https://us-python.pkg.dev/colab-wheels/public/simple/\n",
            "Collecting pyspark\n",
            "  Downloading pyspark-3.3.1.tar.gz (281.4 MB)\n",
            "\u001b[2K     \u001b[90m━━━━━━━━━━━━━━━━━━━━━━━━━━━━━━━━━━━━━━━\u001b[0m \u001b[32m281.4/281.4 MB\u001b[0m \u001b[31m4.7 MB/s\u001b[0m eta \u001b[36m0:00:00\u001b[0m\n",
            "\u001b[?25h  Preparing metadata (setup.py) ... \u001b[?25l\u001b[?25hdone\n",
            "Collecting py4j==0.10.9.5\n",
            "  Downloading py4j-0.10.9.5-py2.py3-none-any.whl (199 kB)\n",
            "\u001b[2K     \u001b[90m━━━━━━━━━━━━━━━━━━━━━━━━━━━━━━━━━━━━━━\u001b[0m \u001b[32m199.7/199.7 KB\u001b[0m \u001b[31m14.9 MB/s\u001b[0m eta \u001b[36m0:00:00\u001b[0m\n",
            "\u001b[?25hBuilding wheels for collected packages: pyspark\n",
            "  Building wheel for pyspark (setup.py) ... \u001b[?25l\u001b[?25hdone\n",
            "  Created wheel for pyspark: filename=pyspark-3.3.1-py2.py3-none-any.whl size=281845512 sha256=615e58aa0db8d1d96543c3691c7dc88187b7b6579be7420dfd267f2c9536e365\n",
            "  Stored in directory: /root/.cache/pip/wheels/43/dc/11/ec201cd671da62fa9c5cc77078235e40722170ceba231d7598\n",
            "Successfully built pyspark\n",
            "Installing collected packages: py4j, pyspark\n",
            "Successfully installed py4j-0.10.9.5 pyspark-3.3.1\n"
          ]
        }
      ]
    },
    {
      "cell_type": "markdown",
      "source": [
        "# Imports and Env"
      ],
      "metadata": {
        "id": "Vh8kc67VxdNN"
      }
    },
    {
      "cell_type": "code",
      "source": [
        "from sklearn.decomposition import SparsePCA\n",
        "import seaborn as sns\n",
        "import pandas as pd"
      ],
      "metadata": {
        "id": "xyxqfImqs6Sj"
      },
      "execution_count": 3,
      "outputs": []
    },
    {
      "cell_type": "code",
      "source": [
        "from pyspark.mllib.evaluation import MulticlassMetrics"
      ],
      "metadata": {
        "id": "WurKCuFsEieJ"
      },
      "execution_count": 4,
      "outputs": []
    },
    {
      "cell_type": "code",
      "source": [
        "sns.set(rc={'figure.figsize':(11.7,8.27)})"
      ],
      "metadata": {
        "id": "9DvFwpcpyJj0"
      },
      "execution_count": 5,
      "outputs": []
    },
    {
      "cell_type": "code",
      "source": [
        "from pyspark.ml.classification import LinearSVC, LinearSVCModel"
      ],
      "metadata": {
        "id": "PpKVt92wbRle"
      },
      "execution_count": 6,
      "outputs": []
    },
    {
      "cell_type": "code",
      "source": [
        "import findspark\n",
        "from pyspark.ml.linalg import VectorUDT\n",
        "from pyspark.sql.column import _to_java_column, _to_seq, Column\n",
        "from pyspark.sql import SparkSession\n",
        "from pyspark.ml.feature import IDFModel, IDF, PCA, VectorAssembler\n",
        "from pyspark.ml.feature import StopWordsRemover\n",
        "from pyspark.sql.types import StructType, StringType, IntegerType, FloatType, BooleanType, ArrayType\n",
        "from pyspark.ml.feature import CountVectorizer, CountVectorizerModel\n",
        "import nltk\n",
        "from nltk.stem.porter import PorterStemmer\n",
        "from nltk.stem import WordNetLemmatizer\n",
        "import re\n",
        "import pyspark.sql.functions as sqlf"
      ],
      "metadata": {
        "id": "qZXy8IwLxcCm"
      },
      "execution_count": 85,
      "outputs": []
    },
    {
      "cell_type": "code",
      "source": [
        "from google.colab import drive"
      ],
      "metadata": {
        "id": "_GB5iZcjxh3F"
      },
      "execution_count": 8,
      "outputs": []
    },
    {
      "cell_type": "code",
      "source": [
        "drive.mount('/content/drive/')"
      ],
      "metadata": {
        "colab": {
          "base_uri": "https://localhost:8080/"
        },
        "id": "kSn5B6mZxn4f",
        "outputId": "6a22f313-c0e9-42bf-9379-fa0efaa1f927"
      },
      "execution_count": 9,
      "outputs": [
        {
          "output_type": "stream",
          "name": "stdout",
          "text": [
            "Mounted at /content/drive/\n"
          ]
        }
      ]
    },
    {
      "cell_type": "code",
      "source": [
        "import os"
      ],
      "metadata": {
        "id": "1PGd8dmpxzec"
      },
      "execution_count": 10,
      "outputs": []
    },
    {
      "cell_type": "code",
      "source": [
        "os.getcwd()"
      ],
      "metadata": {
        "colab": {
          "base_uri": "https://localhost:8080/",
          "height": 35
        },
        "id": "2oDRxBHZxzVl",
        "outputId": "e309f40e-38a5-408a-9442-8170f4bb2494"
      },
      "execution_count": 11,
      "outputs": [
        {
          "output_type": "execute_result",
          "data": {
            "text/plain": [
              "'/content'"
            ],
            "application/vnd.google.colaboratory.intrinsic+json": {
              "type": "string"
            }
          },
          "metadata": {},
          "execution_count": 11
        }
      ]
    },
    {
      "cell_type": "code",
      "source": [
        "os.chdir('drive/MyDrive/SteamReviews2021Project')"
      ],
      "metadata": {
        "id": "PU1TC4G_yG-h"
      },
      "execution_count": 12,
      "outputs": []
    },
    {
      "cell_type": "code",
      "source": [
        "os.listdir()"
      ],
      "metadata": {
        "colab": {
          "base_uri": "https://localhost:8080/"
        },
        "id": "drXRv9WeyXIu",
        "outputId": "c6c27387-1812-4794-b07e-fcfba5562cad"
      },
      "execution_count": 13,
      "outputs": [
        {
          "output_type": "execute_result",
          "data": {
            "text/plain": [
              "['data',\n",
              " 'BDA_Project_Preprocessing.ipynb',\n",
              " 'models',\n",
              " 'sanitize_original_dataset.ipynb',\n",
              " 'Plotting_vectorization.ipynb',\n",
              " 'SVM_pipelines.ipynb',\n",
              " 'Preprocessing+tokenization.ipynb',\n",
              " 'Metrics&Results_pipeline.ipynb',\n",
              " 'BayesBDA.ipynb',\n",
              " 'Model_test_pipeline.ipynb']"
            ]
          },
          "metadata": {},
          "execution_count": 13
        }
      ]
    },
    {
      "cell_type": "markdown",
      "source": [
        "# Constants"
      ],
      "metadata": {
        "id": "6QnTvhXLw1Kd"
      }
    },
    {
      "cell_type": "code",
      "source": [
        "non_null_schema = StructType() \\\n",
        "    .add(\"#\", IntegerType(), True) \\\n",
        "    .add(\"app_id\", IntegerType(), True) \\\n",
        "    .add(\"app_name\", StringType(), True) \\\n",
        "    .add(\"review_id\", IntegerType(), True) \\\n",
        "    .add(\"language\", StringType(), True) \\\n",
        "    .add(\"review\", StringType(), True) \\\n",
        "    .add(\"timestamp_created\", IntegerType(), True) \\\n",
        "    .add(\"timestamp_updated\", IntegerType(), True) \\\n",
        "    .add(\"recommended\", BooleanType(), True) \\\n",
        "    .add(\"votes_helpful\", IntegerType(), True) \\\n",
        "    .add(\"votes_funny\", IntegerType(), True) \\\n",
        "    .add(\"weighted_vote_score\", FloatType(), True) \\\n",
        "    .add(\"comment_count\", IntegerType(), True) \\\n",
        "    .add(\"steam_purchase\", BooleanType(), True) \\\n",
        "    .add(\"received_for_free\", BooleanType(), True) \\\n",
        "    .add(\"written_during_early_access\", BooleanType(), True) \\\n",
        "    .add(\"author_steamid\", IntegerType(), True) \\\n",
        "    .add(\"author_num_games_owned\", IntegerType(), True) \\\n",
        "    .add(\"author_num_reviews\", IntegerType(), True) \\\n",
        "    .add(\"author_playtime_forever\", FloatType(), True) \\\n",
        "    .add(\"author_playtime_last_two_weeks\", FloatType(), True) \\\n",
        "    .add(\"author_playtime_at_review\", FloatType(), True) \\\n",
        "    .add(\"author_last_played\", IntegerType(), True)"
      ],
      "metadata": {
        "id": "oUoFfGz9w1zi"
      },
      "execution_count": 14,
      "outputs": []
    },
    {
      "cell_type": "code",
      "source": [
        "INDEX = \"#\"\n",
        "APP_ID = \"app_id\"\n",
        "APP_NAME = \"app_name\"\n",
        "REVIEW_ID = \"review_id\"\n",
        "LANGUAGE = \"language\"\n",
        "REVIEW = \"review\"\n",
        "TIMESTAMP_CREATED = \"timestamp_created\"\n",
        "TIMESTAMP_UPDATED = \"timestamp_updated\"\n",
        "RECOMMENDED = \"recommended\"\n",
        "VOTES_HELPFUL = \"votes_helpful\"\n",
        "VOTES_FUNNY = \"votes_funny\"\n",
        "WEIGHTED_VOTE_SCORE = \"weighted_vote_score\"\n",
        "COMMENT_COUNT = \"comment_count\"\n",
        "STEAM_PURCHASE = \"steam_purchase\"\n",
        "RECEIVED_FOR_FREE = \"received_for_free\"\n",
        "WRITTEN_DURING_EARLY_ACCESS = \"written_during_early_access\"\n",
        "AUTHOR_STEAMID = \"author_steamid\"\n",
        "AUTHOR_NUM_GAMES_OWNED = \"author_num_games_owned\"\n",
        "AUTHOR_NUM_REVIEWS = \"author_num_reviews\"\n",
        "AUTHOR_PLAYTIME_FOREVER = \"author_playtime_forever\"\n",
        "AUTHOR_PLAYTIME_LAST_TWO_WEEKS = \"author_playtime_last_two_weeks\"\n",
        "AUTHOR_PLAYTIME_AT_REVIEW = \"author_playtime_at_review\"\n",
        "AUTHOR_LAST_PLAYED = \"author_last_played\""
      ],
      "metadata": {
        "id": "I9E8DLlWw2S7"
      },
      "execution_count": 15,
      "outputs": []
    },
    {
      "cell_type": "code",
      "source": [
        "AUX_COL = \"aux\""
      ],
      "metadata": {
        "id": "hLGqP9808n5r"
      },
      "execution_count": 16,
      "outputs": []
    },
    {
      "cell_type": "code",
      "source": [
        "vectorization_schema = StructType() \\\n",
        "    .add(\"review_id\", IntegerType(), True) \\\n",
        "    .add(\"recommended\", IntegerType(), True) \\\n",
        "    .add(\"review\", VectorUDT(), True)"
      ],
      "metadata": {
        "id": "Ws9b-StIhI5U"
      },
      "execution_count": 17,
      "outputs": []
    },
    {
      "cell_type": "code",
      "source": [
        "PRESENTATION_ROW_COUNT = 10"
      ],
      "metadata": {
        "id": "gN6g04VESKVX"
      },
      "execution_count": 103,
      "outputs": []
    },
    {
      "cell_type": "code",
      "source": [
        "RAW_PREDICTION = \"rawPrediction\""
      ],
      "metadata": {
        "id": "KLaSZqNOS3sc"
      },
      "execution_count": 110,
      "outputs": []
    },
    {
      "cell_type": "code",
      "source": [
        "PREDICTION = \"prediction\"\n",
        "LABEL = \"label\""
      ],
      "metadata": {
        "id": "gpezh9Owef0G"
      },
      "execution_count": 301,
      "outputs": []
    },
    {
      "cell_type": "markdown",
      "source": [
        "# Load Data"
      ],
      "metadata": {
        "id": "4xel26baGBEE"
      }
    },
    {
      "cell_type": "code",
      "source": [
        "TEST_DATASET_PATH = \"data/final_dataset_50k_en_recommended_25000per.csv\""
      ],
      "metadata": {
        "id": "ecOuKIxrGD3F"
      },
      "execution_count": 241,
      "outputs": []
    },
    {
      "cell_type": "code",
      "source": [
        "findspark.init()\n",
        "spark = SparkSession.builder.master(\"local\") \\\n",
        "                    .appName(\"Preprocessing reviews\") \\\n",
        "                    .config(\"spark.executor.cores\", \"8\") \\\n",
        "                    .config(\"spark.executor.memory\", \"16g\") \\\n",
        "                    .getOrCreate()"
      ],
      "metadata": {
        "id": "gVh8cvR7Hexe"
      },
      "execution_count": 242,
      "outputs": []
    },
    {
      "cell_type": "code",
      "source": [
        "df = spark.read.format(\"csv\") \\\n",
        "    .option(\"header\", True) \\\n",
        "    .option(\"encoding\", \"utf-8\") \\\n",
        "    .schema(non_null_schema) \\\n",
        "    .load(TEST_DATASET_PATH)"
      ],
      "metadata": {
        "id": "p1lIyM-cHjbm"
      },
      "execution_count": 243,
      "outputs": []
    },
    {
      "cell_type": "code",
      "source": [
        "df.show(PRESENTATION_ROW_COUNT, truncate=False)"
      ],
      "metadata": {
        "colab": {
          "base_uri": "https://localhost:8080/"
        },
        "id": "0MVvZ1kqIMu0",
        "outputId": "1b85b04e-6f71-431a-ce4f-fb413f3b22b3"
      },
      "execution_count": 244,
      "outputs": [
        {
          "output_type": "stream",
          "name": "stdout",
          "text": [
            "+-----+------+------------------------+---------+--------+-----------------------------------------------------------------------------------------------------------------------------------------------------------------------------------------------------------------------------------+-----------------+-----------------+-----------+-------------+-----------+-------------------+-------------+--------------+-----------------+---------------------------+--------------+----------------------+------------------+-----------------------+------------------------------+-------------------------+------------------+\n",
            "|#    |app_id|app_name                |review_id|language|review                                                                                                                                                                                                                             |timestamp_created|timestamp_updated|recommended|votes_helpful|votes_funny|weighted_vote_score|comment_count|steam_purchase|received_for_free|written_during_early_access|author_steamid|author_num_games_owned|author_num_reviews|author_playtime_forever|author_playtime_last_two_weeks|author_playtime_at_review|author_last_played|\n",
            "+-----+------+------------------------+---------+--------+-----------------------------------------------------------------------------------------------------------------------------------------------------------------------------------------------------------------------------------+-----------------+-----------------+-----------+-------------+-----------+-------------------+-------------+--------------+-----------------+---------------------------+--------------+----------------------+------------------+-----------------------+------------------------------+-------------------------+------------------+\n",
            "|2048 |292030|The Witcher 3: Wild Hunt|84794967 |english |.                                                                                                                                                                                                                                  |1610811874       |1610811874       |false      |0            |0          |0.45454547         |0            |true          |false            |false                      |10            |4                     |null              |321.0                  |235.0                         |null                     |null              |\n",
            "|2134 |292030|The Witcher 3: Wild Hunt|84781532 |english |Best GAME NiggyByte.jake.com                                                                                                                                                                                                       |1610795004       |1610795004       |true       |0            |0          |0.0                |0            |true          |true             |false                      |59            |30                    |null              |2965.0                 |215.0                         |null                     |null              |\n",
            "|3678 |292030|The Witcher 3: Wild Hunt|84518667 |english |best game of 2015                                                                                                                                                                                                                  |1610404806       |1610404806       |true       |0            |0          |0.0                |0            |true          |false            |false                      |498           |385                   |null              |1355.0                 |2875.0                        |null                     |null              |\n",
            "|4174 |292030|The Witcher 3: Wild Hunt|84441156 |english |I started this once and found it a bit boring, and had stopped playing. Not sure why, but the second time around I couldn't stop. Great game. I've played on a 1660 and have upgraded to a 3070.  Honestly, it looks great on both.|1610298612       |1610298612       |true       |1            |0          |0.0                |0            |true          |false            |false                      |38            |22                    |null              |346.0                  |3660.0                        |null                     |null              |\n",
            "|6053 |292030|The Witcher 3: Wild Hunt|84168972 |english |game was too hard for me though i have a tested iq of anywhere between 77 and 93                                                                                                                                                   |1609959141       |1609959141       |false      |0            |1          |0.49180326         |0            |true          |false            |false                      |70            |6                     |null              |162.0                  |13342.0                       |null                     |null              |\n",
            "|7647 |292030|The Witcher 3: Wild Hunt|83943596 |english |Fun open world. Lots of mission and side mission to keep the game entertaining.                                                                                                                                                    |1609713661       |1609713661       |true       |0            |0          |0.0                |0            |true          |false            |false                      |1             |1                     |null              |2527.0                 |3012.0                        |null                     |null              |\n",
            "|7799 |292030|The Witcher 3: Wild Hunt|83918031 |english |Great Story, great graphics. I enjoy it                                                                                                                                                                                            |1609692354       |1609692354       |true       |0            |0          |0.0                |0            |true          |false            |false                      |11            |1                     |null              |243.0                  |2578.0                        |null                     |null              |\n",
            "|8200 |292030|The Witcher 3: Wild Hunt|83868393 |english |Awesome.                                                                                                                                                                                                                           |1609640854       |1609640854       |true       |0            |0          |0.0                |0            |true          |false            |false                      |20            |3                     |null              |42.0                   |1004.0                        |null                     |null              |\n",
            "|9202 |292030|The Witcher 3: Wild Hunt|83727382 |english |Nice graphics and story, but terrible combat system and camera, so in general - terrible gameplay.                                                                                                                                 |1609506936       |1609506936       |false      |2            |0          |0.4974966          |0            |true          |false            |false                      |45            |11                    |null              |0.0                    |424.0                         |null                     |null              |\n",
            "|11091|292030|The Witcher 3: Wild Hunt|83469758 |english |old game                                                                                                                                                                                                                           |1609240993       |1609240993       |false      |0            |2          |0.3634361          |0            |false         |false            |false                      |86            |19                    |null              |0.0                    |142.0                         |null                     |null              |\n",
            "+-----+------+------------------------+---------+--------+-----------------------------------------------------------------------------------------------------------------------------------------------------------------------------------------------------------------------------------+-----------------+-----------------+-----------+-------------+-----------+-------------------+-------------+--------------+-----------------+---------------------------+--------------+----------------------+------------------+-----------------------+------------------------------+-------------------------+------------------+\n",
            "only showing top 10 rows\n",
            "\n"
          ]
        }
      ]
    },
    {
      "cell_type": "markdown",
      "source": [
        "# Preprocessing"
      ],
      "metadata": {
        "id": "nAiLE_zhH5EP"
      }
    },
    {
      "cell_type": "markdown",
      "source": [
        "Lowercase"
      ],
      "metadata": {
        "id": "2zUluC2eLaul"
      }
    },
    {
      "cell_type": "code",
      "source": [
        "df = df.withColumn(\"review\", sqlf.lower(sqlf.col(\"review\")))"
      ],
      "metadata": {
        "id": "IxHDnQHQ6IaZ"
      },
      "execution_count": 245,
      "outputs": []
    },
    {
      "cell_type": "markdown",
      "source": [
        "Remove Urls"
      ],
      "metadata": {
        "id": "UNCqFOHbLcHm"
      }
    },
    {
      "cell_type": "code",
      "source": [
        "url_removal = re.compile(r'https?://\\S+')\n",
        "url_remover_udf = sqlf.udf(lambda element: url_removal.sub('', element))\n",
        "df = df.withColumn(\"review\", url_remover_udf(\"review\"))"
      ],
      "metadata": {
        "id": "K4_QsKE06acg"
      },
      "execution_count": 246,
      "outputs": []
    },
    {
      "cell_type": "markdown",
      "source": [
        "Remove Unnecessary Spaces"
      ],
      "metadata": {
        "id": "yz0SQsUMLeyM"
      }
    },
    {
      "cell_type": "code",
      "source": [
        "spaces_remover_udf = sqlf.udf(lambda element: element.replace(\"  \", \" \")\n",
        "                                            .replace(\"\\n\", \" \")\n",
        "                                            .replace(\"\\t\", \" \")\n",
        "                                            .replace(\"\\r\\n\", \" \"))\n",
        "df = df.withColumn(\"review\", spaces_remover_udf(\"review\"))"
      ],
      "metadata": {
        "id": "znPFXpAh65C-"
      },
      "execution_count": 247,
      "outputs": []
    },
    {
      "cell_type": "markdown",
      "source": [
        "Remove Steam Mentions"
      ],
      "metadata": {
        "id": "VnadIPhZLkyP"
      }
    },
    {
      "cell_type": "code",
      "source": [
        "mentions_removal = re.compile(r'(@[A-Za-z0-9]+)')\n",
        "mentions_remover_udf = sqlf.udf(lambda element: mentions_removal.sub(' ', element))\n",
        "df = df.withColumn(\"review\", mentions_remover_udf(\"review\"))"
      ],
      "metadata": {
        "id": "N5sos6dA6t85"
      },
      "execution_count": 248,
      "outputs": []
    },
    {
      "cell_type": "markdown",
      "source": [
        "Remove Emails"
      ],
      "metadata": {
        "id": "BshNYSOALnXP"
      }
    },
    {
      "cell_type": "code",
      "source": [
        "mails_removal = re.compile(r'^[a-z0-9]+[\\._]?[a-z0-9]+[@]\\w+[.]\\w{2,3}$')\n",
        "mails_remover_udf = sqlf.udf(lambda element: mails_removal.sub('', element))\n",
        "df = df.withColumn(\"review\", mails_remover_udf(\"review\"))"
      ],
      "metadata": {
        "id": "nsa2_B3O66-8"
      },
      "execution_count": 249,
      "outputs": []
    },
    {
      "cell_type": "markdown",
      "source": [
        "Remove non essential characters"
      ],
      "metadata": {
        "id": "b6WEp9fXLown"
      }
    },
    {
      "cell_type": "code",
      "source": [
        "non_essential_symbols_removal = re.compile(r'[.,;:?!#-$%^&*()_+={}\\[\\]()//]')\n",
        "non_essential_symbols_remover_udf = sqlf.udf(lambda element: non_essential_symbols_removal.sub('', element))\n",
        "df = df.withColumn(\"review\", non_essential_symbols_remover_udf(\"review\"))"
      ],
      "metadata": {
        "id": "w7x_XkAH68B8"
      },
      "execution_count": 250,
      "outputs": []
    },
    {
      "cell_type": "markdown",
      "source": [
        "Remove digits"
      ],
      "metadata": {
        "id": "IXe8TuscLr0Q"
      }
    },
    {
      "cell_type": "code",
      "source": [
        "digits_removal = re.compile(r'[0123456789]')\n",
        "digits_remover_udf = sqlf.udf(lambda element: digits_removal.sub('', element))\n",
        "df = df.withColumn(\"review\", digits_remover_udf(\"review\"))"
      ],
      "metadata": {
        "id": "58JsKspx6-X0"
      },
      "execution_count": 251,
      "outputs": []
    },
    {
      "cell_type": "markdown",
      "source": [
        "Remove unicode"
      ],
      "metadata": {
        "id": "0XfI6mhDLvlb"
      }
    },
    {
      "cell_type": "code",
      "source": [
        "unicode_remover_udf = sqlf.udf(lambda element: (element.encode(\"ascii\", \"ignore\")).decode())\n",
        "df = df.withColumn(\"review\", unicode_remover_udf(\"review\"))"
      ],
      "metadata": {
        "id": "QzmOcipf6yNi"
      },
      "execution_count": 252,
      "outputs": []
    },
    {
      "cell_type": "markdown",
      "source": [
        "Replace Abbreviations"
      ],
      "metadata": {
        "id": "A58pgxVjLWHE"
      }
    },
    {
      "cell_type": "code",
      "source": [
        "abbreviations_removal = {\n",
        "    'dm': 'direct message',\n",
        "    'pm': 'private message',\n",
        "    'thx': 'thanks',\n",
        "    'cuz': 'because',\n",
        "    'dming': 'direct messaging',\n",
        "    'dmed': 'direct messaged',\n",
        "    'plz': 'please',\n",
        "    'u': 'you',\n",
        "    'youre': 'you are',\n",
        "    'asap': 'as soon as possible',\n",
        "    'r': 'are',\n",
        "    'gg': 'good game',\n",
        "    'gut': 'good',\n",
        "    'gud': 'good',\n",
        "    'gl': 'good luck',\n",
        "    'hf': 'have fun',\n",
        "    'og': 'original gangster',\n",
        "    'nt': 'nice try',\n",
        "    'ofc': 'of course',\n",
        "    'wp': 'well played',\n",
        "    'ez': 'easy',\n",
        "    'bb': 'bye',\n",
        "    'btw': 'by the way',\n",
        "    'aka': 'also known as',\n",
        "    'eg': 'for example',\n",
        "    'fps': 'first person shooter',\n",
        "    'ie': 'that is',\n",
        "    'lol': 'laughing out loud', # or league of legends?\n",
        "    'lvl': 'level',\n",
        "    'pr': 'power rank',\n",
        "    'xp': 'experience points',\n",
        "    'inv': 'invite',\n",
        "    'lfm': 'looking for member', \n",
        "    'wtb': 'want to buy', \n",
        "    'wts': 'want to sell', \n",
        "    'wtt': 'want to trade',\n",
        "}\n",
        "\n",
        "abbreviations_remover_udf = sqlf.udf(lambda element: \" \".join([abbreviations_removal.get(word, word) for word in element.split()]))\n",
        "df = df.withColumn(\"review\", abbreviations_remover_udf(\"review\"))"
      ],
      "metadata": {
        "id": "fAotPM-s7Bmg"
      },
      "execution_count": 253,
      "outputs": []
    },
    {
      "cell_type": "markdown",
      "source": [
        "Remove Stop Words"
      ],
      "metadata": {
        "id": "jLu_M6RIK7_f"
      }
    },
    {
      "cell_type": "code",
      "source": [
        "df = df.withColumn(REVIEW, sqlf.split(sqlf.col(REVIEW), \"\\s+\"))\n",
        "stop_words_remover = StopWordsRemover(\n",
        "    inputCol=REVIEW, outputCol=AUX_COL, locale=\"en_US\")\n",
        "df = stop_words_remover.transform(df)"
      ],
      "metadata": {
        "id": "94X6p7Em7EOR"
      },
      "execution_count": 254,
      "outputs": []
    },
    {
      "cell_type": "code",
      "source": [
        "df = df.drop(REVIEW)\n",
        "df = df.withColumnRenamed(AUX_COL, REVIEW)"
      ],
      "metadata": {
        "id": "4Ac93kju84xB"
      },
      "execution_count": 255,
      "outputs": []
    },
    {
      "cell_type": "markdown",
      "source": [
        "Stemming"
      ],
      "metadata": {
        "id": "99OvbDukK4C_"
      }
    },
    {
      "cell_type": "code",
      "source": [
        "stemmer = PorterStemmer()\n",
        "\n",
        "\n",
        "def stem(input_vector):\n",
        "    output_vector = []\n",
        "    for element in input_vector:\n",
        "        output_vector.append(stemmer.stem(element))\n",
        "    return output_vector\n",
        "\n",
        "\n",
        "stemmer_udf = sqlf.udf(lambda element: stem(element), ArrayType(StringType()))\n",
        "df = df.withColumn(REVIEW, stemmer_udf(REVIEW))"
      ],
      "metadata": {
        "id": "2u__JLDi7N-3"
      },
      "execution_count": 256,
      "outputs": []
    },
    {
      "cell_type": "code",
      "source": [
        "df.show(PRESENTATION_ROW_COUNT, truncate=False)"
      ],
      "metadata": {
        "colab": {
          "base_uri": "https://localhost:8080/"
        },
        "id": "IDGvh4e0M7EL",
        "outputId": "b523b50e-7c7c-4c11-c7f6-34e5c68efb47"
      },
      "execution_count": 257,
      "outputs": [
        {
          "output_type": "stream",
          "name": "stdout",
          "text": [
            "+-----+------+------------------------+---------+--------+-----------------+-----------------+-----------+-------------+-----------+-------------------+-------------+--------------+-----------------+---------------------------+--------------+----------------------+------------------+-----------------------+------------------------------+-------------------------+------------------+-------------------------------------------------------------------------------------------------------------------------+\n",
            "|#    |app_id|app_name                |review_id|language|timestamp_created|timestamp_updated|recommended|votes_helpful|votes_funny|weighted_vote_score|comment_count|steam_purchase|received_for_free|written_during_early_access|author_steamid|author_num_games_owned|author_num_reviews|author_playtime_forever|author_playtime_last_two_weeks|author_playtime_at_review|author_last_played|review                                                                                                                   |\n",
            "+-----+------+------------------------+---------+--------+-----------------+-----------------+-----------+-------------+-----------+-------------------+-------------+--------------+-----------------+---------------------------+--------------+----------------------+------------------+-----------------------+------------------------------+-------------------------+------------------+-------------------------------------------------------------------------------------------------------------------------+\n",
            "|2048 |292030|The Witcher 3: Wild Hunt|84794967 |english |1610811874       |1610811874       |false      |0            |0          |0.45454547         |0            |true          |false            |false                      |10            |4                     |null              |321.0                  |235.0                         |null                     |null              |[]                                                                                                                       |\n",
            "|2134 |292030|The Witcher 3: Wild Hunt|84781532 |english |1610795004       |1610795004       |true       |0            |0          |0.0                |0            |true          |true             |false                      |59            |30                    |null              |2965.0                 |215.0                         |null                     |null              |[best, game, niggybytejakecom]                                                                                           |\n",
            "|3678 |292030|The Witcher 3: Wild Hunt|84518667 |english |1610404806       |1610404806       |true       |0            |0          |0.0                |0            |true          |false            |false                      |498           |385                   |null              |1355.0                 |2875.0                        |null                     |null              |[best, game]                                                                                                             |\n",
            "|4174 |292030|The Witcher 3: Wild Hunt|84441156 |english |1610298612       |1610298612       |true       |1            |0          |0.0                |0            |true          |false            |false                      |38            |22                    |null              |346.0                  |3660.0                        |null                     |null              |[start, found, bit, bore, stop, play, sure, second, time, around, stop, great, game, play, upgrad, honestli, look, great]|\n",
            "|6053 |292030|The Witcher 3: Wild Hunt|84168972 |english |1609959141       |1609959141       |false      |0            |1          |0.49180326         |0            |true          |false            |false                      |70            |6                     |null              |162.0                  |13342.0                       |null                     |null              |[game, hard, though, test, iq, anywher]                                                                                  |\n",
            "|7647 |292030|The Witcher 3: Wild Hunt|83943596 |english |1609713661       |1609713661       |true       |0            |0          |0.0                |0            |true          |false            |false                      |1             |1                     |null              |2527.0                 |3012.0                        |null                     |null              |[fun, open, world, lot, mission, side, mission, keep, game, entertain]                                                   |\n",
            "|7799 |292030|The Witcher 3: Wild Hunt|83918031 |english |1609692354       |1609692354       |true       |0            |0          |0.0                |0            |true          |false            |false                      |11            |1                     |null              |243.0                  |2578.0                        |null                     |null              |[great, stori, great, graphic, enjoy]                                                                                    |\n",
            "|8200 |292030|The Witcher 3: Wild Hunt|83868393 |english |1609640854       |1609640854       |true       |0            |0          |0.0                |0            |true          |false            |false                      |20            |3                     |null              |42.0                   |1004.0                        |null                     |null              |[awesom]                                                                                                                 |\n",
            "|9202 |292030|The Witcher 3: Wild Hunt|83727382 |english |1609506936       |1609506936       |false      |2            |0          |0.4974966          |0            |true          |false            |false                      |45            |11                    |null              |0.0                    |424.0                         |null                     |null              |[nice, graphic, stori, terribl, combat, system, camera, gener, -, terribl, gameplay]                                     |\n",
            "|11091|292030|The Witcher 3: Wild Hunt|83469758 |english |1609240993       |1609240993       |false      |0            |2          |0.3634361          |0            |false         |false            |false                      |86            |19                    |null              |0.0                    |142.0                         |null                     |null              |[old, game]                                                                                                              |\n",
            "+-----+------+------------------------+---------+--------+-----------------+-----------------+-----------+-------------+-----------+-------------------+-------------+--------------+-----------------+---------------------------+--------------+----------------------+------------------+-----------------------+------------------------------+-------------------------+------------------+-------------------------------------------------------------------------------------------------------------------------+\n",
            "only showing top 10 rows\n",
            "\n"
          ]
        }
      ]
    },
    {
      "cell_type": "markdown",
      "source": [
        "# Data Augmentation"
      ],
      "metadata": {
        "id": "KKSaB01YMwWY"
      }
    },
    {
      "cell_type": "code",
      "source": [
        "def embedded_with_threshold(df, col, threshold, tag):\n",
        "  df = df.withColumn(\n",
        "            AUX_COL,\n",
        "            sqlf.when(sqlf.col(col) >= threshold, \n",
        "                  sqlf.array_union(df.review, sqlf.array(sqlf.lit(tag))))\n",
        "            .otherwise(sqlf.col(REVIEW))\n",
        "        )\n",
        "  df = df.drop(REVIEW)\n",
        "  df = df.withColumnRenamed(AUX_COL, REVIEW)\n",
        "  return df\n",
        "def embedded_with_boolean(df, col, value, tag):\n",
        "  df = df.withColumn(\n",
        "            AUX_COL,\n",
        "            sqlf.when(sqlf.col(col) == value, \n",
        "                  sqlf.array_union(df.review, sqlf.array(sqlf.lit(tag))))\n",
        "            .otherwise(sqlf.col(REVIEW))\n",
        "        )\n",
        "  df = df.drop(REVIEW)\n",
        "  df = df.withColumnRenamed(AUX_COL, REVIEW)\n",
        "  return df"
      ],
      "metadata": {
        "id": "Td7-BNicNnng"
      },
      "execution_count": 258,
      "outputs": []
    },
    {
      "cell_type": "code",
      "source": [
        "df = df.withColumn(\n",
        "    AUX_COL, \n",
        "    sqlf.array_union(df.review, sqlf.array(sqlf.lit(df.app_id.cast(StringType()))))\n",
        ")"
      ],
      "metadata": {
        "id": "Ls-jU5tYKgcx"
      },
      "execution_count": 259,
      "outputs": []
    },
    {
      "cell_type": "code",
      "source": [
        "df = df.drop(REVIEW)\n",
        "df = df.withColumnRenamed(AUX_COL, REVIEW)"
      ],
      "metadata": {
        "id": "4jEDsaDEKwq7"
      },
      "execution_count": 260,
      "outputs": []
    },
    {
      "cell_type": "code",
      "source": [
        "df = embedded_with_threshold(df, VOTES_FUNNY, 2.0, \"[FUNNY]\")"
      ],
      "metadata": {
        "id": "mbuWk_3LLxjZ"
      },
      "execution_count": 261,
      "outputs": []
    },
    {
      "cell_type": "code",
      "source": [
        "df = embedded_with_threshold(df, VOTES_HELPFUL, 3.0, \"[HELPFUL]\")"
      ],
      "metadata": {
        "id": "PKkZN9i9OpMB"
      },
      "execution_count": 262,
      "outputs": []
    },
    {
      "cell_type": "code",
      "source": [
        "df = embedded_with_threshold(df, COMMENT_COUNT, 1.0, \"[WITH_COMMENTS]\")"
      ],
      "metadata": {
        "id": "G9Nwf4OhOchz"
      },
      "execution_count": 263,
      "outputs": []
    },
    {
      "cell_type": "code",
      "source": [
        "df = embedded_with_threshold(df, AUTHOR_PLAYTIME_FOREVER, 10.0, \"[LONG_PLAYTIME]\")"
      ],
      "metadata": {
        "id": "9X2AQ4_OPamz"
      },
      "execution_count": 264,
      "outputs": []
    },
    {
      "cell_type": "code",
      "source": [
        "df = embedded_with_threshold(df, AUTHOR_PLAYTIME_FOREVER, 2.0, \"[BIGGER_COLLECTION]\")"
      ],
      "metadata": {
        "id": "85y7726VRzN_"
      },
      "execution_count": 265,
      "outputs": []
    },
    {
      "cell_type": "code",
      "source": [
        "df = embedded_with_boolean(df, WRITTEN_DURING_EARLY_ACCESS, True, \"[EA]\")"
      ],
      "metadata": {
        "id": "l3_6ga8aUVpo"
      },
      "execution_count": 266,
      "outputs": []
    },
    {
      "cell_type": "code",
      "source": [
        "df = embedded_with_boolean(df, RECEIVED_FOR_FREE, True, \"[FREE]\")"
      ],
      "metadata": {
        "id": "yzuvWtnoUgZ4"
      },
      "execution_count": 267,
      "outputs": []
    },
    {
      "cell_type": "code",
      "source": [
        "df = embedded_with_boolean(df, STEAM_PURCHASE, False, \"[BOUGHT_ELSEWHERE]\")"
      ],
      "metadata": {
        "id": "L_BWnxcKUgPA"
      },
      "execution_count": 268,
      "outputs": []
    },
    {
      "cell_type": "code",
      "source": [
        "df.select(REVIEW, RECOMMENDED).show(PRESENTATION_ROW_COUNT, truncate=False)"
      ],
      "metadata": {
        "colab": {
          "base_uri": "https://localhost:8080/"
        },
        "id": "PmG9lV_rMzUL",
        "outputId": "b0b46e40-dd35-45c8-aeaa-1faeb8696785"
      },
      "execution_count": 269,
      "outputs": [
        {
          "output_type": "stream",
          "name": "stdout",
          "text": [
            "+----------------------------------------------------------------------------------------------------------------------------------------------------+-----------+\n",
            "|review                                                                                                                                              |recommended|\n",
            "+----------------------------------------------------------------------------------------------------------------------------------------------------+-----------+\n",
            "|[, 292030, [LONG_PLAYTIME], [BIGGER_COLLECTION]]                                                                                                    |false      |\n",
            "|[best, game, niggybytejakecom, 292030, [LONG_PLAYTIME], [BIGGER_COLLECTION], [FREE]]                                                                |true       |\n",
            "|[best, game, 292030, [LONG_PLAYTIME], [BIGGER_COLLECTION]]                                                                                          |true       |\n",
            "|[start, found, bit, bore, stop, play, sure, second, time, around, great, game, upgrad, honestli, look, 292030, [LONG_PLAYTIME], [BIGGER_COLLECTION]]|true       |\n",
            "|[game, hard, though, test, iq, anywher, 292030, [LONG_PLAYTIME], [BIGGER_COLLECTION]]                                                               |false      |\n",
            "|[fun, open, world, lot, mission, side, keep, game, entertain, 292030, [LONG_PLAYTIME], [BIGGER_COLLECTION]]                                         |true       |\n",
            "|[great, stori, graphic, enjoy, 292030, [LONG_PLAYTIME], [BIGGER_COLLECTION]]                                                                        |true       |\n",
            "|[awesom, 292030, [LONG_PLAYTIME], [BIGGER_COLLECTION]]                                                                                              |true       |\n",
            "|[nice, graphic, stori, terribl, combat, system, camera, gener, -, gameplay, 292030]                                                                 |false      |\n",
            "|[old, game, 292030, [FUNNY], [BOUGHT_ELSEWHERE]]                                                                                                    |false      |\n",
            "+----------------------------------------------------------------------------------------------------------------------------------------------------+-----------+\n",
            "only showing top 10 rows\n",
            "\n"
          ]
        }
      ]
    },
    {
      "cell_type": "markdown",
      "source": [
        "# Tokenization"
      ],
      "metadata": {
        "id": "p0MUA6w1OLeH"
      }
    },
    {
      "cell_type": "markdown",
      "source": [
        " Load TFIDF and BOW Tokenizers"
      ],
      "metadata": {
        "id": "2RRIrgtqOiH8"
      }
    },
    {
      "cell_type": "code",
      "source": [
        "CV_SAVE_PATH = \"models/cv_model\""
      ],
      "metadata": {
        "id": "bK8hjH_VPWI7"
      },
      "execution_count": 270,
      "outputs": []
    },
    {
      "cell_type": "code",
      "source": [
        "TFIDF_SAVE_PATH = \"models/idf_model\""
      ],
      "metadata": {
        "id": "x5Ly0uYUONnF"
      },
      "execution_count": 271,
      "outputs": []
    },
    {
      "cell_type": "code",
      "source": [
        "cv = CountVectorizerModel.load(CV_SAVE_PATH)"
      ],
      "metadata": {
        "id": "tE8EPvT6PadG"
      },
      "execution_count": 272,
      "outputs": []
    },
    {
      "cell_type": "code",
      "source": [
        "idf = IDFModel.load(TFIDF_SAVE_PATH)"
      ],
      "metadata": {
        "id": "BnaUVu24OrPq"
      },
      "execution_count": 273,
      "outputs": []
    },
    {
      "cell_type": "markdown",
      "source": [
        "Transform to BOW vectors"
      ],
      "metadata": {
        "id": "BKR6weVhQBwK"
      }
    },
    {
      "cell_type": "code",
      "source": [
        "df = cv.transform(df)\n",
        "df = df.drop(REVIEW)\n",
        "df = df.withColumnRenamed(AUX_COL, REVIEW)"
      ],
      "metadata": {
        "id": "vAjAMXgNPyro"
      },
      "execution_count": 274,
      "outputs": []
    },
    {
      "cell_type": "code",
      "source": [
        "df.select(REVIEW, RECOMMENDED).show(PRESENTATION_ROW_COUNT, truncate=False)"
      ],
      "metadata": {
        "colab": {
          "base_uri": "https://localhost:8080/"
        },
        "id": "X3BkrOWyOuxX",
        "outputId": "683b35b5-af17-46c7-f910-879fce119336"
      },
      "execution_count": 275,
      "outputs": [
        {
          "output_type": "stream",
          "name": "stdout",
          "text": [
            "+----------------------------------------------------------------------------------------------------------------------------------------------+-----------+\n",
            "|review                                                                                                                                        |recommended|\n",
            "+----------------------------------------------------------------------------------------------------------------------------------------------+-----------+\n",
            "|(10817,[3,4,97,184],[1.0,1.0,1.0,1.0])                                                                                                        |false      |\n",
            "|(10817,[0,3,4,24,62,184],[1.0,1.0,1.0,1.0,1.0,1.0])                                                                                           |true       |\n",
            "|(10817,[0,3,4,24,184],[1.0,1.0,1.0,1.0,1.0])                                                                                                  |true       |\n",
            "|(10817,[0,2,3,4,11,13,58,63,79,122,143,184,200,206,237,261,423,690],[1.0,1.0,1.0,1.0,1.0,1.0,1.0,1.0,1.0,1.0,1.0,1.0,1.0,1.0,1.0,1.0,1.0,1.0])|true       |\n",
            "|(10817,[0,3,4,114,152,184,789,1024,3362],[1.0,1.0,1.0,1.0,1.0,1.0,1.0,1.0,1.0])                                                               |false      |\n",
            "|(10817,[0,3,4,7,46,91,140,184,195,288,477,487],[1.0,1.0,1.0,1.0,1.0,1.0,1.0,1.0,1.0,1.0,1.0,1.0])                                             |true       |\n",
            "|(10817,[3,4,13,64,66,92,184],[1.0,1.0,1.0,1.0,1.0,1.0,1.0])                                                                                   |true       |\n",
            "|(10817,[3,4,132,184],[1.0,1.0,1.0,1.0])                                                                                                       |true       |\n",
            "|(10817,[64,68,84,92,109,127,133,168,184,398,2015],[1.0,1.0,1.0,1.0,1.0,1.0,1.0,1.0,1.0,1.0,1.0])                                              |false      |\n",
            "|(10817,[0,1,15,184,235],[1.0,1.0,1.0,1.0,1.0])                                                                                                |false      |\n",
            "+----------------------------------------------------------------------------------------------------------------------------------------------+-----------+\n",
            "only showing top 10 rows\n",
            "\n"
          ]
        }
      ]
    },
    {
      "cell_type": "markdown",
      "source": [
        "Transform to TFIDF vectors"
      ],
      "metadata": {
        "id": "tfpL-uXRQVxu"
      }
    },
    {
      "cell_type": "code",
      "source": [
        "df = idf.transform(df)\n",
        "df = df.drop(REVIEW)\n",
        "df = df.withColumnRenamed(AUX_COL, REVIEW)"
      ],
      "metadata": {
        "id": "YptN9kY4PRXT"
      },
      "execution_count": 276,
      "outputs": []
    },
    {
      "cell_type": "code",
      "source": [
        "df.select(REVIEW, RECOMMENDED).show(PRESENTATION_ROW_COUNT, truncate=False)"
      ],
      "metadata": {
        "colab": {
          "base_uri": "https://localhost:8080/"
        },
        "id": "fp01-QfjQbx5",
        "outputId": "6b50cab1-b52e-43c8-82d1-c6fc4d9bacb3"
      },
      "execution_count": 277,
      "outputs": [
        {
          "output_type": "stream",
          "name": "stdout",
          "text": [
            "+---------------------------------------------------------------------------------------------------------------------------------------------------------------------------------------------------------------------------------------------------------------------------------------------------------------------------------------------------------------------------------------------------------------+-----------+\n",
            "|review                                                                                                                                                                                                                                                                                                                                                                                                         |recommended|\n",
            "+---------------------------------------------------------------------------------------------------------------------------------------------------------------------------------------------------------------------------------------------------------------------------------------------------------------------------------------------------------------------------------------------------------------+-----------+\n",
            "|(10817,[3,4,97,184],[1.8212661372761738,1.8786432498594763,3.955463558059438,4.454146794999703])                                                                                                                                                                                                                                                                                                               |false      |\n",
            "|(10817,[0,3,4,24,62,184],[0.6855562531787913,1.8212661372761738,1.8786432498594763,3.031869716000307,3.5658299151679542,4.454146794999703])                                                                                                                                                                                                                                                                    |true       |\n",
            "|(10817,[0,3,4,24,184],[0.6855562531787913,1.8212661372761738,1.8786432498594763,3.031869716000307,4.454146794999703])                                                                                                                                                                                                                                                                                          |true       |\n",
            "|(10817,[0,2,3,4,11,13,58,63,79,122,143,184,200,206,237,261,423,690],[0.6855562531787913,1.698401720089476,1.8212661372761738,1.8786432498594763,2.528137800261685,2.64388145957394,3.5517451752862153,3.5729473829368184,3.7146755427655194,4.10787055828187,4.224130364397731,4.454146794999703,4.534908151644162,4.582764172821797,4.696877479589218,4.776920187262754,5.218752939541793,5.7420010833063415])|true       |\n",
            "|(10817,[0,3,4,114,152,184,789,1024,3362],[0.6855562531787913,1.8212661372761738,1.8786432498594763,4.066073429603408,4.273263052975376,4.454146794999703,5.9119001201017385,6.212004712552077,7.821442624986177])                                                                                                                                                                                              |false      |\n",
            "|(10817,[0,3,4,7,46,91,140,184,195,288,477,487],[0.6855562531787913,1.8212661372761738,1.8786432498594763,2.1421236225083504,3.484151884153687,3.837098957978405,4.217304399327332,4.454146794999703,4.525605758981848,4.903671892901898,5.336535975198177,5.357589384396009])                                                                                                                                  |true       |\n",
            "|(10817,[3,4,13,64,66,92,184],[1.8212661372761738,1.8786432498594763,2.64388145957394,3.576525204284702,3.5837194799187295,3.8511507114340553,4.454146794999703])                                                                                                                                                                                                                                               |true       |\n",
            "|(10817,[3,4,132,184],[1.8212661372761738,1.8786432498594763,4.183856465259791,4.454146794999703])                                                                                                                                                                                                                                                                                                              |true       |\n",
            "|(10817,[64,68,84,92,109,127,133,168,184,398,2015],[3.576525204284702,3.613025606504229,3.7481514719619087,3.8511507114340553,4.037252991067916,4.120140650873684,4.190457149291143,4.363549899647476,4.454146794999703,5.164685718271517,7.261826837050754])                                                                                                                                                   |false      |\n",
            "|(10817,[0,1,15,184,235],[0.6855562531787913,1.4644672852770635,2.721576197161979,4.454146794999703,4.685948409057028])                                                                                                                                                                                                                                                                                         |false      |\n",
            "+---------------------------------------------------------------------------------------------------------------------------------------------------------------------------------------------------------------------------------------------------------------------------------------------------------------------------------------------------------------------------------------------------------------+-----------+\n",
            "only showing top 10 rows\n",
            "\n"
          ]
        }
      ]
    },
    {
      "cell_type": "markdown",
      "source": [
        "# ML Model Prediction Phase"
      ],
      "metadata": {
        "id": "NrY2qVOHQm6C"
      }
    },
    {
      "cell_type": "markdown",
      "source": [
        "Load ML models"
      ],
      "metadata": {
        "id": "Hcqfgo_8RAHr"
      }
    },
    {
      "cell_type": "code",
      "source": [
        "IDF_SVM_PATH = \"models/svm_idf\""
      ],
      "metadata": {
        "id": "WizOH07QQcsx"
      },
      "execution_count": 278,
      "outputs": []
    },
    {
      "cell_type": "code",
      "source": [
        "svm_idf = LinearSVCModel.load(IDF_SVM_PATH)"
      ],
      "metadata": {
        "id": "Xy53oW07RDZR"
      },
      "execution_count": 279,
      "outputs": []
    },
    {
      "cell_type": "markdown",
      "source": [
        "Select relevant columns from dataset"
      ],
      "metadata": {
        "id": "LeTjRmejRcO3"
      }
    },
    {
      "cell_type": "code",
      "source": [
        "df = df.select(REVIEW_ID, REVIEW, RECOMMENDED)"
      ],
      "metadata": {
        "id": "xR9e2a6FRFSq"
      },
      "execution_count": 280,
      "outputs": []
    },
    {
      "cell_type": "code",
      "source": [
        "df = df.withColumn(RECOMMENDED,df.recommended.cast('integer'))"
      ],
      "metadata": {
        "id": "sIIQkwh8Rn15"
      },
      "execution_count": 281,
      "outputs": []
    },
    {
      "cell_type": "code",
      "source": [
        "df.select(RECOMMENDED, REVIEW).show(PRESENTATION_ROW_COUNT, truncate=False)"
      ],
      "metadata": {
        "colab": {
          "base_uri": "https://localhost:8080/"
        },
        "id": "Yx-N95QkRpvx",
        "outputId": "13611ce5-9112-4077-843b-dddbabe13b4e"
      },
      "execution_count": 282,
      "outputs": [
        {
          "output_type": "stream",
          "name": "stdout",
          "text": [
            "+-----------+---------------------------------------------------------------------------------------------------------------------------------------------------------------------------------------------------------------------------------------------------------------------------------------------------------------------------------------------------------------------------------------------------------------+\n",
            "|recommended|review                                                                                                                                                                                                                                                                                                                                                                                                         |\n",
            "+-----------+---------------------------------------------------------------------------------------------------------------------------------------------------------------------------------------------------------------------------------------------------------------------------------------------------------------------------------------------------------------------------------------------------------------+\n",
            "|0          |(10817,[3,4,97,184],[1.8212661372761738,1.8786432498594763,3.955463558059438,4.454146794999703])                                                                                                                                                                                                                                                                                                               |\n",
            "|1          |(10817,[0,3,4,24,62,184],[0.6855562531787913,1.8212661372761738,1.8786432498594763,3.031869716000307,3.5658299151679542,4.454146794999703])                                                                                                                                                                                                                                                                    |\n",
            "|1          |(10817,[0,3,4,24,184],[0.6855562531787913,1.8212661372761738,1.8786432498594763,3.031869716000307,4.454146794999703])                                                                                                                                                                                                                                                                                          |\n",
            "|1          |(10817,[0,2,3,4,11,13,58,63,79,122,143,184,200,206,237,261,423,690],[0.6855562531787913,1.698401720089476,1.8212661372761738,1.8786432498594763,2.528137800261685,2.64388145957394,3.5517451752862153,3.5729473829368184,3.7146755427655194,4.10787055828187,4.224130364397731,4.454146794999703,4.534908151644162,4.582764172821797,4.696877479589218,4.776920187262754,5.218752939541793,5.7420010833063415])|\n",
            "|0          |(10817,[0,3,4,114,152,184,789,1024,3362],[0.6855562531787913,1.8212661372761738,1.8786432498594763,4.066073429603408,4.273263052975376,4.454146794999703,5.9119001201017385,6.212004712552077,7.821442624986177])                                                                                                                                                                                              |\n",
            "|1          |(10817,[0,3,4,7,46,91,140,184,195,288,477,487],[0.6855562531787913,1.8212661372761738,1.8786432498594763,2.1421236225083504,3.484151884153687,3.837098957978405,4.217304399327332,4.454146794999703,4.525605758981848,4.903671892901898,5.336535975198177,5.357589384396009])                                                                                                                                  |\n",
            "|1          |(10817,[3,4,13,64,66,92,184],[1.8212661372761738,1.8786432498594763,2.64388145957394,3.576525204284702,3.5837194799187295,3.8511507114340553,4.454146794999703])                                                                                                                                                                                                                                               |\n",
            "|1          |(10817,[3,4,132,184],[1.8212661372761738,1.8786432498594763,4.183856465259791,4.454146794999703])                                                                                                                                                                                                                                                                                                              |\n",
            "|0          |(10817,[64,68,84,92,109,127,133,168,184,398,2015],[3.576525204284702,3.613025606504229,3.7481514719619087,3.8511507114340553,4.037252991067916,4.120140650873684,4.190457149291143,4.363549899647476,4.454146794999703,5.164685718271517,7.261826837050754])                                                                                                                                                   |\n",
            "|0          |(10817,[0,1,15,184,235],[0.6855562531787913,1.4644672852770635,2.721576197161979,4.454146794999703,4.685948409057028])                                                                                                                                                                                                                                                                                         |\n",
            "+-----------+---------------------------------------------------------------------------------------------------------------------------------------------------------------------------------------------------------------------------------------------------------------------------------------------------------------------------------------------------------------------------------------------------------------+\n",
            "only showing top 10 rows\n",
            "\n"
          ]
        }
      ]
    },
    {
      "cell_type": "code",
      "source": [
        "df.printSchema()"
      ],
      "metadata": {
        "colab": {
          "base_uri": "https://localhost:8080/"
        },
        "id": "EsQUIbveVo75",
        "outputId": "8f6c04a6-5ab2-4b81-d44d-51b77f066c6c"
      },
      "execution_count": 283,
      "outputs": [
        {
          "output_type": "stream",
          "name": "stdout",
          "text": [
            "root\n",
            " |-- review_id: integer (nullable = true)\n",
            " |-- review: vector (nullable = true)\n",
            " |-- recommended: integer (nullable = true)\n",
            "\n"
          ]
        }
      ]
    },
    {
      "cell_type": "markdown",
      "source": [
        "Predict SVM"
      ],
      "metadata": {
        "id": "zQEfi88nR9WG"
      }
    },
    {
      "cell_type": "code",
      "source": [
        "df_svm_results = svm_idf.transform(df)"
      ],
      "metadata": {
        "id": "ZBNd8wq2R-7N"
      },
      "execution_count": 293,
      "outputs": []
    },
    {
      "cell_type": "code",
      "source": [
        "df_svm_results = df_svm_results.select(REVIEW_ID, RECOMMENDED, PREDICTION)"
      ],
      "metadata": {
        "id": "XrX1JbEwbks6"
      },
      "execution_count": 296,
      "outputs": []
    },
    {
      "cell_type": "markdown",
      "source": [
        "Predict NaiveBayes"
      ],
      "metadata": {
        "id": "5_-_lu5OhY5A"
      }
    },
    {
      "cell_type": "code",
      "source": [],
      "metadata": {
        "id": "fE-5Ljs0hapR"
      },
      "execution_count": null,
      "outputs": []
    },
    {
      "cell_type": "markdown",
      "source": [
        "# Analyzing Results"
      ],
      "metadata": {
        "id": "pkyMntEhRJzF"
      }
    },
    {
      "cell_type": "code",
      "source": [
        "df_svm_results.show(PRESENTATION_ROW_COUNT, truncate=False)"
      ],
      "metadata": {
        "colab": {
          "base_uri": "https://localhost:8080/"
        },
        "id": "49qAWDe-RK8r",
        "outputId": "26b510c7-73c0-440f-c69d-d8db2246e57a"
      },
      "execution_count": 297,
      "outputs": [
        {
          "output_type": "stream",
          "name": "stdout",
          "text": [
            "+---------+-----------+----------+\n",
            "|review_id|recommended|Prediction|\n",
            "+---------+-----------+----------+\n",
            "|84794967 |0          |1.0       |\n",
            "|84781532 |1          |1.0       |\n",
            "|84518667 |1          |1.0       |\n",
            "|84441156 |1          |1.0       |\n",
            "|84168972 |0          |1.0       |\n",
            "|83943596 |1          |1.0       |\n",
            "|83918031 |1          |1.0       |\n",
            "|83868393 |1          |1.0       |\n",
            "|83727382 |0          |0.0       |\n",
            "|83469758 |0          |0.0       |\n",
            "+---------+-----------+----------+\n",
            "only showing top 10 rows\n",
            "\n"
          ]
        }
      ]
    },
    {
      "cell_type": "code",
      "source": [
        "def get_confusion_matrix(df):\n",
        "  df = df.drop(REVIEW_ID)\n",
        "  df = df.withColumnRenamed(RECOMMENDED, LABEL)\n",
        "  df = df.withColumn(LABEL, df.label.cast(\"double\"))\n",
        "  metrics = MulticlassMetrics(df.rdd)\n",
        "  return metrics.confusionMatrix().toArray()"
      ],
      "metadata": {
        "id": "Mjj1xh4GfoY0"
      },
      "execution_count": 307,
      "outputs": []
    },
    {
      "cell_type": "code",
      "source": [
        "def print_metrics(cm):\n",
        "  accuracy=(cm[0][0]+cm[1][1])/cm.sum()\n",
        "  precision=(cm[0][0])/(cm[0][0]+cm[1][0])\n",
        "  recall=(cm[0][0])/(cm[0][0]+cm[0][1])\n",
        "  f1=2* (precision * recall) / (precision+recall)\n",
        "  print(\n",
        "      f\"Accuracy: {accuracy}\\n\"\n",
        "      f\"Precision: {precision}\\n\"\n",
        "      f\"Recall: {recall}\\n\"\n",
        "      f\"F-1: {f1}\\n\"\n",
        "  )"
      ],
      "metadata": {
        "id": "lAHrhAzVgcAW"
      },
      "execution_count": 315,
      "outputs": []
    },
    {
      "cell_type": "markdown",
      "source": [
        "SVM"
      ],
      "metadata": {
        "id": "2DtcXNHEfLog"
      }
    },
    {
      "cell_type": "code",
      "source": [
        "svm_confusion_matrix = get_confusion_matrix(df_svm_results)"
      ],
      "metadata": {
        "colab": {
          "base_uri": "https://localhost:8080/"
        },
        "id": "9DPvMCTQeIt5",
        "outputId": "c776ce3b-4683-486d-ccc7-ea0800d05988"
      },
      "execution_count": 308,
      "outputs": [
        {
          "output_type": "stream",
          "name": "stderr",
          "text": [
            "/usr/local/lib/python3.8/dist-packages/pyspark/sql/context.py:157: FutureWarning: Deprecated in 3.0.0. Use SparkSession.builder.getOrCreate() instead.\n",
            "  warnings.warn(\n"
          ]
        }
      ]
    },
    {
      "cell_type": "code",
      "source": [
        "svm_confusion_matrix"
      ],
      "metadata": {
        "colab": {
          "base_uri": "https://localhost:8080/"
        },
        "id": "I-CH-sQNg10n",
        "outputId": "1b3dfc70-a213-44f2-eb91-c006d0ec263f"
      },
      "execution_count": 310,
      "outputs": [
        {
          "output_type": "execute_result",
          "data": {
            "text/plain": [
              "array([[20590.,  4283.],\n",
              "       [ 4650., 20817.]])"
            ]
          },
          "metadata": {},
          "execution_count": 310
        }
      ]
    },
    {
      "cell_type": "code",
      "source": [
        "print_metrics(svm_confusion_matrix)"
      ],
      "metadata": {
        "colab": {
          "base_uri": "https://localhost:8080/"
        },
        "id": "Qgt89WDWgHms",
        "outputId": "5a4d0fbe-e705-4261-df22-8fedba3c71b5"
      },
      "execution_count": 316,
      "outputs": [
        {
          "output_type": "stream",
          "name": "stdout",
          "text": [
            "Accuracy: 0.8225466825586015\n",
            "Precision: 0.8157686212361331\n",
            "Recall: 0.827805250673421\n",
            "F-1: 0.8217428611338375\n",
            "\n"
          ]
        }
      ]
    },
    {
      "cell_type": "markdown",
      "source": [
        "NaiveBayes"
      ],
      "metadata": {
        "id": "NPvlhG_ZhM-6"
      }
    },
    {
      "cell_type": "code",
      "source": [],
      "metadata": {
        "id": "GkdQ0UuSg5dd"
      },
      "execution_count": null,
      "outputs": []
    }
  ]
}
{
  "nbformat": 4,
  "nbformat_minor": 0,
  "metadata": {
    "colab": {
      "provenance": [],
      "collapsed_sections": [
        "XOCeS2XNNmJt",
        "Vh8kc67VxdNN",
        "6QnTvhXLw1Kd",
        "4BDVOI-JybrK",
        "Uwd04QYQbKM-"
      ]
    },
    "kernelspec": {
      "name": "python3",
      "display_name": "Python 3"
    },
    "language_info": {
      "name": "python"
    }
  },
  "cells": [
    {
      "cell_type": "markdown",
      "source": [
        "## Install packages"
      ],
      "metadata": {
        "id": "XOCeS2XNNmJt"
      }
    },
    {
      "cell_type": "code",
      "source": [
        "!pip install findspark\n",
        "!pip install pyspark"
      ],
      "metadata": {
        "colab": {
          "base_uri": "https://localhost:8080/"
        },
        "id": "N6wT1dReNp8A",
        "outputId": "6054844b-aae5-4352-a265-5c3ca475bb51"
      },
      "execution_count": 1,
      "outputs": [
        {
          "output_type": "stream",
          "name": "stdout",
          "text": [
            "Looking in indexes: https://pypi.org/simple, https://us-python.pkg.dev/colab-wheels/public/simple/\n",
            "Collecting findspark\n",
            "  Downloading findspark-2.0.1-py2.py3-none-any.whl (4.4 kB)\n",
            "Installing collected packages: findspark\n",
            "Successfully installed findspark-2.0.1\n",
            "Looking in indexes: https://pypi.org/simple, https://us-python.pkg.dev/colab-wheels/public/simple/\n",
            "Collecting pyspark\n",
            "  Downloading pyspark-3.3.1.tar.gz (281.4 MB)\n",
            "\u001b[K     |████████████████████████████████| 281.4 MB 38 kB/s \n",
            "\u001b[?25hCollecting py4j==0.10.9.5\n",
            "  Downloading py4j-0.10.9.5-py2.py3-none-any.whl (199 kB)\n",
            "\u001b[K     |████████████████████████████████| 199 kB 45.3 MB/s \n",
            "\u001b[?25hBuilding wheels for collected packages: pyspark\n",
            "  Building wheel for pyspark (setup.py) ... \u001b[?25l\u001b[?25hdone\n",
            "  Created wheel for pyspark: filename=pyspark-3.3.1-py2.py3-none-any.whl size=281845512 sha256=224cd5598efca2bc8e0ec576f5f77ffc1c17fb0cfe20cab462ad40b1c0e0442a\n",
            "  Stored in directory: /root/.cache/pip/wheels/43/dc/11/ec201cd671da62fa9c5cc77078235e40722170ceba231d7598\n",
            "Successfully built pyspark\n",
            "Installing collected packages: py4j, pyspark\n",
            "Successfully installed py4j-0.10.9.5 pyspark-3.3.1\n"
          ]
        }
      ]
    },
    {
      "cell_type": "markdown",
      "source": [
        "# Imports and Env"
      ],
      "metadata": {
        "id": "Vh8kc67VxdNN"
      }
    },
    {
      "cell_type": "code",
      "source": [
        "from sklearn.decomposition import SparsePCA\n",
        "import seaborn as sns\n",
        "import pandas as pd"
      ],
      "metadata": {
        "id": "xyxqfImqs6Sj"
      },
      "execution_count": 7,
      "outputs": []
    },
    {
      "cell_type": "code",
      "source": [
        "sns.set(rc={'figure.figsize':(11.7,8.27)})"
      ],
      "metadata": {
        "id": "9DvFwpcpyJj0"
      },
      "execution_count": 8,
      "outputs": []
    },
    {
      "cell_type": "code",
      "source": [
        "from pyspark.ml.classification import LinearSVC, LinearSVCModel"
      ],
      "metadata": {
        "id": "PpKVt92wbRle"
      },
      "execution_count": 74,
      "outputs": []
    },
    {
      "cell_type": "code",
      "source": [
        "import findspark\n",
        "from pyspark.ml.linalg import VectorUDT\n",
        "from pyspark.sql.column import _to_java_column, _to_seq, Column\n",
        "from pyspark.sql import SparkSession\n",
        "from pyspark.ml.feature import IDFModel, IDF, PCA, VectorAssembler\n",
        "from pyspark.ml.feature import StopWordsRemover\n",
        "from pyspark.sql.types import StructType, StringType, IntegerType, FloatType, BooleanType, ArrayType\n",
        "from pyspark.ml.feature import CountVectorizer\n",
        "import nltk\n",
        "from nltk.stem.porter import PorterStemmer\n",
        "from nltk.stem import WordNetLemmatizer\n",
        "import re\n",
        "import pyspark.sql.functions as sqlf"
      ],
      "metadata": {
        "id": "qZXy8IwLxcCm"
      },
      "execution_count": 9,
      "outputs": []
    },
    {
      "cell_type": "code",
      "source": [
        "from google.colab import drive"
      ],
      "metadata": {
        "id": "_GB5iZcjxh3F"
      },
      "execution_count": 10,
      "outputs": []
    },
    {
      "cell_type": "code",
      "source": [
        "drive.mount('/content/drive/')"
      ],
      "metadata": {
        "colab": {
          "base_uri": "https://localhost:8080/"
        },
        "id": "kSn5B6mZxn4f",
        "outputId": "43ab9dd1-6452-4517-ebcd-dd6f0dc07b89"
      },
      "execution_count": 11,
      "outputs": [
        {
          "output_type": "stream",
          "name": "stdout",
          "text": [
            "Mounted at /content/drive/\n"
          ]
        }
      ]
    },
    {
      "cell_type": "code",
      "source": [
        "import os"
      ],
      "metadata": {
        "id": "1PGd8dmpxzec"
      },
      "execution_count": 12,
      "outputs": []
    },
    {
      "cell_type": "code",
      "source": [
        "os.getcwd()"
      ],
      "metadata": {
        "colab": {
          "base_uri": "https://localhost:8080/",
          "height": 36
        },
        "id": "2oDRxBHZxzVl",
        "outputId": "0cc5803d-3716-41d5-fefc-2385955b3f46"
      },
      "execution_count": 13,
      "outputs": [
        {
          "output_type": "execute_result",
          "data": {
            "text/plain": [
              "'/content'"
            ],
            "application/vnd.google.colaboratory.intrinsic+json": {
              "type": "string"
            }
          },
          "metadata": {},
          "execution_count": 13
        }
      ]
    },
    {
      "cell_type": "code",
      "source": [
        "os.chdir('drive/MyDrive/SteamReviews2021Project')"
      ],
      "metadata": {
        "id": "PU1TC4G_yG-h"
      },
      "execution_count": 14,
      "outputs": []
    },
    {
      "cell_type": "code",
      "source": [
        "os.listdir()"
      ],
      "metadata": {
        "colab": {
          "base_uri": "https://localhost:8080/"
        },
        "id": "drXRv9WeyXIu",
        "outputId": "3786f238-9903-4007-c596-2bfd5120065c"
      },
      "execution_count": 15,
      "outputs": [
        {
          "output_type": "execute_result",
          "data": {
            "text/plain": [
              "['data',\n",
              " 'BDA_Project_Preprocessing.ipynb',\n",
              " 'models',\n",
              " 'Preprocessing+tokenization.ipynb',\n",
              " 'Plotting_vectorization.ipynb',\n",
              " 'Metrics&Results_pipeline.ipynb',\n",
              " 'SVM_pipelines.ipynb']"
            ]
          },
          "metadata": {},
          "execution_count": 15
        }
      ]
    },
    {
      "cell_type": "markdown",
      "source": [
        "# Constants"
      ],
      "metadata": {
        "id": "6QnTvhXLw1Kd"
      }
    },
    {
      "cell_type": "code",
      "source": [
        "non_null_schema = StructType() \\\n",
        "    .add(\"#\", IntegerType(), True) \\\n",
        "    .add(\"app_id\", IntegerType(), True) \\\n",
        "    .add(\"app_name\", StringType(), True) \\\n",
        "    .add(\"review_id\", IntegerType(), True) \\\n",
        "    .add(\"language\", StringType(), True) \\\n",
        "    .add(\"review\", StringType(), True) \\\n",
        "    .add(\"timestamp_created\", IntegerType(), True) \\\n",
        "    .add(\"timestamp_updated\", IntegerType(), True) \\\n",
        "    .add(\"recommended\", BooleanType(), True) \\\n",
        "    .add(\"votes_helpful\", IntegerType(), True) \\\n",
        "    .add(\"votes_funny\", IntegerType(), True) \\\n",
        "    .add(\"weighted_vote_score\", FloatType(), True) \\\n",
        "    .add(\"comment_count\", IntegerType(), True) \\\n",
        "    .add(\"steam_purchase\", BooleanType(), True) \\\n",
        "    .add(\"received_for_free\", BooleanType(), True) \\\n",
        "    .add(\"written_during_early_access\", BooleanType(), True) \\\n",
        "    .add(\"author_steamid\", IntegerType(), True) \\\n",
        "    .add(\"author_num_games_owned\", IntegerType(), True) \\\n",
        "    .add(\"author_num_reviews\", IntegerType(), True) \\\n",
        "    .add(\"author_playtime_forever\", FloatType(), True) \\\n",
        "    .add(\"author_playtime_last_two_weeks\", FloatType(), True) \\\n",
        "    .add(\"author_playtime_at_review\", FloatType(), True) \\\n",
        "    .add(\"author_last_played\", IntegerType(), True)"
      ],
      "metadata": {
        "id": "oUoFfGz9w1zi"
      },
      "execution_count": 16,
      "outputs": []
    },
    {
      "cell_type": "code",
      "source": [
        "INDEX = \"#\"\n",
        "APP_ID = \"app_id\"\n",
        "APP_NAME = \"app_name\"\n",
        "REVIEW_ID = \"review_id\"\n",
        "LANGUAGE = \"language\"\n",
        "REVIEW = \"review\"\n",
        "TIMESTAMP_CREATED = \"timestamp_created\"\n",
        "TIMESTAMP_UPDATED = \"timestamp_updated\"\n",
        "RECOMMENDED = \"recommended\"\n",
        "VOTES_HELPFUL = \"votes_helpful\"\n",
        "VOTES_FUNNY = \"votes_funny\"\n",
        "WEIGHTED_VOTE_SCORE = \"weighted_vote_score\"\n",
        "COMMENT_COUNT = \"comment_count\"\n",
        "STEAM_PURCHASE = \"steam_purchase\"\n",
        "RECEIVED_FOR_FREE = \"received_for_free\"\n",
        "WRITTEN_DURING_EARLY_ACCESS = \"written_during_early_access\"\n",
        "AUTHOR_STEAMID = \"author_steamid\"\n",
        "AUTHOR_NUM_GAMES_OWNED = \"author_num_games_owned\"\n",
        "AUTHOR_NUM_REVIEWS = \"author_num_reviews\"\n",
        "AUTHOR_PLAYTIME_FOREVER = \"author_playtime_forever\"\n",
        "AUTHOR_PLAYTIME_LAST_TWO_WEEKS = \"author_playtime_last_two_weeks\"\n",
        "AUTHOR_PLAYTIME_AT_REVIEW = \"author_playtime_at_review\"\n",
        "AUTHOR_LAST_PLAYED = \"author_last_played\""
      ],
      "metadata": {
        "id": "I9E8DLlWw2S7"
      },
      "execution_count": 17,
      "outputs": []
    },
    {
      "cell_type": "code",
      "source": [
        "AUX_COL = \"aux\""
      ],
      "metadata": {
        "id": "hLGqP9808n5r"
      },
      "execution_count": 18,
      "outputs": []
    },
    {
      "cell_type": "code",
      "source": [
        "vectorization_schema = StructType() \\\n",
        "    .add(\"review_id\", IntegerType(), True) \\\n",
        "    .add(\"recommended\", IntegerType(), True) \\\n",
        "    .add(\"review\", VectorUDT(), True)"
      ],
      "metadata": {
        "id": "Ws9b-StIhI5U"
      },
      "execution_count": 19,
      "outputs": []
    },
    {
      "cell_type": "markdown",
      "source": [
        "# Load Vectorization"
      ],
      "metadata": {
        "id": "4BDVOI-JybrK"
      }
    },
    {
      "cell_type": "code",
      "source": [
        "findspark.init()\n",
        "spark = SparkSession.builder.master(\"local\") \\\n",
        "                    .appName(\"Plotting vectorizations\") \\\n",
        "                    .config(\"spark.executor.cores\", \"8\") \\\n",
        "                    .config(\"spark.executor.memory\", \"8g\") \\\n",
        "                    .getOrCreate()"
      ],
      "metadata": {
        "id": "CIzOrRQdVCQv"
      },
      "execution_count": 20,
      "outputs": []
    },
    {
      "cell_type": "code",
      "source": [
        "IDF_DATASET_PATH = \"data/idf_tokenization/idf_dataset.json\""
      ],
      "metadata": {
        "id": "0MP1iFVd8DrK"
      },
      "execution_count": 21,
      "outputs": []
    },
    {
      "cell_type": "code",
      "source": [
        "df_idf = spark.read.option(\"encoding\", \"utf-8\") \\\n",
        "      .schema(vectorization_schema) \\\n",
        "      .json(IDF_DATASET_PATH)"
      ],
      "metadata": {
        "id": "Jf-ybUqS8DHX"
      },
      "execution_count": 22,
      "outputs": []
    },
    {
      "cell_type": "code",
      "source": [
        "df_idf.show(5, truncate=False)"
      ],
      "metadata": {
        "colab": {
          "base_uri": "https://localhost:8080/"
        },
        "id": "tFCAEXdtXpRf",
        "outputId": "501d2eb9-663b-4622-bc38-c3abe9858fa6"
      },
      "execution_count": 23,
      "outputs": [
        {
          "output_type": "stream",
          "name": "stdout",
          "text": [
            "+---------+-----------+-----------------------------------------------------------------------------------------------------------------------------------------------------------------------------------------------------------------------------------------------------------+\n",
            "|review_id|recommended|review                                                                                                                                                                                                                                                     |\n",
            "+---------+-----------+-----------------------------------------------------------------------------------------------------------------------------------------------------------------------------------------------------------------------------------------------------------+\n",
            "|84222416 |1          |(10817,[3,4,6,184,1684],[1.8212661372761738,1.8786432498594763,2.04301660733421,4.454146794999703,6.905151893112022])                                                                                                                                      |\n",
            "|83056151 |1          |(10817,[6,7,60,64,84,168,184,622,684,1150],[2.04301660733421,2.1421236225083504,3.5658299151679542,3.576525204284702,3.7481514719619087,4.363549899647476,4.454146794999703,5.624218047649958,5.7420010833063415,6.3745236420498514])                      |\n",
            "|82605667 |0          |(10817,[0,2,5,15,108,143,184,331,399,545],[0.6855562531787913,1.698401720089476,1.985901160817619,2.721576197161979,4.025953435813983,4.224130364397731,4.454146794999703,5.018082244079642,5.164685718271517,5.49416491940176])                           |\n",
            "|82535616 |1          |(10817,[0,3,4,60,79,184,461],[0.6855562531787913,1.8212661372761738,1.8786432498594763,3.5658299151679542,3.7146755427655194,4.454146794999703,5.315916687995442])                                                                                         |\n",
            "|82520252 |1          |(10817,[2,3,4,184,279,303,338,542,1399,2109,4320],[1.698401720089476,1.8212661372761738,1.8786432498594763,4.454146794999703,4.863931564252384,4.945057109064752,5.033349716210431,5.49416491940176,6.642787628644531,7.261826837050754,8.109124697437958])|\n",
            "+---------+-----------+-----------------------------------------------------------------------------------------------------------------------------------------------------------------------------------------------------------------------------------------------------------+\n",
            "only showing top 5 rows\n",
            "\n"
          ]
        }
      ]
    },
    {
      "cell_type": "code",
      "source": [
        "CV_DATASET_PATH = \"data/bow_tokenization/bow_dataset.json\""
      ],
      "metadata": {
        "id": "BbXHarnZaw2f"
      },
      "execution_count": 49,
      "outputs": []
    },
    {
      "cell_type": "code",
      "source": [
        "df_cv = spark.read.option(\"encoding\", \"utf-8\") \\\n",
        "      .schema(vectorization_schema) \\\n",
        "      .json(CV_DATASET_PATH)"
      ],
      "metadata": {
        "id": "qxV2CwqGawqk"
      },
      "execution_count": 50,
      "outputs": []
    },
    {
      "cell_type": "code",
      "source": [
        "df_cv.show(5, truncate=False)"
      ],
      "metadata": {
        "colab": {
          "base_uri": "https://localhost:8080/"
        },
        "id": "F7M9-wpwawk-",
        "outputId": "ee9657ed-79d0-4b20-b5fe-f8e977895d9c"
      },
      "execution_count": 51,
      "outputs": [
        {
          "output_type": "stream",
          "name": "stdout",
          "text": [
            "+---------+-----------+------------------------------------------------------------------------------------------------+\n",
            "|review_id|recommended|review                                                                                          |\n",
            "+---------+-----------+------------------------------------------------------------------------------------------------+\n",
            "|84222416 |1          |(10817,[3,4,6,184,1684],[1.0,1.0,1.0,1.0,1.0])                                                  |\n",
            "|83056151 |1          |(10817,[6,7,60,64,84,168,184,622,684,1150],[1.0,1.0,1.0,1.0,1.0,1.0,1.0,1.0,1.0,1.0])           |\n",
            "|82605667 |0          |(10817,[0,2,5,15,108,143,184,331,399,545],[1.0,1.0,1.0,1.0,1.0,1.0,1.0,1.0,1.0,1.0])            |\n",
            "|82535616 |1          |(10817,[0,3,4,60,79,184,461],[1.0,1.0,1.0,1.0,1.0,1.0,1.0])                                     |\n",
            "|82520252 |1          |(10817,[2,3,4,184,279,303,338,542,1399,2109,4320],[1.0,1.0,1.0,1.0,1.0,1.0,1.0,1.0,1.0,1.0,1.0])|\n",
            "+---------+-----------+------------------------------------------------------------------------------------------------+\n",
            "only showing top 5 rows\n",
            "\n"
          ]
        }
      ]
    },
    {
      "cell_type": "markdown",
      "source": [
        "# Train SVM"
      ],
      "metadata": {
        "id": "Uwd04QYQbKM-"
      }
    },
    {
      "cell_type": "markdown",
      "source": [
        "## CV"
      ],
      "metadata": {
        "id": "CimJ_iUfgBLF"
      }
    },
    {
      "cell_type": "code",
      "source": [
        "svm_cv = LinearSVC(featuresCol=REVIEW, labelCol=RECOMMENDED)"
      ],
      "metadata": {
        "id": "n8rZkH1EbLGM"
      },
      "execution_count": 52,
      "outputs": []
    },
    {
      "cell_type": "code",
      "source": [
        "svm_cv.explainParams()"
      ],
      "metadata": {
        "colab": {
          "base_uri": "https://localhost:8080/",
          "height": 123
        },
        "id": "479GmkhRbhzU",
        "outputId": "56221369-119f-48a3-d3a6-7c6b66351555"
      },
      "execution_count": 53,
      "outputs": [
        {
          "output_type": "execute_result",
          "data": {
            "text/plain": [
              "'aggregationDepth: suggested depth for treeAggregate (>= 2). (default: 2)\\nfeaturesCol: features column name. (default: features, current: review)\\nfitIntercept: whether to fit an intercept term. (default: True)\\nlabelCol: label column name. (default: label, current: recommended)\\nmaxBlockSizeInMB: maximum memory in MB for stacking input data into blocks. Data is stacked within partitions. If more than remaining data size in a partition then it is adjusted to the data size. Default 0.0 represents choosing optimal value, depends on specific algorithm. Must be >= 0. (default: 0.0)\\nmaxIter: max number of iterations (>= 0). (default: 100)\\npredictionCol: prediction column name. (default: prediction)\\nrawPredictionCol: raw prediction (a.k.a. confidence) column name. (default: rawPrediction)\\nregParam: regularization parameter (>= 0). (default: 0.0)\\nstandardization: whether to standardize the training features before fitting the model. (default: True)\\nthreshold: The threshold in binary classification applied to the linear model prediction.  This threshold can be any real number, where Inf will make all predictions 0.0 and -Inf will make all predictions 1.0. (default: 0.0)\\ntol: the convergence tolerance for iterative algorithms (>= 0). (default: 1e-06)\\nweightCol: weight column name. If this is not set or empty, we treat all instance weights as 1.0. (undefined)'"
            ],
            "application/vnd.google.colaboratory.intrinsic+json": {
              "type": "string"
            }
          },
          "metadata": {},
          "execution_count": 53
        }
      ]
    },
    {
      "cell_type": "code",
      "source": [
        "svm_cv = svm_cv.fit(df_cv)"
      ],
      "metadata": {
        "id": "q_Hh4_rrbuU-"
      },
      "execution_count": 54,
      "outputs": []
    },
    {
      "cell_type": "code",
      "source": [
        "df_cv =  svm_cv.transform(df_cv)"
      ],
      "metadata": {
        "id": "QAfqT4VscK0F"
      },
      "execution_count": 55,
      "outputs": []
    },
    {
      "cell_type": "code",
      "source": [
        "df_cv.show(10)"
      ],
      "metadata": {
        "colab": {
          "base_uri": "https://localhost:8080/"
        },
        "id": "nkIkIxwWc2MG",
        "outputId": "971c0f17-0166-4212-d57a-695ccae0a2ef"
      },
      "execution_count": 56,
      "outputs": [
        {
          "output_type": "stream",
          "name": "stdout",
          "text": [
            "+---------+-----------+--------------------+--------------------+----------+\n",
            "|review_id|recommended|              review|       rawPrediction|prediction|\n",
            "+---------+-----------+--------------------+--------------------+----------+\n",
            "| 84222416|          1|(10817,[3,4,6,184...|[-6.9831860151405...|       1.0|\n",
            "| 83056151|          1|(10817,[6,7,60,64...|[-9.3474968369114...|       1.0|\n",
            "| 82605667|          0|(10817,[0,2,5,15,...|[1.00139573135693...|       0.0|\n",
            "| 82535616|          1|(10817,[0,3,4,60,...|[-4.9766560679726...|       1.0|\n",
            "| 82520252|          1|(10817,[2,3,4,184...|[-3.2494828024150...|       1.0|\n",
            "| 81316845|          1|(10817,[0,6,184],...|[-4.5323988523509...|       1.0|\n",
            "| 80846756|          1|(10817,[0,2,24,18...|[-4.2683540895946...|       1.0|\n",
            "| 79226741|          1|(10817,[2,3,4,6,1...|[-5.0233350282669...|       1.0|\n",
            "| 77340930|          1|(10817,[0,2,16,24...|[-3.2757248103219...|       1.0|\n",
            "| 76875452|          0|(10817,[0,2,5,65,...|[1.13450307746905...|       0.0|\n",
            "+---------+-----------+--------------------+--------------------+----------+\n",
            "only showing top 10 rows\n",
            "\n"
          ]
        }
      ]
    },
    {
      "cell_type": "code",
      "source": [
        "df_cv = df_cv.drop(REVIEW, \"rawPrediction\")"
      ],
      "metadata": {
        "id": "_zZVEeSMe79s"
      },
      "execution_count": 58,
      "outputs": []
    },
    {
      "cell_type": "code",
      "source": [
        "df_cv"
      ],
      "metadata": {
        "colab": {
          "base_uri": "https://localhost:8080/"
        },
        "id": "FMez0Wj8f7BI",
        "outputId": "3717c7d6-1af8-489d-a64a-03c90bd57225"
      },
      "execution_count": 59,
      "outputs": [
        {
          "output_type": "execute_result",
          "data": {
            "text/plain": [
              "DataFrame[review_id: int, recommended: int, prediction: double]"
            ]
          },
          "metadata": {},
          "execution_count": 59
        }
      ]
    },
    {
      "cell_type": "code",
      "source": [
        "CV_SVM_PATH = \"models/svm_cv\""
      ],
      "metadata": {
        "id": "us9hTDBCg4z8"
      },
      "execution_count": 66,
      "outputs": []
    },
    {
      "cell_type": "code",
      "source": [
        "# svm_cv.save(CV_SVM_PATH)"
      ],
      "metadata": {
        "id": "ooPaeTzBg135"
      },
      "execution_count": 67,
      "outputs": []
    },
    {
      "cell_type": "code",
      "source": [
        "# svm_cv = LinearSVCModel.load(CV_SVM_PATH)"
      ],
      "metadata": {
        "id": "SbWBBIPCg1y-"
      },
      "execution_count": 75,
      "outputs": []
    },
    {
      "cell_type": "code",
      "source": [
        "TRAIN_CV_SVM_PREDICTIONS = \"data/train_cv_svm_predictions\""
      ],
      "metadata": {
        "id": "IqmlKylpiC3j"
      },
      "execution_count": 80,
      "outputs": []
    },
    {
      "cell_type": "code",
      "source": [
        "# df_cv.repartition(1).write.json(TRAIN_CV_SVM_PREDICTIONS)"
      ],
      "metadata": {
        "id": "cSWyoG0IiCx9"
      },
      "execution_count": 81,
      "outputs": []
    },
    {
      "cell_type": "markdown",
      "source": [
        "## tfidf"
      ],
      "metadata": {
        "id": "rV1p91TmgEF2"
      }
    },
    {
      "cell_type": "code",
      "source": [
        "svm_idf = LinearSVC(featuresCol=REVIEW, labelCol=RECOMMENDED)"
      ],
      "metadata": {
        "id": "T7eagab-gEF2"
      },
      "execution_count": 60,
      "outputs": []
    },
    {
      "cell_type": "code",
      "source": [
        "svm_idf = svm_idf.fit(df_idf)"
      ],
      "metadata": {
        "id": "tSHMG_f8gEF3"
      },
      "execution_count": 61,
      "outputs": []
    },
    {
      "cell_type": "code",
      "source": [
        "df_idf =  svm_cv.transform(df_idf)"
      ],
      "metadata": {
        "id": "c3svvGgKgEF3"
      },
      "execution_count": 62,
      "outputs": []
    },
    {
      "cell_type": "code",
      "source": [
        "df_idf.show(10)"
      ],
      "metadata": {
        "colab": {
          "base_uri": "https://localhost:8080/"
        },
        "outputId": "619fdf76-5aa6-4a0b-8845-dc45bca4f7e2",
        "id": "LdEfNGIsgEF3"
      },
      "execution_count": 63,
      "outputs": [
        {
          "output_type": "stream",
          "name": "stdout",
          "text": [
            "+---------+-----------+--------------------+--------------------+----------+\n",
            "|review_id|recommended|              review|       rawPrediction|prediction|\n",
            "+---------+-----------+--------------------+--------------------+----------+\n",
            "| 84222416|          1|(10817,[3,4,6,184...|[-29.157142081362...|       1.0|\n",
            "| 83056151|          1|(10817,[6,7,60,64...|[-30.821786210642...|       1.0|\n",
            "| 82605667|          0|(10817,[0,2,5,15,...|[-0.3788002817133...|       1.0|\n",
            "| 82535616|          1|(10817,[0,3,4,60,...|[-19.476709184987...|       1.0|\n",
            "| 82520252|          1|(10817,[2,3,4,184...|[-14.705507081101...|       1.0|\n",
            "| 81316845|          1|(10817,[0,6,184],...|[-15.328209192841...|       1.0|\n",
            "| 80846756|          1|(10817,[0,2,24,18...|[-16.346545907778...|       1.0|\n",
            "| 79226741|          1|(10817,[2,3,4,6,1...|[-16.110464746819...|       1.0|\n",
            "| 77340930|          1|(10817,[0,2,16,24...|[-21.784499460522...|       1.0|\n",
            "| 76875452|          0|(10817,[0,2,5,65,...|[19.1417016758451...|       0.0|\n",
            "+---------+-----------+--------------------+--------------------+----------+\n",
            "only showing top 10 rows\n",
            "\n"
          ]
        }
      ]
    },
    {
      "cell_type": "code",
      "source": [
        "df_idf = df_idf.drop(REVIEW, \"rawPrediction\")"
      ],
      "metadata": {
        "id": "mqqKtzI-gEF3"
      },
      "execution_count": 64,
      "outputs": []
    },
    {
      "cell_type": "code",
      "source": [
        "df_idf"
      ],
      "metadata": {
        "colab": {
          "base_uri": "https://localhost:8080/"
        },
        "outputId": "4e4ae2ad-7403-4af1-9759-4f508e87d1de",
        "id": "ffjPoxnBgEF3"
      },
      "execution_count": 65,
      "outputs": [
        {
          "output_type": "execute_result",
          "data": {
            "text/plain": [
              "DataFrame[review_id: int, recommended: int, prediction: double]"
            ]
          },
          "metadata": {},
          "execution_count": 65
        }
      ]
    },
    {
      "cell_type": "code",
      "source": [
        "IDF_SVM_PATH = \"models/svm_idf\""
      ],
      "metadata": {
        "id": "9VF6JLdxgl2G"
      },
      "execution_count": 76,
      "outputs": []
    },
    {
      "cell_type": "code",
      "source": [
        "# svm_idf.save(IDF_SVM_PATH)"
      ],
      "metadata": {
        "id": "22_H09Auhrmg"
      },
      "execution_count": 77,
      "outputs": []
    },
    {
      "cell_type": "code",
      "source": [
        "# svm_idf = LinearSVCModel.load(IDF_SVM_PATH)"
      ],
      "metadata": {
        "id": "urCy4REQglgE"
      },
      "execution_count": 78,
      "outputs": []
    },
    {
      "cell_type": "code",
      "source": [
        "TRAIN_IDF_SVM_PREDICTIONS = \"data/train_idf_svm_predictions\""
      ],
      "metadata": {
        "id": "FQS90quGfTr-"
      },
      "execution_count": 79,
      "outputs": []
    },
    {
      "cell_type": "code",
      "source": [
        "# df_idf.repartition(1).write.json(TRAIN_IDF_SVM_PREDICTIONS)"
      ],
      "metadata": {
        "id": "5lYagvHcfal8"
      },
      "execution_count": 82,
      "outputs": []
    }
  ]
}
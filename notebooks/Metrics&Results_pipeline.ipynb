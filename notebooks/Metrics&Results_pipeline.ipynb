{
  "nbformat": 4,
  "nbformat_minor": 0,
  "metadata": {
    "colab": {
      "provenance": [],
      "collapsed_sections": [
        "XOCeS2XNNmJt",
        "Vh8kc67VxdNN",
        "6QnTvhXLw1Kd",
        "4BDVOI-JybrK",
        "TmFNEvRkmZEz"
      ]
    },
    "kernelspec": {
      "name": "python3",
      "display_name": "Python 3"
    },
    "language_info": {
      "name": "python"
    }
  },
  "cells": [
    {
      "cell_type": "markdown",
      "source": [
        "## Install packages"
      ],
      "metadata": {
        "id": "XOCeS2XNNmJt"
      }
    },
    {
      "cell_type": "code",
      "source": [
        "!pip install findspark\n",
        "!pip install pyspark"
      ],
      "metadata": {
        "colab": {
          "base_uri": "https://localhost:8080/"
        },
        "id": "N6wT1dReNp8A",
        "outputId": "d9f5aa2f-b808-4116-bb63-09703ce82a2f"
      },
      "execution_count": 2,
      "outputs": [
        {
          "output_type": "stream",
          "name": "stdout",
          "text": [
            "Looking in indexes: https://pypi.org/simple, https://us-python.pkg.dev/colab-wheels/public/simple/\n",
            "Collecting findspark\n",
            "  Downloading findspark-2.0.1-py2.py3-none-any.whl (4.4 kB)\n",
            "Installing collected packages: findspark\n",
            "Successfully installed findspark-2.0.1\n",
            "Looking in indexes: https://pypi.org/simple, https://us-python.pkg.dev/colab-wheels/public/simple/\n",
            "Collecting pyspark\n",
            "  Downloading pyspark-3.3.1.tar.gz (281.4 MB)\n",
            "\u001b[K     |████████████████████████████████| 281.4 MB 44 kB/s \n",
            "\u001b[?25hCollecting py4j==0.10.9.5\n",
            "  Downloading py4j-0.10.9.5-py2.py3-none-any.whl (199 kB)\n",
            "\u001b[K     |████████████████████████████████| 199 kB 54.0 MB/s \n",
            "\u001b[?25hBuilding wheels for collected packages: pyspark\n",
            "  Building wheel for pyspark (setup.py) ... \u001b[?25l\u001b[?25hdone\n",
            "  Created wheel for pyspark: filename=pyspark-3.3.1-py2.py3-none-any.whl size=281845512 sha256=6981d97d824eda7cf17c945c530dab6fa581eb0530b90a1d7ee45895a7545a23\n",
            "  Stored in directory: /root/.cache/pip/wheels/43/dc/11/ec201cd671da62fa9c5cc77078235e40722170ceba231d7598\n",
            "Successfully built pyspark\n",
            "Installing collected packages: py4j, pyspark\n",
            "Successfully installed py4j-0.10.9.5 pyspark-3.3.1\n"
          ]
        }
      ]
    },
    {
      "cell_type": "markdown",
      "source": [
        "# Imports and Env"
      ],
      "metadata": {
        "id": "Vh8kc67VxdNN"
      }
    },
    {
      "cell_type": "code",
      "source": [
        "from sklearn.decomposition import SparsePCA\n",
        "import seaborn as sns\n",
        "import pandas as pd"
      ],
      "metadata": {
        "id": "xyxqfImqs6Sj"
      },
      "execution_count": 3,
      "outputs": []
    },
    {
      "cell_type": "code",
      "source": [
        "from pyspark.mllib.evaluation import MulticlassMetrics"
      ],
      "metadata": {
        "id": "I1kB0YTqnoBv"
      },
      "execution_count": 31,
      "outputs": []
    },
    {
      "cell_type": "code",
      "source": [
        "sns.set(rc={'figure.figsize':(11.7,8.27)})"
      ],
      "metadata": {
        "id": "9DvFwpcpyJj0"
      },
      "execution_count": 4,
      "outputs": []
    },
    {
      "cell_type": "code",
      "source": [
        "import findspark\n",
        "from pyspark.ml.linalg import VectorUDT\n",
        "from pyspark.sql.column import _to_java_column, _to_seq, Column\n",
        "from pyspark.sql import SparkSession\n",
        "from pyspark.ml.feature import IDFModel, IDF, PCA, VectorAssembler\n",
        "from pyspark.ml.feature import StopWordsRemover\n",
        "from pyspark.sql.types import StructType, StringType, IntegerType, FloatType, BooleanType, ArrayType, DoubleType\n",
        "from pyspark.ml.feature import CountVectorizer\n",
        "import nltk\n",
        "from nltk.stem.porter import PorterStemmer\n",
        "from nltk.stem import WordNetLemmatizer\n",
        "import re\n",
        "import pyspark.sql.functions as sqlf"
      ],
      "metadata": {
        "id": "qZXy8IwLxcCm"
      },
      "execution_count": 23,
      "outputs": []
    },
    {
      "cell_type": "code",
      "source": [
        "from google.colab import drive"
      ],
      "metadata": {
        "id": "_GB5iZcjxh3F"
      },
      "execution_count": 6,
      "outputs": []
    },
    {
      "cell_type": "code",
      "source": [
        "drive.mount('/content/drive/')"
      ],
      "metadata": {
        "colab": {
          "base_uri": "https://localhost:8080/"
        },
        "id": "kSn5B6mZxn4f",
        "outputId": "6b9ddb17-4b6d-4311-fc0d-3439771693a3"
      },
      "execution_count": 7,
      "outputs": [
        {
          "output_type": "stream",
          "name": "stdout",
          "text": [
            "Mounted at /content/drive/\n"
          ]
        }
      ]
    },
    {
      "cell_type": "code",
      "source": [
        "import os"
      ],
      "metadata": {
        "id": "1PGd8dmpxzec"
      },
      "execution_count": 8,
      "outputs": []
    },
    {
      "cell_type": "code",
      "source": [
        "os.getcwd()"
      ],
      "metadata": {
        "colab": {
          "base_uri": "https://localhost:8080/",
          "height": 36
        },
        "id": "2oDRxBHZxzVl",
        "outputId": "5286a667-0c60-4bbb-bae1-2d7b88a1e0a0"
      },
      "execution_count": 9,
      "outputs": [
        {
          "output_type": "execute_result",
          "data": {
            "text/plain": [
              "'/content'"
            ],
            "application/vnd.google.colaboratory.intrinsic+json": {
              "type": "string"
            }
          },
          "metadata": {},
          "execution_count": 9
        }
      ]
    },
    {
      "cell_type": "code",
      "source": [
        "os.chdir('drive/MyDrive/SteamReviews2021Project')"
      ],
      "metadata": {
        "id": "PU1TC4G_yG-h"
      },
      "execution_count": 10,
      "outputs": []
    },
    {
      "cell_type": "code",
      "source": [
        "os.listdir()"
      ],
      "metadata": {
        "colab": {
          "base_uri": "https://localhost:8080/"
        },
        "id": "drXRv9WeyXIu",
        "outputId": "097be1f7-c7aa-4885-a7a2-aaf86e0fdadd"
      },
      "execution_count": 11,
      "outputs": [
        {
          "output_type": "execute_result",
          "data": {
            "text/plain": [
              "['data',\n",
              " 'BDA_Project_Preprocessing.ipynb',\n",
              " 'models',\n",
              " 'Plotting_vectorization.ipynb',\n",
              " 'SVM_pipelines.ipynb',\n",
              " 'Preprocessing+tokenization.ipynb',\n",
              " 'Metrics&Results_pipeline.ipynb']"
            ]
          },
          "metadata": {},
          "execution_count": 11
        }
      ]
    },
    {
      "cell_type": "markdown",
      "source": [
        "# Constants"
      ],
      "metadata": {
        "id": "6QnTvhXLw1Kd"
      }
    },
    {
      "cell_type": "code",
      "source": [
        "non_null_schema = StructType() \\\n",
        "    .add(\"#\", IntegerType(), True) \\\n",
        "    .add(\"app_id\", IntegerType(), True) \\\n",
        "    .add(\"app_name\", StringType(), True) \\\n",
        "    .add(\"review_id\", IntegerType(), True) \\\n",
        "    .add(\"language\", StringType(), True) \\\n",
        "    .add(\"review\", StringType(), True) \\\n",
        "    .add(\"timestamp_created\", IntegerType(), True) \\\n",
        "    .add(\"timestamp_updated\", IntegerType(), True) \\\n",
        "    .add(\"recommended\", BooleanType(), True) \\\n",
        "    .add(\"votes_helpful\", IntegerType(), True) \\\n",
        "    .add(\"votes_funny\", IntegerType(), True) \\\n",
        "    .add(\"weighted_vote_score\", FloatType(), True) \\\n",
        "    .add(\"comment_count\", IntegerType(), True) \\\n",
        "    .add(\"steam_purchase\", BooleanType(), True) \\\n",
        "    .add(\"received_for_free\", BooleanType(), True) \\\n",
        "    .add(\"written_during_early_access\", BooleanType(), True) \\\n",
        "    .add(\"author_steamid\", IntegerType(), True) \\\n",
        "    .add(\"author_num_games_owned\", IntegerType(), True) \\\n",
        "    .add(\"author_num_reviews\", IntegerType(), True) \\\n",
        "    .add(\"author_playtime_forever\", FloatType(), True) \\\n",
        "    .add(\"author_playtime_last_two_weeks\", FloatType(), True) \\\n",
        "    .add(\"author_playtime_at_review\", FloatType(), True) \\\n",
        "    .add(\"author_last_played\", IntegerType(), True)"
      ],
      "metadata": {
        "id": "oUoFfGz9w1zi"
      },
      "execution_count": 12,
      "outputs": []
    },
    {
      "cell_type": "code",
      "source": [
        "INDEX = \"#\"\n",
        "APP_ID = \"app_id\"\n",
        "APP_NAME = \"app_name\"\n",
        "REVIEW_ID = \"review_id\"\n",
        "LANGUAGE = \"language\"\n",
        "REVIEW = \"review\"\n",
        "TIMESTAMP_CREATED = \"timestamp_created\"\n",
        "TIMESTAMP_UPDATED = \"timestamp_updated\"\n",
        "RECOMMENDED = \"recommended\"\n",
        "VOTES_HELPFUL = \"votes_helpful\"\n",
        "VOTES_FUNNY = \"votes_funny\"\n",
        "WEIGHTED_VOTE_SCORE = \"weighted_vote_score\"\n",
        "COMMENT_COUNT = \"comment_count\"\n",
        "STEAM_PURCHASE = \"steam_purchase\"\n",
        "RECEIVED_FOR_FREE = \"received_for_free\"\n",
        "WRITTEN_DURING_EARLY_ACCESS = \"written_during_early_access\"\n",
        "AUTHOR_STEAMID = \"author_steamid\"\n",
        "AUTHOR_NUM_GAMES_OWNED = \"author_num_games_owned\"\n",
        "AUTHOR_NUM_REVIEWS = \"author_num_reviews\"\n",
        "AUTHOR_PLAYTIME_FOREVER = \"author_playtime_forever\"\n",
        "AUTHOR_PLAYTIME_LAST_TWO_WEEKS = \"author_playtime_last_two_weeks\"\n",
        "AUTHOR_PLAYTIME_AT_REVIEW = \"author_playtime_at_review\"\n",
        "AUTHOR_LAST_PLAYED = \"author_last_played\""
      ],
      "metadata": {
        "id": "I9E8DLlWw2S7"
      },
      "execution_count": 13,
      "outputs": []
    },
    {
      "cell_type": "code",
      "source": [
        "AUX_COL = \"aux\""
      ],
      "metadata": {
        "id": "hLGqP9808n5r"
      },
      "execution_count": 14,
      "outputs": []
    },
    {
      "cell_type": "code",
      "source": [
        "PREDICTION = \"prediction\"\n",
        "LABEL = \"label\""
      ],
      "metadata": {
        "id": "EP-4uTFglevc"
      },
      "execution_count": 33,
      "outputs": []
    },
    {
      "cell_type": "code",
      "source": [
        "vectorization_schema = StructType() \\\n",
        "    .add(\"review_id\", IntegerType(), True) \\\n",
        "    .add(\"recommended\", IntegerType(), True) \\\n",
        "    .add(\"review\", VectorUDT(), True)"
      ],
      "metadata": {
        "id": "Ws9b-StIhI5U"
      },
      "execution_count": 16,
      "outputs": []
    },
    {
      "cell_type": "code",
      "source": [
        "results_schema = StructType() \\\n",
        "    .add(\"review_id\", IntegerType(), True) \\\n",
        "    .add(\"recommended\", IntegerType(), True) \\\n",
        "    .add(\"prediction\", DoubleType(), True)"
      ],
      "metadata": {
        "id": "faIq3wCQlURj"
      },
      "execution_count": 27,
      "outputs": []
    },
    {
      "cell_type": "markdown",
      "source": [
        "# Load Results"
      ],
      "metadata": {
        "id": "4BDVOI-JybrK"
      }
    },
    {
      "cell_type": "code",
      "source": [
        "findspark.init()\n",
        "spark = SparkSession.builder.master(\"local\") \\\n",
        "                    .appName(\"Metrics\") \\\n",
        "                    .config(\"spark.executor.cores\", \"8\") \\\n",
        "                    .config(\"spark.executor.memory\", \"8g\") \\\n",
        "                    .getOrCreate()"
      ],
      "metadata": {
        "id": "CIzOrRQdVCQv"
      },
      "execution_count": 18,
      "outputs": []
    },
    {
      "cell_type": "code",
      "source": [
        "RESULTS_PATH = \"data/train_idf_svm_predictions/part-00000-fe4c1b7f-34ed-4b26-93b7-da705481dfe5-c000.json\""
      ],
      "metadata": {
        "id": "0MP1iFVd8DrK"
      },
      "execution_count": 28,
      "outputs": []
    },
    {
      "cell_type": "code",
      "source": [
        "df = spark.read.option(\"encoding\", \"utf-8\") \\\n",
        "      .schema(results_schema) \\\n",
        "      .json(RESULTS_PATH)"
      ],
      "metadata": {
        "id": "Jf-ybUqS8DHX"
      },
      "execution_count": 29,
      "outputs": []
    },
    {
      "cell_type": "code",
      "source": [
        "df.show(5, truncate=False)"
      ],
      "metadata": {
        "colab": {
          "base_uri": "https://localhost:8080/"
        },
        "id": "tFCAEXdtXpRf",
        "outputId": "088dc1ce-91b9-449e-be34-f2a29eebf2b4"
      },
      "execution_count": 30,
      "outputs": [
        {
          "output_type": "stream",
          "name": "stdout",
          "text": [
            "+---------+-----------+----------+\n",
            "|review_id|recommended|prediction|\n",
            "+---------+-----------+----------+\n",
            "|84222416 |1          |1.0       |\n",
            "|83056151 |1          |1.0       |\n",
            "|82605667 |0          |1.0       |\n",
            "|82535616 |1          |1.0       |\n",
            "|82520252 |1          |1.0       |\n",
            "+---------+-----------+----------+\n",
            "only showing top 5 rows\n",
            "\n"
          ]
        }
      ]
    },
    {
      "cell_type": "markdown",
      "source": [
        "# Metrics"
      ],
      "metadata": {
        "id": "TmFNEvRkmZEz"
      }
    },
    {
      "cell_type": "code",
      "source": [
        "df = df.drop(REVIEW_ID)"
      ],
      "metadata": {
        "id": "9Dsp8Of_l-kr"
      },
      "execution_count": 32,
      "outputs": []
    },
    {
      "cell_type": "code",
      "source": [
        "df = df.withColumnRenamed(RECOMMENDED, LABEL)"
      ],
      "metadata": {
        "id": "cMMotFMtnyFa"
      },
      "execution_count": 34,
      "outputs": []
    },
    {
      "cell_type": "code",
      "source": [
        "df = df.withColumn(LABEL, df.label.cast(\"double\"))"
      ],
      "metadata": {
        "id": "iP2uS4t5n9cS"
      },
      "execution_count": 36,
      "outputs": []
    },
    {
      "cell_type": "code",
      "source": [],
      "metadata": {
        "colab": {
          "base_uri": "https://localhost:8080/"
        },
        "id": "2aB98Eocn92a",
        "outputId": "100d3e79-7423-4054-c2bb-a3f6f578d105"
      },
      "execution_count": 37,
      "outputs": [
        {
          "output_type": "execute_result",
          "data": {
            "text/plain": [
              "DataFrame[label: double, prediction: double]"
            ]
          },
          "metadata": {},
          "execution_count": 37
        }
      ]
    },
    {
      "cell_type": "code",
      "source": [
        "metrics = MulticlassMetrics(df.rdd)"
      ],
      "metadata": {
        "colab": {
          "base_uri": "https://localhost:8080/"
        },
        "id": "IZck6ZMqoHAS",
        "outputId": "b80c7f32-f6fb-4834-f0a4-e694fa76a1a2"
      },
      "execution_count": 40,
      "outputs": [
        {
          "output_type": "stream",
          "name": "stderr",
          "text": [
            "/usr/local/lib/python3.8/dist-packages/pyspark/sql/context.py:157: FutureWarning: Deprecated in 3.0.0. Use SparkSession.builder.getOrCreate() instead.\n",
            "  warnings.warn(\n"
          ]
        }
      ]
    },
    {
      "cell_type": "code",
      "source": [
        "cm=metrics.confusionMatrix().toArray()"
      ],
      "metadata": {
        "id": "7zmNuILioL1i"
      },
      "execution_count": 41,
      "outputs": []
    },
    {
      "cell_type": "code",
      "source": [
        "accuracy=(cm[0][0]+cm[1][1])/cm.sum()"
      ],
      "metadata": {
        "id": "kanLcrIFocAk"
      },
      "execution_count": 42,
      "outputs": []
    },
    {
      "cell_type": "code",
      "source": [
        "precision=(cm[0][0])/(cm[0][0]+cm[1][0])"
      ],
      "metadata": {
        "id": "CDs7cCvIod_E"
      },
      "execution_count": 43,
      "outputs": []
    },
    {
      "cell_type": "code",
      "source": [
        "recall=(cm[0][0])/(cm[0][0]+cm[0][1])"
      ],
      "metadata": {
        "id": "0ClQgwAVoe8b"
      },
      "execution_count": 44,
      "outputs": []
    },
    {
      "cell_type": "code",
      "source": [
        "f1=2* (precision * recall) / (precision+recall)"
      ],
      "metadata": {
        "id": "mfvQt-0yogM6"
      },
      "execution_count": 45,
      "outputs": []
    },
    {
      "cell_type": "markdown",
      "source": [
        "# End Results"
      ],
      "metadata": {
        "id": "sESYPo5qo7Aj"
      }
    },
    {
      "cell_type": "code",
      "source": [
        "accuracy"
      ],
      "metadata": {
        "colab": {
          "base_uri": "https://localhost:8080/"
        },
        "id": "3DvQhYAOoxNb",
        "outputId": "2f7c5de7-ea0e-4637-b303-f1920f8cc93a"
      },
      "execution_count": 46,
      "outputs": [
        {
          "output_type": "execute_result",
          "data": {
            "text/plain": [
              "0.9558808783716033"
            ]
          },
          "metadata": {},
          "execution_count": 46
        }
      ]
    },
    {
      "cell_type": "code",
      "source": [
        "precision"
      ],
      "metadata": {
        "colab": {
          "base_uri": "https://localhost:8080/"
        },
        "id": "1dUwR7NWozb6",
        "outputId": "29402922-9c06-4fa6-eaab-45631ce4f423"
      },
      "execution_count": 47,
      "outputs": [
        {
          "output_type": "execute_result",
          "data": {
            "text/plain": [
              "0.9573450269085111"
            ]
          },
          "metadata": {},
          "execution_count": 47
        }
      ]
    },
    {
      "cell_type": "code",
      "source": [
        "recall"
      ],
      "metadata": {
        "colab": {
          "base_uri": "https://localhost:8080/"
        },
        "id": "lJtlNF9to0sJ",
        "outputId": "37643274-82a8-4386-ba0d-f7c25044e3fe"
      },
      "execution_count": 48,
      "outputs": [
        {
          "output_type": "execute_result",
          "data": {
            "text/plain": [
              "0.9550606482402068"
            ]
          },
          "metadata": {},
          "execution_count": 48
        }
      ]
    },
    {
      "cell_type": "code",
      "source": [
        "f1"
      ],
      "metadata": {
        "colab": {
          "base_uri": "https://localhost:8080/"
        },
        "id": "Mse7Pb9eo16B",
        "outputId": "1fbe90b1-af54-4bc4-d2e4-3e829259ba09"
      },
      "execution_count": 49,
      "outputs": [
        {
          "output_type": "execute_result",
          "data": {
            "text/plain": [
              "0.9562014732231734"
            ]
          },
          "metadata": {},
          "execution_count": 49
        }
      ]
    }
  ]
}
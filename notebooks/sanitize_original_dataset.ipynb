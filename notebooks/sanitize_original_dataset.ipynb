{
 "cells": [
  {
   "cell_type": "markdown",
   "id": "ff6f9c8e-fef8-44b2-9a5a-aa48f30ced59",
   "metadata": {
    "tags": []
   },
   "source": [
    "# Imports & Env"
   ]
  },
  {
   "cell_type": "code",
   "execution_count": 1,
   "id": "79429d56-4515-44d8-90e6-686fc886bc4c",
   "metadata": {},
   "outputs": [],
   "source": [
    "import findspark\n",
    "findspark.init()\n",
    "import pyspark\n",
    "from pyspark.sql import SparkSession"
   ]
  },
  {
   "cell_type": "code",
   "execution_count": 2,
   "id": "87a38d56-48ea-4578-8e9b-9c53c57cac2e",
   "metadata": {},
   "outputs": [],
   "source": [
    "import collections\n",
    "collections.Callable = collections.abc.Callable"
   ]
  },
  {
   "cell_type": "code",
   "execution_count": 3,
   "id": "71152fe1-b570-46e2-9362-53c7b595df0b",
   "metadata": {},
   "outputs": [],
   "source": [
    "from pyreadline import Readline\n",
    "readline = Readline()\n",
    "import rlcompleter\n",
    "readline.parse_and_bind(\"tab: complete\")"
   ]
  },
  {
   "cell_type": "code",
   "execution_count": 4,
   "id": "d166ec85-e653-4b38-aae4-7fbad2f52926",
   "metadata": {},
   "outputs": [],
   "source": [
    "import pyspark\n",
    "from pyspark.sql import SparkSession\n",
    "from pyspark.sql.types import StructType,StructField, StringType, IntegerType, FloatType \n",
    "from pyspark.sql.types import ArrayType, DoubleType, BooleanType\n",
    "from pyspark.sql.functions import col,array_contains"
   ]
  },
  {
   "cell_type": "code",
   "execution_count": 5,
   "id": "f5705c76-7681-4fa8-8872-8fa006956060",
   "metadata": {},
   "outputs": [],
   "source": [
    "import os"
   ]
  },
  {
   "cell_type": "code",
   "execution_count": 6,
   "id": "a7aa904d-9a11-4432-a895-ae484ae00f33",
   "metadata": {},
   "outputs": [],
   "source": [
    "os.chdir(\"..\")"
   ]
  },
  {
   "cell_type": "code",
   "execution_count": 7,
   "id": "3b6bc373-a85d-4d0d-a7ca-d7ac13baf918",
   "metadata": {},
   "outputs": [
    {
     "data": {
      "text/plain": [
       "'E:\\\\coding\\\\repos\\\\BigDataProject'"
      ]
     },
     "execution_count": 7,
     "metadata": {},
     "output_type": "execute_result"
    }
   ],
   "source": [
    "os.getcwd()"
   ]
  },
  {
   "cell_type": "code",
   "execution_count": 8,
   "id": "19ae04c8-c380-4203-ba38-398c1541cbd5",
   "metadata": {},
   "outputs": [],
   "source": [
    "spark = SparkSession.builder.master(\"local\").appName('SamplingReviews')\\\n",
    ".config('spark.executor.cores', '8').config('spark.executor.memory','16g').getOrCreate()"
   ]
  },
  {
   "cell_type": "markdown",
   "id": "c8078c8a-7808-41d9-852c-bcf93bcfb551",
   "metadata": {
    "tags": []
   },
   "source": [
    "# Sampling"
   ]
  },
  {
   "cell_type": "markdown",
   "id": "e7b90fe0-6807-40fe-bf7b-fbd701f1df63",
   "metadata": {
    "jp-MarkdownHeadingCollapsed": true,
    "tags": []
   },
   "source": [
    "## Init Dataset"
   ]
  },
  {
   "cell_type": "code",
   "execution_count": 21,
   "id": "e7c5e5bd-bec7-405d-b08c-c1493b8d135a",
   "metadata": {},
   "outputs": [],
   "source": [
    "DATASET_PATH = \"data/steam_reviews.csv\""
   ]
  },
  {
   "cell_type": "code",
   "execution_count": 13,
   "id": "23e44402-b737-48e5-82b2-699b2a37104b",
   "metadata": {},
   "outputs": [],
   "source": [
    "NON_NULL_DATASET_PATH = \"data/steam_reviews_non_null\""
   ]
  },
  {
   "cell_type": "code",
   "execution_count": 10,
   "id": "431304d1-ea24-4f4d-a181-d4e4342d0954",
   "metadata": {},
   "outputs": [],
   "source": [
    "schema = StructType() \\\n",
    "      .add(\"#\",IntegerType(),True) \\\n",
    "      .add(\"app_id\",IntegerType(),True) \\\n",
    "      .add(\"app_name\",StringType(),True) \\\n",
    "      .add(\"review_id\",IntegerType(),True) \\\n",
    "      .add(\"language\",StringType(),True) \\\n",
    "      .add(\"review\",StringType(),True) \\\n",
    "      .add(\"timestamp_created\",IntegerType(),True) \\\n",
    "      .add(\"timestamp_updated\",IntegerType(),True) \\\n",
    "      .add(\"recommended\",BooleanType(),True) \\\n",
    "      .add(\"votes_helpful\",IntegerType(),True) \\\n",
    "      .add(\"votes_funny\",IntegerType(),True) \\\n",
    "      .add(\"weighted_vote_score\",FloatType(),True) \\\n",
    "      .add(\"comment_count\",IntegerType(),True) \\\n",
    "      .add(\"steam_purchase\",BooleanType(),True) \\\n",
    "      .add(\"received_for_free\",BooleanType(),True) \\\n",
    "      .add(\"written_during_early_access\",BooleanType(),True) \\\n",
    "      .add(\"author.steamid\",IntegerType(),True) \\\n",
    "      .add(\"author.num_games_owned\",IntegerType(),True) \\\n",
    "      .add(\"author.num_reviews\",IntegerType(),True) \\\n",
    "      .add(\"author.playtime_forever\",FloatType(),True) \\\n",
    "      .add(\"author.playtime_last_two_weeks\",FloatType(),True) \\\n",
    "      .add(\"author.playtime_at_review\",FloatType(),True) \\\n",
    "      .add(\"author.last_played\",IntegerType(),True)"
   ]
  },
  {
   "cell_type": "code",
   "execution_count": 11,
   "id": "5486092a-6aeb-4a47-a93d-0aa1f6fb3976",
   "metadata": {},
   "outputs": [],
   "source": [
    "INDEX = \"#\"\n",
    "APP_ID = \"app_id\"\n",
    "APP_NAME = \"app_name\"\n",
    "REVIEW_ID = \"review_id\"\n",
    "LANGUAGE = \"language\"\n",
    "REVIEW = \"review\"\n",
    "TIMESTAMP_CREATED = \"timestamp_created\"\n",
    "TIMESTAMP_UPDATED = \"timestamp_updated\"\n",
    "RECOMMENDED = \"recommended\"\n",
    "VOTES_HELPFUL = \"votes_helpful\"\n",
    "VOTES_FUNNY = \"votes_funny\"\n",
    "WEIGHTED_VOTE_SCORE = \"weighted_vote_score\"\n",
    "COMMENT_COUNT = \"comment_count\"\n",
    "STEAM_PURCHASE = \"steam_purchase\"\n",
    "RECEIVED_FOR_FREE = \"received_for_free\"\n",
    "WRITTEN_DURING_EARLY_ACCESS = \"written_during_early_access\"\n",
    "AUTHOR_STEAMID = \"author_steamid\"\n",
    "AUTHOR_NUM_GAMES_OWNED = \"author_num_games_owned\"\n",
    "AUTHOR_NUM_REVIEWS = \"author_num_reviews\"\n",
    "AUTHOR_PLAYTIME_FOREVER = \"author_playtime_forever\"\n",
    "AUTHOR_PLAYTIME_LAST_TWO_WEEKS = \"author_playtime_last_two_weeks\"\n",
    "AUTHOR_PLAYTIME_AT_REVIEW = \"author_playtime_at_review\"\n",
    "AUTHOR_LAST_PLAYED = \"author_last_played\""
   ]
  },
  {
   "cell_type": "code",
   "execution_count": 12,
   "id": "b03641e6-9717-443b-9485-5a1e18c2f504",
   "metadata": {},
   "outputs": [],
   "source": [
    "df_with_schema = spark.read.format(\"csv\") \\\n",
    "      .option(\"header\", True) \\\n",
    "      .option(\"encoding\", \"utf-8\") \\\n",
    "      .schema(schema) \\\n",
    "      .load(DATASET_PATH)"
   ]
  },
  {
   "cell_type": "code",
   "execution_count": 13,
   "id": "b7902c83-130c-4086-90ec-493efe44a95e",
   "metadata": {},
   "outputs": [],
   "source": [
    "new_columns = [x.replace(\".\",\"_\") for x in df_with_schema.columns]"
   ]
  },
  {
   "cell_type": "code",
   "execution_count": 14,
   "id": "fe36bd51-6a97-4f40-a11a-d0790402e4e8",
   "metadata": {},
   "outputs": [],
   "source": [
    "df_with_schema = df_with_schema.toDF(*new_columns)"
   ]
  },
  {
   "cell_type": "code",
   "execution_count": 15,
   "id": "495e5712-72aa-4f3f-ac04-17c1fbd0af13",
   "metadata": {},
   "outputs": [
    {
     "name": "stdout",
     "output_type": "stream",
     "text": [
      "root\n",
      " |-- #: integer (nullable = true)\n",
      " |-- app_id: integer (nullable = true)\n",
      " |-- app_name: string (nullable = true)\n",
      " |-- review_id: integer (nullable = true)\n",
      " |-- language: string (nullable = true)\n",
      " |-- review: string (nullable = true)\n",
      " |-- timestamp_created: integer (nullable = true)\n",
      " |-- timestamp_updated: integer (nullable = true)\n",
      " |-- recommended: boolean (nullable = true)\n",
      " |-- votes_helpful: integer (nullable = true)\n",
      " |-- votes_funny: integer (nullable = true)\n",
      " |-- weighted_vote_score: float (nullable = true)\n",
      " |-- comment_count: integer (nullable = true)\n",
      " |-- steam_purchase: boolean (nullable = true)\n",
      " |-- received_for_free: boolean (nullable = true)\n",
      " |-- written_during_early_access: boolean (nullable = true)\n",
      " |-- author_steamid: integer (nullable = true)\n",
      " |-- author_num_games_owned: integer (nullable = true)\n",
      " |-- author_num_reviews: integer (nullable = true)\n",
      " |-- author_playtime_forever: float (nullable = true)\n",
      " |-- author_playtime_last_two_weeks: float (nullable = true)\n",
      " |-- author_playtime_at_review: float (nullable = true)\n",
      " |-- author_last_played: integer (nullable = true)\n",
      "\n"
     ]
    }
   ],
   "source": [
    "df_with_schema.printSchema()"
   ]
  },
  {
   "cell_type": "code",
   "execution_count": 17,
   "id": "62e14613-943e-4819-8678-b042739a227f",
   "metadata": {},
   "outputs": [
    {
     "data": {
      "text/plain": [
       "40848659"
      ]
     },
     "execution_count": 17,
     "metadata": {},
     "output_type": "execute_result"
    }
   ],
   "source": [
    "df_with_schema.count()"
   ]
  },
  {
   "cell_type": "code",
   "execution_count": 17,
   "id": "a7945e7e-677b-494e-8499-e98344c529d9",
   "metadata": {},
   "outputs": [],
   "source": [
    "df_non_null = df_with_schema.where(df_with_schema[INDEX].isNull()==False)"
   ]
  },
  {
   "cell_type": "code",
   "execution_count": 19,
   "id": "995835e1-ede8-40e8-b7c8-a3340de59aac",
   "metadata": {},
   "outputs": [
    {
     "data": {
      "text/plain": [
       "21768122"
      ]
     },
     "execution_count": 19,
     "metadata": {},
     "output_type": "execute_result"
    }
   ],
   "source": [
    "df_non_null.count()"
   ]
  },
  {
   "cell_type": "code",
   "execution_count": 12,
   "id": "c386fc70-0898-4d2f-9897-be9d5f9953f6",
   "metadata": {},
   "outputs": [],
   "source": []
  },
  {
   "cell_type": "code",
   "execution_count": 25,
   "id": "eab19140-a7a7-49bf-b468-bdb427e27656",
   "metadata": {},
   "outputs": [],
   "source": [
    "df_non_null.repartition(1).write.options(header='True', delimiter=',').csv(NON_NULL_DATASET_PATH)"
   ]
  },
  {
   "cell_type": "code",
   "execution_count": null,
   "id": "22ff251d-027c-44c3-9019-fd9dea50c91f",
   "metadata": {},
   "outputs": [],
   "source": []
  },
  {
   "cell_type": "markdown",
   "id": "978f572b-ad13-4609-9476-a27eef252804",
   "metadata": {
    "jp-MarkdownHeadingCollapsed": true,
    "tags": []
   },
   "source": [
    "# load the non null df"
   ]
  },
  {
   "cell_type": "code",
   "execution_count": null,
   "id": "b99d375f-773d-4833-a3cc-c55fbe0f6266",
   "metadata": {},
   "outputs": [],
   "source": [
    "# create the bellow mentioned samples of the dataset"
   ]
  },
  {
   "cell_type": "code",
   "execution_count": null,
   "id": "42e02ba3-da42-41d4-b689-c0d46b9ff413",
   "metadata": {},
   "outputs": [],
   "source": [
    "# move as methods, the code for creating each dataset in the codebase"
   ]
  },
  {
   "cell_type": "code",
   "execution_count": null,
   "id": "87600556-d72c-43e1-9f00-318f003d2cf8",
   "metadata": {},
   "outputs": [],
   "source": [
    "# move all the constants and variables defined into the codebase"
   ]
  },
  {
   "cell_type": "code",
   "execution_count": 30,
   "id": "f043ca29-2ef0-4ca5-92e7-7758cc3fabad",
   "metadata": {},
   "outputs": [],
   "source": [
    "non_null_schema = StructType() \\\n",
    "      .add(\"#\",IntegerType(),True) \\\n",
    "      .add(\"app_id\",IntegerType(),True) \\\n",
    "      .add(\"app_name\",StringType(),True) \\\n",
    "      .add(\"review_id\",IntegerType(),True) \\\n",
    "      .add(\"language\",StringType(),True) \\\n",
    "      .add(\"review\",StringType(),True) \\\n",
    "      .add(\"timestamp_created\",IntegerType(),True) \\\n",
    "      .add(\"timestamp_updated\",IntegerType(),True) \\\n",
    "      .add(\"recommended\",BooleanType(),True) \\\n",
    "      .add(\"votes_helpful\",IntegerType(),True) \\\n",
    "      .add(\"votes_funny\",IntegerType(),True) \\\n",
    "      .add(\"weighted_vote_score\",FloatType(),True) \\\n",
    "      .add(\"comment_count\",IntegerType(),True) \\\n",
    "      .add(\"steam_purchase\",BooleanType(),True) \\\n",
    "      .add(\"received_for_free\",BooleanType(),True) \\\n",
    "      .add(\"written_during_early_access\",BooleanType(),True) \\\n",
    "      .add(\"author_steamid\",IntegerType(),True) \\\n",
    "      .add(\"author_num_games_owned\",IntegerType(),True) \\\n",
    "      .add(\"author_num_reviews\",IntegerType(),True) \\\n",
    "      .add(\"author_playtime_forever\",FloatType(),True) \\\n",
    "      .add(\"author_playtime_last_two_weeks\",FloatType(),True) \\\n",
    "      .add(\"author_playtime_at_review\",FloatType(),True) \\\n",
    "      .add(\"author_last_played\",IntegerType(),True)"
   ]
  },
  {
   "cell_type": "code",
   "execution_count": 31,
   "id": "a54c4655-efaf-45bc-9883-d7542c03d90d",
   "metadata": {},
   "outputs": [],
   "source": [
    "df_non_null = spark.read.format(\"csv\") \\\n",
    "      .option(\"header\", True) \\\n",
    "      .option(\"encoding\", \"utf-8\") \\\n",
    "      .schema(non_null_schema) \\\n",
    "      .load(NON_NULL_DATASET_PATH)"
   ]
  },
  {
   "cell_type": "code",
   "execution_count": 17,
   "id": "099dfdfc-06ea-4857-a9e7-8270ed9b69a4",
   "metadata": {},
   "outputs": [
    {
     "data": {
      "text/plain": [
       "713"
      ]
     },
     "execution_count": 17,
     "metadata": {},
     "output_type": "execute_result"
    }
   ],
   "source": [
    "df_non_null.select(LANGUAGE).distinct().count()"
   ]
  },
  {
   "cell_type": "code",
   "execution_count": 25,
   "id": "e3fba349-9b75-4361-a17c-e9da375ccaab",
   "metadata": {},
   "outputs": [
    {
     "data": {
      "text/plain": [
       "21714875"
      ]
     },
     "execution_count": 25,
     "metadata": {},
     "output_type": "execute_result"
    }
   ],
   "source": [
    "df_non_null.where(df_non_null[REVIEW].isNull()==False).count()"
   ]
  },
  {
   "cell_type": "code",
   "execution_count": 26,
   "id": "5babbdd0-4362-4c2c-80e3-8f3d8402b0fc",
   "metadata": {},
   "outputs": [
    {
     "data": {
      "text/plain": [
       "16672507"
      ]
     },
     "execution_count": 26,
     "metadata": {},
     "output_type": "execute_result"
    }
   ],
   "source": [
    "df_non_null.where(df_non_null[RECOMMENDED].isNull()==False).count()"
   ]
  },
  {
   "cell_type": "code",
   "execution_count": 27,
   "id": "f5b7d8b2-9b34-47a1-9831-b08cd5e5a652",
   "metadata": {},
   "outputs": [
    {
     "data": {
      "text/plain": [
       "21747682"
      ]
     },
     "execution_count": 27,
     "metadata": {},
     "output_type": "execute_result"
    }
   ],
   "source": [
    "df_non_null.where(df_non_null[APP_ID].isNull()==False).count()"
   ]
  },
  {
   "cell_type": "code",
   "execution_count": 32,
   "id": "ed990bf0-78f6-44c2-b6a7-b07c4c49fc0e",
   "metadata": {},
   "outputs": [
    {
     "data": {
      "text/plain": [
       "18709"
      ]
     },
     "execution_count": 32,
     "metadata": {},
     "output_type": "execute_result"
    }
   ],
   "source": [
    "df_non_null.where(df_non_null[AUTHOR_STEAMID].isNull()==False).count()"
   ]
  },
  {
   "cell_type": "code",
   "execution_count": 33,
   "id": "61bbd54e-3fe8-4566-a992-3ab67ae83025",
   "metadata": {},
   "outputs": [
    {
     "data": {
      "text/plain": [
       "16715506"
      ]
     },
     "execution_count": 33,
     "metadata": {},
     "output_type": "execute_result"
    }
   ],
   "source": [
    "df_non_null.where(df_non_null[COMMENT_COUNT].isNull()==False).count()"
   ]
  },
  {
   "cell_type": "code",
   "execution_count": 34,
   "id": "d32a4f5d-4e0c-4f29-8343-f55795a7f688",
   "metadata": {},
   "outputs": [
    {
     "data": {
      "text/plain": [
       "16729943"
      ]
     },
     "execution_count": 34,
     "metadata": {},
     "output_type": "execute_result"
    }
   ],
   "source": [
    "df_non_null.where(df_non_null[VOTES_FUNNY].isNull()==False).count()"
   ]
  },
  {
   "cell_type": "code",
   "execution_count": 35,
   "id": "5bd3078d-4320-490e-8053-7b8315b427b5",
   "metadata": {},
   "outputs": [
    {
     "data": {
      "text/plain": [
       "16705650"
      ]
     },
     "execution_count": 35,
     "metadata": {},
     "output_type": "execute_result"
    }
   ],
   "source": [
    "df_non_null.where(df_non_null[VOTES_HELPFUL].isNull()==False).count()"
   ]
  },
  {
   "cell_type": "code",
   "execution_count": 37,
   "id": "7a21e7ea-f2ed-4bd5-a02a-d23e34454bf4",
   "metadata": {},
   "outputs": [
    {
     "data": {
      "text/plain": [
       "16675508"
      ]
     },
     "execution_count": 37,
     "metadata": {},
     "output_type": "execute_result"
    }
   ],
   "source": [
    "df_non_null.where(df_non_null[TIMESTAMP_CREATED].isNull()==False).count()"
   ]
  },
  {
   "cell_type": "code",
   "execution_count": 38,
   "id": "5a27ad99-6f01-444f-8a8e-d6b14f5a0201",
   "metadata": {},
   "outputs": [
    {
     "data": {
      "text/plain": [
       "16709690"
      ]
     },
     "execution_count": 38,
     "metadata": {},
     "output_type": "execute_result"
    }
   ],
   "source": [
    "df_non_null.where(df_non_null[TIMESTAMP_UPDATED].isNull()==False).count()"
   ]
  },
  {
   "cell_type": "code",
   "execution_count": 39,
   "id": "ca83edf1-c04d-41ef-9d6a-6fb052398ca3",
   "metadata": {},
   "outputs": [
    {
     "data": {
      "text/plain": [
       "21750747"
      ]
     },
     "execution_count": 39,
     "metadata": {},
     "output_type": "execute_result"
    }
   ],
   "source": [
    "df_non_null.where(df_non_null[LANGUAGE].isNull()==False).count()"
   ]
  },
  {
   "cell_type": "code",
   "execution_count": 40,
   "id": "76eb5680-b5a1-439d-9d2a-cfb19c3b14f9",
   "metadata": {},
   "outputs": [
    {
     "data": {
      "text/plain": [
       "16678562"
      ]
     },
     "execution_count": 40,
     "metadata": {},
     "output_type": "execute_result"
    }
   ],
   "source": [
    "df_non_null.where(df_non_null[STEAM_PURCHASE].isNull()==False).count()"
   ]
  },
  {
   "cell_type": "code",
   "execution_count": 41,
   "id": "7a63ce7f-b94e-4268-810d-05780a32bd4a",
   "metadata": {},
   "outputs": [
    {
     "data": {
      "text/plain": [
       "16713547"
      ]
     },
     "execution_count": 41,
     "metadata": {},
     "output_type": "execute_result"
    }
   ],
   "source": [
    "df_non_null.where(df_non_null[RECEIVED_FOR_FREE].isNull()==False).count()"
   ]
  },
  {
   "cell_type": "code",
   "execution_count": 42,
   "id": "7fb2b6af-f5c7-46b8-9a9a-397665a5f15f",
   "metadata": {},
   "outputs": [
    {
     "data": {
      "text/plain": [
       "16732525"
      ]
     },
     "execution_count": 42,
     "metadata": {},
     "output_type": "execute_result"
    }
   ],
   "source": [
    "df_non_null.where(df_non_null[WRITTEN_DURING_EARLY_ACCESS].isNull()==False).count()"
   ]
  },
  {
   "cell_type": "code",
   "execution_count": 43,
   "id": "70e548d7-da2e-4f89-a639-a4547705eed1",
   "metadata": {},
   "outputs": [
    {
     "data": {
      "text/plain": [
       "16686141"
      ]
     },
     "execution_count": 43,
     "metadata": {},
     "output_type": "execute_result"
    }
   ],
   "source": [
    "df_non_null.where(df_non_null[AUTHOR_NUM_GAMES_OWNED].isNull()==False).count()"
   ]
  },
  {
   "cell_type": "code",
   "execution_count": 44,
   "id": "0998a4df-6a96-4f6c-8f8e-e4511711599e",
   "metadata": {},
   "outputs": [
    {
     "data": {
      "text/plain": [
       "16719280"
      ]
     },
     "execution_count": 44,
     "metadata": {},
     "output_type": "execute_result"
    }
   ],
   "source": [
    "df_non_null.where(df_non_null[AUTHOR_NUM_REVIEWS].isNull()==False).count()"
   ]
  },
  {
   "cell_type": "code",
   "execution_count": 45,
   "id": "a8c6c82d-f7af-4eac-add7-1549b89e9852",
   "metadata": {},
   "outputs": [
    {
     "data": {
      "text/plain": [
       "16752281"
      ]
     },
     "execution_count": 45,
     "metadata": {},
     "output_type": "execute_result"
    }
   ],
   "source": [
    "df_non_null.where(df_non_null[AUTHOR_PLAYTIME_FOREVER].isNull()==False).count()"
   ]
  },
  {
   "cell_type": "code",
   "execution_count": 46,
   "id": "bb032459-9127-4cb8-8a71-28f28faad75e",
   "metadata": {},
   "outputs": [
    {
     "data": {
      "text/plain": [
       "16758126"
      ]
     },
     "execution_count": 46,
     "metadata": {},
     "output_type": "execute_result"
    }
   ],
   "source": [
    "df_non_null.where(df_non_null[AUTHOR_PLAYTIME_LAST_TWO_WEEKS].isNull()==False).count()"
   ]
  },
  {
   "cell_type": "code",
   "execution_count": 47,
   "id": "1236c98a-b8ef-4069-b436-d1f85d34b824",
   "metadata": {},
   "outputs": [
    {
     "data": {
      "text/plain": [
       "16743208"
      ]
     },
     "execution_count": 47,
     "metadata": {},
     "output_type": "execute_result"
    }
   ],
   "source": [
    "df_non_null.where(df_non_null[AUTHOR_PLAYTIME_AT_REVIEW].isNull()==False).count()"
   ]
  },
  {
   "cell_type": "code",
   "execution_count": 48,
   "id": "44305e62-eab9-4ac2-adfb-e6d662ead8f8",
   "metadata": {},
   "outputs": [
    {
     "data": {
      "text/plain": [
       "17940"
      ]
     },
     "execution_count": 48,
     "metadata": {},
     "output_type": "execute_result"
    }
   ],
   "source": [
    "df_non_null.where(df_non_null[AUTHOR_LAST_PLAYED].isNull()==False).count()"
   ]
  },
  {
   "cell_type": "markdown",
   "id": "3b264e62-37b8-437d-badb-afa476d39f0c",
   "metadata": {
    "jp-MarkdownHeadingCollapsed": true,
    "tags": []
   },
   "source": [
    "# Non null final"
   ]
  },
  {
   "cell_type": "code",
   "execution_count": 58,
   "id": "54b1cfbe-6752-4605-9ff0-9aa8aba5b25e",
   "metadata": {},
   "outputs": [],
   "source": [
    "df_non_null_final = df_non_null.drop(AUTHOR_LAST_PLAYED, AUTHOR_STEAMID)"
   ]
  },
  {
   "cell_type": "code",
   "execution_count": 62,
   "id": "7d1f0ad7-c459-4351-8028-efbc7253b26a",
   "metadata": {},
   "outputs": [],
   "source": [
    "df_non_null_final = df_non_null_final.dropna(how=\"any\")"
   ]
  },
  {
   "cell_type": "code",
   "execution_count": 64,
   "id": "8d74d73a-0581-4174-945d-5027532443fb",
   "metadata": {},
   "outputs": [],
   "source": [
    "df_non_null_final.repartition(1).write.options(header='True', delimiter=',').csv(FINAL_DATASET)"
   ]
  },
  {
   "cell_type": "code",
   "execution_count": 73,
   "id": "0d962911-cb3d-4701-b89b-d8b26b0505dd",
   "metadata": {},
   "outputs": [],
   "source": [
    "FINAL_DATASET = \"data/steam_reviews_final.csv\""
   ]
  },
  {
   "cell_type": "code",
   "execution_count": 74,
   "id": "33073657-ff29-419d-96ff-cbd3191bd4d8",
   "metadata": {},
   "outputs": [],
   "source": [
    "df_non_null_final = spark.read.format(\"csv\") \\\n",
    "      .option(\"header\", True) \\\n",
    "      .option(\"encoding\", \"utf-8\") \\\n",
    "      .schema(non_null_schema) \\\n",
    "      .load(FINAL_DATASET)"
   ]
  },
  {
   "cell_type": "code",
   "execution_count": 75,
   "id": "c2edc8da-bfc9-416b-a749-a6855075872a",
   "metadata": {},
   "outputs": [
    {
     "data": {
      "text/plain": [
       "16618478"
      ]
     },
     "execution_count": 75,
     "metadata": {},
     "output_type": "execute_result"
    }
   ],
   "source": [
    "df_non_null_final.count()"
   ]
  },
  {
   "cell_type": "code",
   "execution_count": 76,
   "id": "ce53d3ca-4298-41bc-abe0-978787664b9a",
   "metadata": {},
   "outputs": [
    {
     "data": {
      "text/plain": [
       "16618478"
      ]
     },
     "execution_count": 76,
     "metadata": {},
     "output_type": "execute_result"
    }
   ],
   "source": [
    "df_non_null_final.where(df_non_null_final[APP_ID].isNull()==False).count()"
   ]
  },
  {
   "cell_type": "code",
   "execution_count": 77,
   "id": "576ba1c7-0aa8-4446-b837-6d99741f1b09",
   "metadata": {},
   "outputs": [
    {
     "data": {
      "text/plain": [
       "16618478"
      ]
     },
     "execution_count": 77,
     "metadata": {},
     "output_type": "execute_result"
    }
   ],
   "source": [
    "df_non_null_final.where(df_non_null_final[RECOMMENDED].isNull()==False).count()"
   ]
  },
  {
   "cell_type": "code",
   "execution_count": 78,
   "id": "4eb06c4c-d367-418b-9afa-03ea5cd4e65e",
   "metadata": {},
   "outputs": [
    {
     "data": {
      "text/plain": [
       "16618478"
      ]
     },
     "execution_count": 78,
     "metadata": {},
     "output_type": "execute_result"
    }
   ],
   "source": [
    "df_non_null_final.where(df_non_null_final[REVIEW].isNull()==False).count()"
   ]
  },
  {
   "cell_type": "markdown",
   "id": "0b3d25ba-4420-4563-8baf-c81c3e6027c7",
   "metadata": {
    "jp-MarkdownHeadingCollapsed": true,
    "tags": []
   },
   "source": [
    "# Sampling"
   ]
  },
  {
   "cell_type": "code",
   "execution_count": 18,
   "id": "a78be871-6ecc-4afc-a88f-9101884c4e0a",
   "metadata": {},
   "outputs": [],
   "source": [
    "df_english_dataset = df_non_null.where(df_non_null[LANGUAGE] == \"english\")"
   ]
  },
  {
   "cell_type": "code",
   "execution_count": 19,
   "id": "c340b9a3-0e33-4345-9951-d4db81e9cd1b",
   "metadata": {},
   "outputs": [
    {
     "data": {
      "text/plain": [
       "9635437"
      ]
     },
     "execution_count": 19,
     "metadata": {},
     "output_type": "execute_result"
    }
   ],
   "source": [
    "df_english_dataset.count()"
   ]
  },
  {
   "cell_type": "code",
   "execution_count": 22,
   "id": "212287c8-b5a9-4b21-b1e9-eac9bb26f4f1",
   "metadata": {},
   "outputs": [
    {
     "name": "stdout",
     "output_type": "stream",
     "text": [
      "+-----------+-------+\n",
      "|recommended|  count|\n",
      "+-----------+-------+\n",
      "|       null|2369027|\n",
      "|       true|6596099|\n",
      "|      false| 670311|\n",
      "+-----------+-------+\n",
      "\n"
     ]
    }
   ],
   "source": [
    "df_english_dataset.groupBy(RECOMMENDED).count().show()"
   ]
  },
  {
   "cell_type": "code",
   "execution_count": 20,
   "id": "4d3e06b7-33ad-4a17-b95f-71db9d82c7a3",
   "metadata": {},
   "outputs": [],
   "source": [
    "df_non_english_dataset = df_non_null.where(df_non_null[LANGUAGE] != \"english\")"
   ]
  },
  {
   "cell_type": "code",
   "execution_count": 21,
   "id": "2938043e-238d-437e-a483-2614b3af8695",
   "metadata": {},
   "outputs": [
    {
     "data": {
      "text/plain": [
       "12115310"
      ]
     },
     "execution_count": 21,
     "metadata": {},
     "output_type": "execute_result"
    }
   ],
   "source": [
    "df_non_english_dataset.count()"
   ]
  },
  {
   "cell_type": "code",
   "execution_count": 54,
   "id": "8aafeae0-2ab3-4a3f-8706-bbc37b21e1ac",
   "metadata": {},
   "outputs": [
    {
     "name": "stdout",
     "output_type": "stream",
     "text": [
      "+-----------+--------+\n",
      "|recommended|   count|\n",
      "+-----------+--------+\n",
      "|       null| 4810145|\n",
      "|       true|10007504|\n",
      "|      false| 1897153|\n",
      "+-----------+--------+\n",
      "\n"
     ]
    }
   ],
   "source": [
    "df_non_english_dataset.groupBy(RECOMMENDED).count().show()"
   ]
  },
  {
   "cell_type": "code",
   "execution_count": null,
   "id": "6a777a17-6721-415f-8ad6-a786116cb53b",
   "metadata": {},
   "outputs": [],
   "source": []
  },
  {
   "cell_type": "code",
   "execution_count": null,
   "id": "cd62b93f-f84c-418f-8f24-2aa8c6163ee8",
   "metadata": {},
   "outputs": [],
   "source": []
  },
  {
   "cell_type": "code",
   "execution_count": null,
   "id": "774cce3a-327f-43a2-863a-100997f4f45e",
   "metadata": {},
   "outputs": [],
   "source": [
    "# 100k, 50k, 10k"
   ]
  },
  {
   "cell_type": "code",
   "execution_count": null,
   "id": "4322796b-96b4-4f5d-aa6d-b1e8eac2e54c",
   "metadata": {},
   "outputs": [],
   "source": [
    "# small sample for english dataset balanced around RECOMMENDED"
   ]
  },
  {
   "cell_type": "code",
   "execution_count": null,
   "id": "962e8890-5280-44db-bfac-04eae6a66174",
   "metadata": {},
   "outputs": [],
   "source": [
    "# small sample for english dataset balanced around APP_ID"
   ]
  },
  {
   "cell_type": "code",
   "execution_count": null,
   "id": "ab7b74cc-968c-4374-89fe-8a21b86844cc",
   "metadata": {},
   "outputs": [],
   "source": [
    "# small sample for non-english dataset balanced around RECOMMENDED"
   ]
  },
  {
   "cell_type": "code",
   "execution_count": null,
   "id": "4e55cab6-3462-4e7d-855a-322df95a438e",
   "metadata": {},
   "outputs": [],
   "source": [
    "# small sample for non-english dataset balanced around APP_ID"
   ]
  },
  {
   "cell_type": "markdown",
   "id": "d09cb2ea-608b-46f6-8db7-19dfce866bed",
   "metadata": {
    "tags": []
   },
   "source": [
    "# Detect Encoding"
   ]
  },
  {
   "cell_type": "code",
   "execution_count": 36,
   "id": "e0e8a7bd-54be-45f1-877b-cfe7df73a5de",
   "metadata": {},
   "outputs": [],
   "source": [
    "from chardet import detect"
   ]
  },
  {
   "cell_type": "code",
   "execution_count": 37,
   "id": "7ef1df87-2679-4cc5-bd8f-7538daa7d22e",
   "metadata": {},
   "outputs": [
    {
     "data": {
      "text/plain": [
       "bytes"
      ]
     },
     "execution_count": 37,
     "metadata": {},
     "output_type": "execute_result"
    }
   ],
   "source": [
    "type(x)"
   ]
  },
  {
   "cell_type": "code",
   "execution_count": 42,
   "id": "76ecf77a-1022-44b9-a1b0-1f6ff11892b4",
   "metadata": {},
   "outputs": [],
   "source": [
    "with open(DATASET_PATH, \"rb\") as infile:\n",
    "    # for _ in range(30):\n",
    "    x = infile.read(400000)"
   ]
  },
  {
   "cell_type": "code",
   "execution_count": 43,
   "id": "b15e1bb5-30ab-4b44-a0d0-b9be21514132",
   "metadata": {},
   "outputs": [
    {
     "data": {
      "text/plain": [
       "{'encoding': 'Windows-1254',\n",
       " 'confidence': 0.3287225310697952,\n",
       " 'language': 'Turkish'}"
      ]
     },
     "execution_count": 43,
     "metadata": {},
     "output_type": "execute_result"
    }
   ],
   "source": [
    "detect(x)"
   ]
  },
  {
   "cell_type": "markdown",
   "id": "cdd642b5-9663-4f07-a80d-495526988ec6",
   "metadata": {
    "jp-MarkdownHeadingCollapsed": true,
    "tags": []
   },
   "source": [
    "# Ending"
   ]
  },
  {
   "cell_type": "code",
   "execution_count": null,
   "id": "c024a12d-5702-42cb-bfff-5dd4abee7c61",
   "metadata": {},
   "outputs": [],
   "source": [
    "spark.close()"
   ]
  }
 ],
 "metadata": {
  "kernelspec": {
   "display_name": "Python 3 (ipykernel)",
   "language": "python",
   "name": "python3"
  },
  "language_info": {
   "codemirror_mode": {
    "name": "ipython",
    "version": 3
   },
   "file_extension": ".py",
   "mimetype": "text/x-python",
   "name": "python",
   "nbconvert_exporter": "python",
   "pygments_lexer": "ipython3",
   "version": "3.10.2"
  }
 },
 "nbformat": 4,
 "nbformat_minor": 5
}

{
  "nbformat": 4,
  "nbformat_minor": 0,
  "metadata": {
    "colab": {
      "provenance": [],
      "collapsed_sections": [
        "XOCeS2XNNmJt",
        "Vh8kc67VxdNN",
        "6QnTvhXLw1Kd",
        "4BDVOI-JybrK",
        "VAXEo33w-iKT",
        "5PHDeHQJEdgl",
        "sDtS-u6jEg4M",
        "n85cJV4ILGdp",
        "E6nuxfdMLY1C",
        "Qpij1tTsT2I4"
      ]
    },
    "kernelspec": {
      "name": "python3",
      "display_name": "Python 3"
    },
    "language_info": {
      "name": "python"
    }
  },
  "cells": [
    {
      "cell_type": "markdown",
      "source": [
        "## Install packages"
      ],
      "metadata": {
        "id": "XOCeS2XNNmJt"
      }
    },
    {
      "cell_type": "code",
      "source": [
        "!pip install findspark\n",
        "!pip install pyspark\n",
        "!pip install nltk"
      ],
      "metadata": {
        "colab": {
          "base_uri": "https://localhost:8080/"
        },
        "id": "N6wT1dReNp8A",
        "outputId": "a39a69a2-5a3f-42ce-b84f-b46244250c4c"
      },
      "execution_count": 1,
      "outputs": [
        {
          "output_type": "stream",
          "name": "stdout",
          "text": [
            "Looking in indexes: https://pypi.org/simple, https://us-python.pkg.dev/colab-wheels/public/simple/\n",
            "Collecting findspark\n",
            "  Downloading findspark-2.0.1-py2.py3-none-any.whl (4.4 kB)\n",
            "Installing collected packages: findspark\n",
            "Successfully installed findspark-2.0.1\n",
            "Looking in indexes: https://pypi.org/simple, https://us-python.pkg.dev/colab-wheels/public/simple/\n",
            "Collecting pyspark\n",
            "  Downloading pyspark-3.3.1.tar.gz (281.4 MB)\n",
            "\u001b[K     |████████████████████████████████| 281.4 MB 42 kB/s \n",
            "\u001b[?25hCollecting py4j==0.10.9.5\n",
            "  Downloading py4j-0.10.9.5-py2.py3-none-any.whl (199 kB)\n",
            "\u001b[K     |████████████████████████████████| 199 kB 55.7 MB/s \n",
            "\u001b[?25hBuilding wheels for collected packages: pyspark\n",
            "  Building wheel for pyspark (setup.py) ... \u001b[?25l\u001b[?25hdone\n",
            "  Created wheel for pyspark: filename=pyspark-3.3.1-py2.py3-none-any.whl size=281845512 sha256=918bc18213ddc92d72363e646a2999d27c77e32531478cc332eb1ee673d53307\n",
            "  Stored in directory: /root/.cache/pip/wheels/43/dc/11/ec201cd671da62fa9c5cc77078235e40722170ceba231d7598\n",
            "Successfully built pyspark\n",
            "Installing collected packages: py4j, pyspark\n",
            "Successfully installed py4j-0.10.9.5 pyspark-3.3.1\n",
            "Looking in indexes: https://pypi.org/simple, https://us-python.pkg.dev/colab-wheels/public/simple/\n",
            "Requirement already satisfied: nltk in /usr/local/lib/python3.8/dist-packages (3.7)\n",
            "Requirement already satisfied: regex>=2021.8.3 in /usr/local/lib/python3.8/dist-packages (from nltk) (2022.6.2)\n",
            "Requirement already satisfied: tqdm in /usr/local/lib/python3.8/dist-packages (from nltk) (4.64.1)\n",
            "Requirement already satisfied: joblib in /usr/local/lib/python3.8/dist-packages (from nltk) (1.2.0)\n",
            "Requirement already satisfied: click in /usr/local/lib/python3.8/dist-packages (from nltk) (7.1.2)\n"
          ]
        }
      ]
    },
    {
      "cell_type": "markdown",
      "source": [
        "# Imports and Env"
      ],
      "metadata": {
        "id": "Vh8kc67VxdNN"
      }
    },
    {
      "cell_type": "code",
      "source": [
        "import findspark\n",
        "from pyspark.sql import SparkSession\n",
        "from pyspark.ml.feature import StopWordsRemover\n",
        "from pyspark.sql.types import StructType, StringType, IntegerType, FloatType, BooleanType, ArrayType\n",
        "from pyspark.ml.feature import CountVectorizer\n",
        "import nltk\n",
        "from nltk.stem.porter import PorterStemmer\n",
        "from nltk.stem import WordNetLemmatizer\n",
        "import re"
      ],
      "metadata": {
        "id": "qZXy8IwLxcCm"
      },
      "execution_count": 2,
      "outputs": []
    },
    {
      "cell_type": "code",
      "source": [
        "import pyspark.sql.functions as sqlf"
      ],
      "metadata": {
        "id": "V3Zqj0PsI957"
      },
      "execution_count": 3,
      "outputs": []
    },
    {
      "cell_type": "code",
      "source": [
        "from google.colab import drive"
      ],
      "metadata": {
        "id": "_GB5iZcjxh3F"
      },
      "execution_count": 4,
      "outputs": []
    },
    {
      "cell_type": "code",
      "source": [
        "drive.mount('/content/drive/')"
      ],
      "metadata": {
        "colab": {
          "base_uri": "https://localhost:8080/"
        },
        "id": "kSn5B6mZxn4f",
        "outputId": "348b9d70-936f-4544-d889-86145ef84a03"
      },
      "execution_count": 5,
      "outputs": [
        {
          "output_type": "stream",
          "name": "stdout",
          "text": [
            "Mounted at /content/drive/\n"
          ]
        }
      ]
    },
    {
      "cell_type": "code",
      "source": [
        "import os"
      ],
      "metadata": {
        "id": "1PGd8dmpxzec"
      },
      "execution_count": 6,
      "outputs": []
    },
    {
      "cell_type": "code",
      "source": [
        "os.getcwd()"
      ],
      "metadata": {
        "colab": {
          "base_uri": "https://localhost:8080/",
          "height": 0
        },
        "id": "2oDRxBHZxzVl",
        "outputId": "d2c6731c-0d38-47fd-81bf-9fa0205d049b"
      },
      "execution_count": 7,
      "outputs": [
        {
          "output_type": "execute_result",
          "data": {
            "text/plain": [
              "'/content'"
            ],
            "application/vnd.google.colaboratory.intrinsic+json": {
              "type": "string"
            }
          },
          "metadata": {},
          "execution_count": 7
        }
      ]
    },
    {
      "cell_type": "code",
      "source": [
        "os.chdir('drive/MyDrive/SteamReviews2021Project')"
      ],
      "metadata": {
        "id": "PU1TC4G_yG-h"
      },
      "execution_count": 8,
      "outputs": []
    },
    {
      "cell_type": "code",
      "source": [
        "os.listdir()"
      ],
      "metadata": {
        "colab": {
          "base_uri": "https://localhost:8080/"
        },
        "id": "drXRv9WeyXIu",
        "outputId": "24115146-edd7-4673-8b7a-eb418ef7112e"
      },
      "execution_count": 9,
      "outputs": [
        {
          "output_type": "execute_result",
          "data": {
            "text/plain": [
              "['data',\n",
              " 'BDA_Project_Preprocessing.ipynb',\n",
              " 'models',\n",
              " 'Preprocessing+tokenization.ipynb']"
            ]
          },
          "metadata": {},
          "execution_count": 9
        }
      ]
    },
    {
      "cell_type": "markdown",
      "source": [
        "# Constants"
      ],
      "metadata": {
        "id": "6QnTvhXLw1Kd"
      }
    },
    {
      "cell_type": "code",
      "source": [
        "non_null_schema = StructType() \\\n",
        "    .add(\"#\", IntegerType(), True) \\\n",
        "    .add(\"app_id\", IntegerType(), True) \\\n",
        "    .add(\"app_name\", StringType(), True) \\\n",
        "    .add(\"review_id\", IntegerType(), True) \\\n",
        "    .add(\"language\", StringType(), True) \\\n",
        "    .add(\"review\", StringType(), True) \\\n",
        "    .add(\"timestamp_created\", IntegerType(), True) \\\n",
        "    .add(\"timestamp_updated\", IntegerType(), True) \\\n",
        "    .add(\"recommended\", BooleanType(), True) \\\n",
        "    .add(\"votes_helpful\", IntegerType(), True) \\\n",
        "    .add(\"votes_funny\", IntegerType(), True) \\\n",
        "    .add(\"weighted_vote_score\", FloatType(), True) \\\n",
        "    .add(\"comment_count\", IntegerType(), True) \\\n",
        "    .add(\"steam_purchase\", BooleanType(), True) \\\n",
        "    .add(\"received_for_free\", BooleanType(), True) \\\n",
        "    .add(\"written_during_early_access\", BooleanType(), True) \\\n",
        "    .add(\"author_steamid\", IntegerType(), True) \\\n",
        "    .add(\"author_num_games_owned\", IntegerType(), True) \\\n",
        "    .add(\"author_num_reviews\", IntegerType(), True) \\\n",
        "    .add(\"author_playtime_forever\", FloatType(), True) \\\n",
        "    .add(\"author_playtime_last_two_weeks\", FloatType(), True) \\\n",
        "    .add(\"author_playtime_at_review\", FloatType(), True) \\\n",
        "    .add(\"author_last_played\", IntegerType(), True)"
      ],
      "metadata": {
        "id": "oUoFfGz9w1zi"
      },
      "execution_count": 10,
      "outputs": []
    },
    {
      "cell_type": "code",
      "source": [
        "INDEX = \"#\"\n",
        "APP_ID = \"app_id\"\n",
        "APP_NAME = \"app_name\"\n",
        "REVIEW_ID = \"review_id\"\n",
        "LANGUAGE = \"language\"\n",
        "REVIEW = \"review\"\n",
        "TIMESTAMP_CREATED = \"timestamp_created\"\n",
        "TIMESTAMP_UPDATED = \"timestamp_updated\"\n",
        "RECOMMENDED = \"recommended\"\n",
        "VOTES_HELPFUL = \"votes_helpful\"\n",
        "VOTES_FUNNY = \"votes_funny\"\n",
        "WEIGHTED_VOTE_SCORE = \"weighted_vote_score\"\n",
        "COMMENT_COUNT = \"comment_count\"\n",
        "STEAM_PURCHASE = \"steam_purchase\"\n",
        "RECEIVED_FOR_FREE = \"received_for_free\"\n",
        "WRITTEN_DURING_EARLY_ACCESS = \"written_during_early_access\"\n",
        "AUTHOR_STEAMID = \"author_steamid\"\n",
        "AUTHOR_NUM_GAMES_OWNED = \"author_num_games_owned\"\n",
        "AUTHOR_NUM_REVIEWS = \"author_num_reviews\"\n",
        "AUTHOR_PLAYTIME_FOREVER = \"author_playtime_forever\"\n",
        "AUTHOR_PLAYTIME_LAST_TWO_WEEKS = \"author_playtime_last_two_weeks\"\n",
        "AUTHOR_PLAYTIME_AT_REVIEW = \"author_playtime_at_review\"\n",
        "AUTHOR_LAST_PLAYED = \"author_last_played\""
      ],
      "metadata": {
        "id": "I9E8DLlWw2S7"
      },
      "execution_count": 11,
      "outputs": []
    },
    {
      "cell_type": "code",
      "source": [
        "AUX_COL = \"aux\""
      ],
      "metadata": {
        "id": "hLGqP9808n5r"
      },
      "execution_count": 12,
      "outputs": []
    },
    {
      "cell_type": "markdown",
      "source": [
        "# Preprocessing"
      ],
      "metadata": {
        "id": "4BDVOI-JybrK"
      }
    },
    {
      "cell_type": "code",
      "source": [
        "DATASET_PATH = \"data/final_dataset_10k_en_recommended_5000per.csv\""
      ],
      "metadata": {
        "id": "0MP1iFVd8DrK"
      },
      "execution_count": 13,
      "outputs": []
    },
    {
      "cell_type": "code",
      "source": [
        "findspark.init()\n",
        "spark = SparkSession.builder.master(\"local\") \\\n",
        "                    .appName(\"Preprocessing reviews\") \\\n",
        "                    .config(\"spark.executor.cores\", \"8\") \\\n",
        "                    .config(\"spark.executor.memory\", \"16g\") \\\n",
        "                    .getOrCreate()"
      ],
      "metadata": {
        "id": "iVZkb697yd0l"
      },
      "execution_count": 14,
      "outputs": []
    },
    {
      "cell_type": "code",
      "source": [
        "df = spark.read.format(\"csv\") \\\n",
        "    .option(\"header\", True) \\\n",
        "    .option(\"encoding\", \"utf-8\") \\\n",
        "    .schema(non_null_schema) \\\n",
        "    .load(DATASET_PATH)"
      ],
      "metadata": {
        "id": "Jf-ybUqS8DHX"
      },
      "execution_count": 15,
      "outputs": []
    },
    {
      "cell_type": "code",
      "source": [
        "df = df.withColumn(\"review\", sqlf.lower(sqlf.col(\"review\")))"
      ],
      "metadata": {
        "id": "IxHDnQHQ6IaZ"
      },
      "execution_count": 16,
      "outputs": []
    },
    {
      "cell_type": "code",
      "source": [
        "url_removal = re.compile(r'https?://\\S+')\n",
        "url_remover_udf = sqlf.udf(lambda element: url_removal.sub('', element))\n",
        "df = df.withColumn(\"review\", url_remover_udf(\"review\"))"
      ],
      "metadata": {
        "id": "K4_QsKE06acg"
      },
      "execution_count": 17,
      "outputs": []
    },
    {
      "cell_type": "code",
      "source": [
        "spaces_remover_udf = sqlf.udf(lambda element: element.replace(\"  \", \" \")\n",
        "                                            .replace(\"\\n\", \" \")\n",
        "                                            .replace(\"\\t\", \" \")\n",
        "                                            .replace(\"\\r\\n\", \" \"))\n",
        "df = df.withColumn(\"review\", spaces_remover_udf(\"review\"))"
      ],
      "metadata": {
        "id": "znPFXpAh65C-"
      },
      "execution_count": 18,
      "outputs": []
    },
    {
      "cell_type": "code",
      "source": [
        "mentions_removal = re.compile(r'(@[A-Za-z0-9]+)')\n",
        "mentions_remover_udf = sqlf.udf(lambda element: mentions_removal.sub(' ', element))\n",
        "df = df.withColumn(\"review\", mentions_remover_udf(\"review\"))"
      ],
      "metadata": {
        "id": "N5sos6dA6t85"
      },
      "execution_count": 19,
      "outputs": []
    },
    {
      "cell_type": "code",
      "source": [
        "mails_removal = re.compile(r'^[a-z0-9]+[\\._]?[a-z0-9]+[@]\\w+[.]\\w{2,3}$')\n",
        "mails_remover_udf = sqlf.udf(lambda element: mails_removal.sub('', element))\n",
        "df = df.withColumn(\"review\", mails_remover_udf(\"review\"))"
      ],
      "metadata": {
        "id": "nsa2_B3O66-8"
      },
      "execution_count": 20,
      "outputs": []
    },
    {
      "cell_type": "code",
      "source": [
        "non_essential_symbols_removal = re.compile(r'[.,;:?!#$%^&*()_+={}\\[\\]()//]')\n",
        "non_essential_symbols_remover_udf = sqlf.udf(lambda element: non_essential_symbols_removal.sub('', element))\n",
        "df = df.withColumn(\"review\", non_essential_symbols_remover_udf(\"review\"))"
      ],
      "metadata": {
        "id": "w7x_XkAH68B8"
      },
      "execution_count": 22,
      "outputs": []
    },
    {
      "cell_type": "code",
      "source": [
        "digits_removal = re.compile(r'[0123456789]')\n",
        "digits_remover_udf = sqlf.udf(lambda element: digits_removal.sub('', element))\n",
        "df = df.withColumn(\"review\", digits_remover_udf(\"review\"))"
      ],
      "metadata": {
        "id": "58JsKspx6-X0"
      },
      "execution_count": 23,
      "outputs": []
    },
    {
      "cell_type": "code",
      "source": [
        "unicode_remover_udf = sqlf.udf(lambda element: (element.encode(\"ascii\", \"ignore\")).decode())\n",
        "df = df.withColumn(\"review\", unicode_remover_udf(\"review\"))"
      ],
      "metadata": {
        "id": "QzmOcipf6yNi"
      },
      "execution_count": 24,
      "outputs": []
    },
    {
      "cell_type": "code",
      "source": [
        "abbreviations_removal = {\n",
        "    'dm': 'direct message',\n",
        "    'pm': 'private message',\n",
        "    'thx': 'thanks',\n",
        "    'cuz': 'because',\n",
        "    'dming': 'direct messaging',\n",
        "    'dmed': 'direct messaged',\n",
        "    'plz': 'please',\n",
        "    'u': 'you',\n",
        "    'youre': 'you are',\n",
        "    'asap': 'as soon as possible',\n",
        "    'r': 'are',\n",
        "    'gg': 'good game',\n",
        "    'gut': 'good',\n",
        "    'gud': 'good',\n",
        "    'gl': 'good luck',\n",
        "    'hf': 'have fun',\n",
        "    'og': 'original gangster',\n",
        "    'nt': 'nice try',\n",
        "    'ofc': 'of course',\n",
        "    'wp': 'well played',\n",
        "    'ez': 'easy',\n",
        "    'bb': 'bye',\n",
        "    'btw': 'by the way',\n",
        "    'aka': 'also known as',\n",
        "    'eg': 'for example',\n",
        "    'fps': 'first person shooter',\n",
        "    'ie': 'that is',\n",
        "    'lol': 'laughing out loud', # or league of legends?\n",
        "    'lvl': 'level',\n",
        "    'pr': 'power rank',\n",
        "    'xp': 'experience points',\n",
        "    'inv': 'invite',\n",
        "    'lfm': 'looking for member', \n",
        "    'wtb': 'want to buy', \n",
        "    'wts': 'want to sell', \n",
        "    'wtt': 'want to trade',\n",
        "}\n",
        "\n",
        "abbreviations_remover_udf = sqlf.udf(lambda element: \" \".join([abbreviations_removal.get(word, word) for word in element.split()]))\n",
        "df = df.withColumn(\"review\", abbreviations_remover_udf(\"review\"))"
      ],
      "metadata": {
        "id": "fAotPM-s7Bmg"
      },
      "execution_count": 25,
      "outputs": []
    },
    {
      "cell_type": "code",
      "source": [
        "df = df.withColumn(REVIEW, sqlf.split(sqlf.col(REVIEW), \"\\s+\"))\n",
        "stop_words_remover = StopWordsRemover(\n",
        "    inputCol=REVIEW, outputCol=AUX_COL, locale=\"en_US\")\n",
        "df = stop_words_remover.transform(df)"
      ],
      "metadata": {
        "id": "94X6p7Em7EOR"
      },
      "execution_count": 26,
      "outputs": []
    },
    {
      "cell_type": "code",
      "source": [
        "df = df.drop(REVIEW)"
      ],
      "metadata": {
        "id": "4Ac93kju84xB"
      },
      "execution_count": 27,
      "outputs": []
    },
    {
      "cell_type": "code",
      "source": [
        "df = df.withColumnRenamed(AUX_COL, REVIEW)"
      ],
      "metadata": {
        "id": "BG-vLdlv9Iei"
      },
      "execution_count": 28,
      "outputs": []
    },
    {
      "cell_type": "code",
      "source": [
        "stemmer = PorterStemmer()\n",
        "\n",
        "\n",
        "def stem(input_vector):\n",
        "    output_vector = []\n",
        "    for element in input_vector:\n",
        "        output_vector.append(stemmer.stem(element))\n",
        "    return output_vector\n",
        "\n",
        "\n",
        "stemmer_udf = sqlf.udf(lambda element: stem(element), ArrayType(StringType()))\n",
        "df = df.withColumn(REVIEW, stemmer_udf(REVIEW))"
      ],
      "metadata": {
        "id": "2u__JLDi7N-3"
      },
      "execution_count": 29,
      "outputs": []
    },
    {
      "cell_type": "markdown",
      "source": [
        "# Tokenization"
      ],
      "metadata": {
        "id": "VAXEo33w-iKT"
      }
    },
    {
      "cell_type": "markdown",
      "source": [
        "## Looking through data"
      ],
      "metadata": {
        "id": "5PHDeHQJEdgl"
      }
    },
    {
      "cell_type": "code",
      "source": [
        "df.select(REVIEW).show(1)"
      ],
      "metadata": {
        "colab": {
          "base_uri": "https://localhost:8080/"
        },
        "id": "6Shw7MQP7ULA",
        "outputId": "a713b814-c6d5-40db-d323-2a6988c8325c"
      },
      "execution_count": 30,
      "outputs": [
        {
          "output_type": "stream",
          "name": "stdout",
          "text": [
            "+-------------+\n",
            "|       review|\n",
            "+-------------+\n",
            "|[hella, good]|\n",
            "+-------------+\n",
            "only showing top 1 row\n",
            "\n"
          ]
        }
      ]
    },
    {
      "cell_type": "code",
      "source": [
        "df.show(1)"
      ],
      "metadata": {
        "colab": {
          "base_uri": "https://localhost:8080/"
        },
        "id": "8_lB0RJS_QXw",
        "outputId": "dfecaa79-4bc1-4fb7-bbea-602840701a4f"
      },
      "execution_count": 31,
      "outputs": [
        {
          "output_type": "stream",
          "name": "stdout",
          "text": [
            "+----+------+--------------------+---------+--------+-----------------+-----------------+-----------+-------------+-----------+-------------------+-------------+--------------+-----------------+---------------------------+--------------+----------------------+------------------+-----------------------+------------------------------+-------------------------+------------------+-------------+\n",
            "|   #|app_id|            app_name|review_id|language|timestamp_created|timestamp_updated|recommended|votes_helpful|votes_funny|weighted_vote_score|comment_count|steam_purchase|received_for_free|written_during_early_access|author_steamid|author_num_games_owned|author_num_reviews|author_playtime_forever|author_playtime_last_two_weeks|author_playtime_at_review|author_last_played|       review|\n",
            "+----+------+--------------------+---------+--------+-----------------+-----------------+-----------+-------------+-----------+-------------------+-------------+--------------+-----------------+---------------------------+--------------+----------------------+------------------+-----------------------+------------------------------+-------------------------+------------------+-------------+\n",
            "|5660|292030|The Witcher 3: Wi...| 84222416| english|       1610029144|       1610029144|       true|            0|          0|                0.0|            0|          true|            false|                      false|            99|                    15|              null|                 2167.0|                         279.0|                     null|              null|[hella, good]|\n",
            "+----+------+--------------------+---------+--------+-----------------+-----------------+-----------+-------------+-----------+-------------------+-------------+--------------+-----------------+---------------------------+--------------+----------------------+------------------+-----------------------+------------------------------+-------------------------+------------------+-------------+\n",
            "only showing top 1 row\n",
            "\n"
          ]
        }
      ]
    },
    {
      "cell_type": "markdown",
      "source": [
        "## Embedding more data into review"
      ],
      "metadata": {
        "id": "sDtS-u6jEg4M"
      }
    },
    {
      "cell_type": "markdown",
      "source": [
        "### Embedded app_id"
      ],
      "metadata": {
        "id": "n85cJV4ILGdp"
      }
    },
    {
      "cell_type": "code",
      "source": [
        "df = df.withColumn(\n",
        "    AUX_COL, \n",
        "    sqlf.array_union(df.review, sqlf.array(sqlf.lit(df.app_id.cast(StringType()))))\n",
        ")"
      ],
      "metadata": {
        "id": "Ls-jU5tYKgcx"
      },
      "execution_count": 32,
      "outputs": []
    },
    {
      "cell_type": "code",
      "source": [
        "df = df.drop(REVIEW)\n",
        "df = df.withColumnRenamed(AUX_COL, REVIEW)\n",
        "df.select(REVIEW).show(1,truncate=False)"
      ],
      "metadata": {
        "colab": {
          "base_uri": "https://localhost:8080/"
        },
        "id": "4jEDsaDEKwq7",
        "outputId": "d0bc2635-752c-45d4-db6a-22c96b0a7bc5"
      },
      "execution_count": 33,
      "outputs": [
        {
          "output_type": "stream",
          "name": "stdout",
          "text": [
            "+---------------------+\n",
            "|review               |\n",
            "+---------------------+\n",
            "|[hella, good, 292030]|\n",
            "+---------------------+\n",
            "only showing top 1 row\n",
            "\n"
          ]
        }
      ]
    },
    {
      "cell_type": "markdown",
      "source": [
        "### Embedded with treshold"
      ],
      "metadata": {
        "id": "E6nuxfdMLY1C"
      }
    },
    {
      "cell_type": "code",
      "source": [
        "df.select(VOTES_FUNNY).describe().show()"
      ],
      "metadata": {
        "colab": {
          "base_uri": "https://localhost:8080/"
        },
        "id": "qZTfwCcfLxm0",
        "outputId": "a9dbb0d0-0b51-4136-ae77-4b6a1784bd72"
      },
      "execution_count": 34,
      "outputs": [
        {
          "output_type": "stream",
          "name": "stdout",
          "text": [
            "+-------+------------------+\n",
            "|summary|       votes_funny|\n",
            "+-------+------------------+\n",
            "|  count|              9973|\n",
            "|   mean|1.3849393362077609|\n",
            "| stddev|58.205690861332776|\n",
            "|    min|                 0|\n",
            "|    max|              4290|\n",
            "+-------+------------------+\n",
            "\n"
          ]
        }
      ]
    },
    {
      "cell_type": "code",
      "source": [
        "df.approxQuantile(VOTES_FUNNY, [0.25, 0.5, 0.75], 1)"
      ],
      "metadata": {
        "colab": {
          "base_uri": "https://localhost:8080/"
        },
        "id": "dR1rp8UzQryB",
        "outputId": "24f92a03-1e91-4248-bc63-d2c3f127009b"
      },
      "execution_count": 35,
      "outputs": [
        {
          "output_type": "execute_result",
          "data": {
            "text/plain": [
              "[0.0, 0.0, 0.0]"
            ]
          },
          "metadata": {},
          "execution_count": 35
        }
      ]
    },
    {
      "cell_type": "code",
      "source": [
        "def embedded_with_threshold(df, col, threshold, tag):\n",
        "  df = df.withColumn(\n",
        "            AUX_COL,\n",
        "            sqlf.when(sqlf.col(col) >= threshold, \n",
        "                  sqlf.array_union(df.review, sqlf.array(sqlf.lit(tag))))\n",
        "            .otherwise(sqlf.col(REVIEW))\n",
        "        )\n",
        "  df = df.drop(REVIEW)\n",
        "  df = df.withColumnRenamed(AUX_COL, REVIEW)\n",
        "  return df"
      ],
      "metadata": {
        "id": "Td7-BNicNnng"
      },
      "execution_count": 36,
      "outputs": []
    },
    {
      "cell_type": "code",
      "source": [
        "df = embedded_with_threshold(df, VOTES_FUNNY, 2.0, \"[FUNNY]\")"
      ],
      "metadata": {
        "id": "mbuWk_3LLxjZ"
      },
      "execution_count": 37,
      "outputs": []
    },
    {
      "cell_type": "code",
      "source": [
        "df.select(VOTES_HELPFUL).describe().show()"
      ],
      "metadata": {
        "colab": {
          "base_uri": "https://localhost:8080/"
        },
        "id": "nQGOhM-JNXPL",
        "outputId": "eb92915d-beb5-4d1a-ae2e-c9ed251b60e8"
      },
      "execution_count": 38,
      "outputs": [
        {
          "output_type": "stream",
          "name": "stdout",
          "text": [
            "+-------+-----------------+\n",
            "|summary|    votes_helpful|\n",
            "+-------+-----------------+\n",
            "|  count|             9973|\n",
            "|   mean|2.456231825930011|\n",
            "| stddev| 34.9017878043035|\n",
            "|    min|                0|\n",
            "|    max|             2504|\n",
            "+-------+-----------------+\n",
            "\n"
          ]
        }
      ]
    },
    {
      "cell_type": "code",
      "source": [
        "df.approxQuantile(VOTES_HELPFUL, [0.25, 0.5, 0.75], 1)"
      ],
      "metadata": {
        "colab": {
          "base_uri": "https://localhost:8080/"
        },
        "id": "Ql-WtywYQ7YY",
        "outputId": "4067bd61-bc03-4daa-d03c-cc2d4287dd25"
      },
      "execution_count": 39,
      "outputs": [
        {
          "output_type": "execute_result",
          "data": {
            "text/plain": [
              "[0.0, 0.0, 0.0]"
            ]
          },
          "metadata": {},
          "execution_count": 39
        }
      ]
    },
    {
      "cell_type": "code",
      "source": [
        "df = embedded_with_threshold(df, VOTES_HELPFUL, 3.0, \"[HELPFUL]\")"
      ],
      "metadata": {
        "id": "PKkZN9i9OpMB"
      },
      "execution_count": 40,
      "outputs": []
    },
    {
      "cell_type": "code",
      "source": [
        "df.select(COMMENT_COUNT).describe().show()"
      ],
      "metadata": {
        "colab": {
          "base_uri": "https://localhost:8080/"
        },
        "id": "J9iKGxi8O1gw",
        "outputId": "8cf8ab88-18a8-444d-fec0-2e167dfeda9d"
      },
      "execution_count": 41,
      "outputs": [
        {
          "output_type": "stream",
          "name": "stdout",
          "text": [
            "+-------+-------------------+\n",
            "|summary|      comment_count|\n",
            "+-------+-------------------+\n",
            "|  count|               9973|\n",
            "|   mean|0.22370400080216585|\n",
            "| stddev|  2.745304059970361|\n",
            "|    min|                  0|\n",
            "|    max|                169|\n",
            "+-------+-------------------+\n",
            "\n"
          ]
        }
      ]
    },
    {
      "cell_type": "code",
      "source": [
        "df.approxQuantile(COMMENT_COUNT, [0.25, 0.5, 0.75], 1)"
      ],
      "metadata": {
        "colab": {
          "base_uri": "https://localhost:8080/"
        },
        "id": "1Ndvqgw6RAYw",
        "outputId": "413d34f7-98d1-4374-85f4-2201b57ecc5e"
      },
      "execution_count": 42,
      "outputs": [
        {
          "output_type": "execute_result",
          "data": {
            "text/plain": [
              "[0.0, 0.0, 0.0]"
            ]
          },
          "metadata": {},
          "execution_count": 42
        }
      ]
    },
    {
      "cell_type": "code",
      "source": [
        "df = embedded_with_threshold(df, COMMENT_COUNT, 1.0, \"[WITH_COMMENTS]\")"
      ],
      "metadata": {
        "id": "G9Nwf4OhOchz"
      },
      "execution_count": 43,
      "outputs": []
    },
    {
      "cell_type": "code",
      "source": [
        "df.select(AUTHOR_PLAYTIME_FOREVER).describe().show()"
      ],
      "metadata": {
        "colab": {
          "base_uri": "https://localhost:8080/"
        },
        "id": "Ohcsw52IPLtZ",
        "outputId": "c888b4a5-ce85-455c-881c-553ab57ca6c4"
      },
      "execution_count": 44,
      "outputs": [
        {
          "output_type": "stream",
          "name": "stdout",
          "text": [
            "+-------+-----------------------+\n",
            "|summary|author_playtime_forever|\n",
            "+-------+-----------------------+\n",
            "|  count|                   9973|\n",
            "|   mean|      147.2307229519703|\n",
            "| stddev|      775.5653471579561|\n",
            "|    min|                    0.0|\n",
            "|    max|                18743.0|\n",
            "+-------+-----------------------+\n",
            "\n"
          ]
        }
      ]
    },
    {
      "cell_type": "code",
      "source": [
        "df.approxQuantile(AUTHOR_PLAYTIME_FOREVER, [0.25, 0.5, 0.75, 0.9], 1)"
      ],
      "metadata": {
        "colab": {
          "base_uri": "https://localhost:8080/"
        },
        "id": "wS4HotcHRCbU",
        "outputId": "50b3c7a0-f22b-4428-c720-a7db05b1822e"
      },
      "execution_count": 45,
      "outputs": [
        {
          "output_type": "execute_result",
          "data": {
            "text/plain": [
              "[0.0, 0.0, 0.0, 0.0]"
            ]
          },
          "metadata": {},
          "execution_count": 45
        }
      ]
    },
    {
      "cell_type": "code",
      "source": [
        "df = embedded_with_threshold(df, AUTHOR_PLAYTIME_FOREVER, 10.0, \"[LONG_PLAYTIME]\")"
      ],
      "metadata": {
        "id": "9X2AQ4_OPamz"
      },
      "execution_count": 46,
      "outputs": []
    },
    {
      "cell_type": "code",
      "source": [
        "df.select(AUTHOR_NUM_GAMES_OWNED).describe().show()"
      ],
      "metadata": {
        "colab": {
          "base_uri": "https://localhost:8080/"
        },
        "id": "3j2of5q4P63A",
        "outputId": "43a41fe6-6d8e-40f3-9f10-a2683ab440eb"
      },
      "execution_count": 47,
      "outputs": [
        {
          "output_type": "stream",
          "name": "stdout",
          "text": [
            "+-------+----------------------+\n",
            "|summary|author_num_games_owned|\n",
            "+-------+----------------------+\n",
            "|  count|                  9973|\n",
            "|   mean|    12.102677228516995|\n",
            "| stddev|     38.56583711616686|\n",
            "|    min|                     1|\n",
            "|    max|                  2627|\n",
            "+-------+----------------------+\n",
            "\n"
          ]
        }
      ]
    },
    {
      "cell_type": "code",
      "source": [
        "df.approxQuantile(AUTHOR_NUM_GAMES_OWNED, [0.25, 0.5, 0.75, 0.9], 1)"
      ],
      "metadata": {
        "colab": {
          "base_uri": "https://localhost:8080/"
        },
        "id": "oaXC2BDIQGB3",
        "outputId": "9492002b-7a4f-4297-96bd-756a623bc71e"
      },
      "execution_count": 48,
      "outputs": [
        {
          "output_type": "execute_result",
          "data": {
            "text/plain": [
              "[1.0, 1.0, 1.0, 1.0]"
            ]
          },
          "metadata": {},
          "execution_count": 48
        }
      ]
    },
    {
      "cell_type": "code",
      "source": [
        "df = embedded_with_threshold(df, AUTHOR_PLAYTIME_FOREVER, 2.0, \"[BIGGER_COLLECTION]\")"
      ],
      "metadata": {
        "id": "85y7726VRzN_"
      },
      "execution_count": 49,
      "outputs": []
    },
    {
      "cell_type": "code",
      "source": [
        "df.select(WEIGHTED_VOTE_SCORE).describe().show()"
      ],
      "metadata": {
        "colab": {
          "base_uri": "https://localhost:8080/"
        },
        "id": "W65OeWt-SLzU",
        "outputId": "7085f465-9837-4527-cef4-c1104af1af20"
      },
      "execution_count": 50,
      "outputs": [
        {
          "output_type": "stream",
          "name": "stdout",
          "text": [
            "+-------+-------------------+\n",
            "|summary|weighted_vote_score|\n",
            "+-------+-------------------+\n",
            "|  count|               9973|\n",
            "|   mean|0.22956860809920604|\n",
            "| stddev|0.24617714399706306|\n",
            "|    min|                0.0|\n",
            "|    max|          0.9189352|\n",
            "+-------+-------------------+\n",
            "\n"
          ]
        }
      ]
    },
    {
      "cell_type": "code",
      "source": [
        "df.approxQuantile(WEIGHTED_VOTE_SCORE, [0.25, 0.5, 0.75, 0.9], 1)"
      ],
      "metadata": {
        "colab": {
          "base_uri": "https://localhost:8080/"
        },
        "id": "7aZwHmr9SQCI",
        "outputId": "77d24a80-7c6e-4cc1-9cf1-b683226224c9"
      },
      "execution_count": 51,
      "outputs": [
        {
          "output_type": "execute_result",
          "data": {
            "text/plain": [
              "[0.0, 0.0, 0.0, 0.0]"
            ]
          },
          "metadata": {},
          "execution_count": 51
        }
      ]
    },
    {
      "cell_type": "markdown",
      "source": [
        "### Embbeded Booleans"
      ],
      "metadata": {
        "id": "Qpij1tTsT2I4"
      }
    },
    {
      "cell_type": "code",
      "source": [
        "df.groupBy(STEAM_PURCHASE).count().show()"
      ],
      "metadata": {
        "colab": {
          "base_uri": "https://localhost:8080/"
        },
        "id": "ltOem_GUTHGx",
        "outputId": "cab68a7f-3fa6-4003-b6fd-72b632d31ed0"
      },
      "execution_count": 52,
      "outputs": [
        {
          "output_type": "stream",
          "name": "stdout",
          "text": [
            "+--------------+-----+\n",
            "|steam_purchase|count|\n",
            "+--------------+-----+\n",
            "|          true| 7668|\n",
            "|         false| 2305|\n",
            "+--------------+-----+\n",
            "\n"
          ]
        }
      ]
    },
    {
      "cell_type": "code",
      "source": [
        "df.groupBy(RECEIVED_FOR_FREE).count().show()"
      ],
      "metadata": {
        "colab": {
          "base_uri": "https://localhost:8080/"
        },
        "id": "DZ2Ycs26TsAj",
        "outputId": "cc26babc-6c81-4b34-dda6-b1ce2a92ad6e"
      },
      "execution_count": 53,
      "outputs": [
        {
          "output_type": "stream",
          "name": "stdout",
          "text": [
            "+-----------------+-----+\n",
            "|received_for_free|count|\n",
            "+-----------------+-----+\n",
            "|             true|  281|\n",
            "|            false| 9692|\n",
            "+-----------------+-----+\n",
            "\n"
          ]
        }
      ]
    },
    {
      "cell_type": "code",
      "source": [
        "df.groupBy(WRITTEN_DURING_EARLY_ACCESS).count().show()"
      ],
      "metadata": {
        "colab": {
          "base_uri": "https://localhost:8080/"
        },
        "id": "djPhADBgUFJy",
        "outputId": "83b72f80-a4ba-45e1-96ce-4fc28e218f48"
      },
      "execution_count": 54,
      "outputs": [
        {
          "output_type": "stream",
          "name": "stdout",
          "text": [
            "+---------------------------+-----+\n",
            "|written_during_early_access|count|\n",
            "+---------------------------+-----+\n",
            "|                       true| 1095|\n",
            "|                      false| 8878|\n",
            "+---------------------------+-----+\n",
            "\n"
          ]
        }
      ]
    },
    {
      "cell_type": "code",
      "source": [
        "def embedded_with_boolean(df, col, value, tag):\n",
        "  df = df.withColumn(\n",
        "            AUX_COL,\n",
        "            sqlf.when(sqlf.col(col) == value, \n",
        "                  sqlf.array_union(df.review, sqlf.array(sqlf.lit(tag))))\n",
        "            .otherwise(sqlf.col(REVIEW))\n",
        "        )\n",
        "  df = df.drop(REVIEW)\n",
        "  df = df.withColumnRenamed(AUX_COL, REVIEW)\n",
        "  return df"
      ],
      "metadata": {
        "id": "imIaMvywUMi3"
      },
      "execution_count": 55,
      "outputs": []
    },
    {
      "cell_type": "code",
      "source": [
        "df = embedded_with_boolean(df, WRITTEN_DURING_EARLY_ACCESS, True, \"[EA]\")"
      ],
      "metadata": {
        "id": "l3_6ga8aUVpo"
      },
      "execution_count": 56,
      "outputs": []
    },
    {
      "cell_type": "code",
      "source": [
        "df = embedded_with_boolean(df, RECEIVED_FOR_FREE, True, \"[FREE]\")"
      ],
      "metadata": {
        "id": "yzuvWtnoUgZ4"
      },
      "execution_count": 57,
      "outputs": []
    },
    {
      "cell_type": "code",
      "source": [
        "df = embedded_with_boolean(df, STEAM_PURCHASE, False, \"[BOUGHT_ELSEWHERE]\")"
      ],
      "metadata": {
        "id": "L_BWnxcKUgPA"
      },
      "execution_count": 58,
      "outputs": []
    },
    {
      "cell_type": "markdown",
      "source": [
        "## Training a BOW and tokenizing the phrases"
      ],
      "metadata": {
        "id": "61pf_b9ZEhSu"
      }
    },
    {
      "cell_type": "code",
      "source": [
        "cv = CountVectorizer(inputCol=REVIEW, outputCol=AUX_COL)"
      ],
      "metadata": {
        "id": "arwgIgbF_8nX"
      },
      "execution_count": 59,
      "outputs": []
    },
    {
      "cell_type": "code",
      "source": [
        "cv_model = cv.fit(df)"
      ],
      "metadata": {
        "id": "5x58ryq1A7an"
      },
      "execution_count": 60,
      "outputs": []
    },
    {
      "cell_type": "code",
      "source": [
        "df_bow = cv_model.transform(df)"
      ],
      "metadata": {
        "id": "ANf-b0yBA_y2"
      },
      "execution_count": 61,
      "outputs": []
    },
    {
      "cell_type": "code",
      "source": [
        "CV_SAVE_PATH = \"models/cv_model\""
      ],
      "metadata": {
        "id": "oqinsuzPCySm"
      },
      "execution_count": 62,
      "outputs": []
    },
    {
      "cell_type": "code",
      "source": [
        "# saving the tokenization model\n",
        "# cv_model.save(CV_SAVE_PATH)"
      ],
      "metadata": {
        "id": "F0wpTLtmC8v1"
      },
      "execution_count": 63,
      "outputs": []
    },
    {
      "cell_type": "code",
      "source": [
        "# loading the tokenization model\n",
        "# cv_model = CountVectorizer.load(CV_SAVE_PATH)"
      ],
      "metadata": {
        "id": "ZnzuYsmSD6IC"
      },
      "execution_count": 64,
      "outputs": []
    },
    {
      "cell_type": "code",
      "source": [
        "# each line contains (dictionary_size, [token_encodings], [token_encoding_counter]\n",
        "# this is a smaller representation that can be later transformed into a sparse array\n",
        "df_bow.select(REVIEW, AUX_COL).show(10,truncate=False)"
      ],
      "metadata": {
        "colab": {
          "base_uri": "https://localhost:8080/"
        },
        "id": "uCNiarm4BFy4",
        "outputId": "c415c6e2-da2a-4875-c108-34a4690b4b77"
      },
      "execution_count": 65,
      "outputs": [
        {
          "output_type": "stream",
          "name": "stdout",
          "text": [
            "+------------------------------------------------------------------------------------------------------------------------------------------------------------------------------------------+-------------------------------------------------------------------------------------------------------------------------------------------------------------------------------------------------------------+\n",
            "|review                                                                                                                                                                                    |aux                                                                                                                                                                                                          |\n",
            "+------------------------------------------------------------------------------------------------------------------------------------------------------------------------------------------+-------------------------------------------------------------------------------------------------------------------------------------------------------------------------------------------------------------+\n",
            "|[hella, good, 292030, [LONG_PLAYTIME], [BIGGER_COLLECTION]]                                                                                                                               |(10817,[3,4,6,184,1684],[1.0,1.0,1.0,1.0,1.0])                                                                                                                                                               |\n",
            "|[fun, combat, nice, visual, amaz, interact, npc, good, stori, 292030]                                                                                                                     |(10817,[6,7,60,64,84,168,184,622,684,1150],[1.0,1.0,1.0,1.0,1.0,1.0,1.0,1.0,1.0,1.0])                                                                                                                        |\n",
            "|[stop, read, neg, review, play, damn, game, 292030, [FUNNY], [HELPFUL]]                                                                                                                   |(10817,[0,2,5,15,108,143,184,331,399,545],[1.0,1.0,1.0,1.0,1.0,1.0,1.0,1.0,1.0,1.0])                                                                                                                         |\n",
            "|[amaz, game, wonder, start, 292030, [LONG_PLAYTIME], [BIGGER_COLLECTION]]                                                                                                                 |(10817,[0,3,4,60,79,184,461],[1.0,1.0,1.0,1.0,1.0,1.0,1.0])                                                                                                                                                  |\n",
            "|[fan, wither, seri, book, tv, show, must, play, 292030, [LONG_PLAYTIME], [BIGGER_COLLECTION]]                                                                                             |(10817,[2,3,4,184,279,303,338,542,1399,2109,4320],[1.0,1.0,1.0,1.0,1.0,1.0,1.0,1.0,1.0,1.0,1.0])                                                                                                             |\n",
            "|[good, game, 292030]                                                                                                                                                                      |(10817,[0,6,184],[1.0,1.0,1.0])                                                                                                                                                                              |\n",
            "|[best, game, play, 292030]                                                                                                                                                                |(10817,[0,2,24,184],[1.0,1.0,1.0,1.0])                                                                                                                                                                       |\n",
            "|[play, good, 292030, [LONG_PLAYTIME], [BIGGER_COLLECTION]]                                                                                                                                |(10817,[2,3,4,6,184],[1.0,1.0,1.0,1.0,1.0])                                                                                                                                                                  |\n",
            "|[one, best, game, ever, play, almost, regard, complet, masterpiec, felt, choic, inconsequenti, given, enough, option, multipl, let, mani, turn, stori, way, prefer, natur, smooth, 292030]|(10817,[0,2,16,24,32,44,47,64,117,149,180,184,205,219,383,653,655,681,701,732,756,1172,1402,3222,7135],[1.0,1.0,1.0,1.0,1.0,1.0,1.0,1.0,1.0,1.0,1.0,1.0,1.0,1.0,1.0,1.0,1.0,1.0,1.0,1.0,1.0,1.0,1.0,1.0,1.0])|\n",
            "|[geralt, sleep, everi, woman, interact, yawn, said, game, play, graphic, pretti, solid, 292030, [HELPFUL]]                                                                                |(10817,[0,2,5,65,70,92,184,313,575,622,1465,2413,4103,4951],[1.0,1.0,1.0,1.0,1.0,1.0,1.0,1.0,1.0,1.0,1.0,1.0,1.0,1.0])                                                                                       |\n",
            "+------------------------------------------------------------------------------------------------------------------------------------------------------------------------------------------+-------------------------------------------------------------------------------------------------------------------------------------------------------------------------------------------------------------+\n",
            "only showing top 10 rows\n",
            "\n"
          ]
        }
      ]
    },
    {
      "cell_type": "code",
      "source": [
        "df_bow = df_bow.drop(REVIEW)\n",
        "df_bow = df_bow.withColumnRenamed(AUX_COL, REVIEW)"
      ],
      "metadata": {
        "id": "drkaErJVBMHQ"
      },
      "execution_count": 66,
      "outputs": []
    },
    {
      "cell_type": "markdown",
      "source": [
        "# Final data transformation"
      ],
      "metadata": {
        "id": "YIud5LbwZCPj"
      }
    },
    {
      "cell_type": "markdown",
      "source": [
        "## Count Vectorization"
      ],
      "metadata": {
        "id": "7qJE_ojrM4Eg"
      }
    },
    {
      "cell_type": "code",
      "source": [
        "tokenization = df_bow.select(REVIEW_ID, REVIEW, RECOMMENDED)"
      ],
      "metadata": {
        "id": "D4FRVSs-WmVY"
      },
      "execution_count": 67,
      "outputs": []
    },
    {
      "cell_type": "code",
      "source": [
        "tokenization.show(1)"
      ],
      "metadata": {
        "colab": {
          "base_uri": "https://localhost:8080/"
        },
        "id": "WajeepnUXyEX",
        "outputId": "36e39c8b-92cf-4bd2-979c-68b0d41d6b29"
      },
      "execution_count": 68,
      "outputs": [
        {
          "output_type": "stream",
          "name": "stdout",
          "text": [
            "+---------+--------------------+-----------+\n",
            "|review_id|              review|recommended|\n",
            "+---------+--------------------+-----------+\n",
            "| 84222416|(10817,[3,4,6,184...|       true|\n",
            "+---------+--------------------+-----------+\n",
            "only showing top 1 row\n",
            "\n"
          ]
        }
      ]
    },
    {
      "cell_type": "code",
      "source": [
        "tokenization = tokenization.withColumn(RECOMMENDED,df_bow.recommended.cast('integer'))"
      ],
      "metadata": {
        "id": "mskIznvJZEvf"
      },
      "execution_count": 69,
      "outputs": []
    },
    {
      "cell_type": "code",
      "source": [
        "tokenization.show(1)"
      ],
      "metadata": {
        "colab": {
          "base_uri": "https://localhost:8080/"
        },
        "id": "FXE3l63wYclf",
        "outputId": "b67370da-2cc1-4430-ce6c-ddc731130477"
      },
      "execution_count": 70,
      "outputs": [
        {
          "output_type": "stream",
          "name": "stdout",
          "text": [
            "+---------+--------------------+-----------+\n",
            "|review_id|              review|recommended|\n",
            "+---------+--------------------+-----------+\n",
            "| 84222416|(10817,[3,4,6,184...|          1|\n",
            "+---------+--------------------+-----------+\n",
            "only showing top 1 row\n",
            "\n"
          ]
        }
      ]
    },
    {
      "cell_type": "code",
      "source": [
        "DATASET_TOKENS_SAVE_PATH = \"data/bow_tokenization\""
      ],
      "metadata": {
        "id": "8YCdSZPVV3bH"
      },
      "execution_count": 71,
      "outputs": []
    },
    {
      "cell_type": "code",
      "source": [
        "tokenization.toJSON().first()"
      ],
      "metadata": {
        "colab": {
          "base_uri": "https://localhost:8080/",
          "height": 36
        },
        "id": "Qr7vhW3_Yb06",
        "outputId": "92b83f87-2d2f-469b-fd37-290160773206"
      },
      "execution_count": 72,
      "outputs": [
        {
          "output_type": "execute_result",
          "data": {
            "text/plain": [
              "'{\"review_id\":84222416,\"review\":{\"type\":0,\"size\":10817,\"indices\":[3,4,6,184,1684],\"values\":[1.0,1.0,1.0,1.0,1.0]},\"recommended\":1}'"
            ],
            "application/vnd.google.colaboratory.intrinsic+json": {
              "type": "string"
            }
          },
          "metadata": {},
          "execution_count": 72
        }
      ]
    },
    {
      "cell_type": "code",
      "source": [
        "# tokenization.repartition(1).write.json(DATASET_TOKENS_SAVE_PATH)"
      ],
      "metadata": {
        "id": "JejN09GNVd6f"
      },
      "execution_count": 74,
      "outputs": []
    },
    {
      "cell_type": "code",
      "source": [],
      "metadata": {
        "id": "WoRWIgnSNEkq"
      },
      "execution_count": null,
      "outputs": []
    }
  ]
}
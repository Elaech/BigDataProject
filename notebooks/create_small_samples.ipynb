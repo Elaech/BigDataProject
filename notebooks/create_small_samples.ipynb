{
 "cells": [
  {
   "cell_type": "markdown",
   "id": "86f537b1-7033-4c84-aa49-1a8ebe1e5073",
   "metadata": {
    "tags": []
   },
   "source": [
    "# Imports & Env"
   ]
  },
  {
   "cell_type": "code",
   "execution_count": 2,
   "id": "ba8b4936-60c0-48c9-a3a8-57200e03e297",
   "metadata": {},
   "outputs": [],
   "source": [
    "import findspark\n",
    "findspark.init()\n",
    "import pyspark\n",
    "from pyspark.sql import SparkSession"
   ]
  },
  {
   "cell_type": "code",
   "execution_count": 3,
   "id": "ef9e4941-db70-48aa-9a60-6ba4e577d692",
   "metadata": {},
   "outputs": [],
   "source": [
    "import collections\n",
    "collections.Callable = collections.abc.Callable"
   ]
  },
  {
   "cell_type": "code",
   "execution_count": 4,
   "id": "7111f35e-d8da-4e23-9e7d-f19fb6c27fda",
   "metadata": {},
   "outputs": [],
   "source": [
    "from pyreadline import Readline\n",
    "readline = Readline()\n",
    "import rlcompleter\n",
    "readline.parse_and_bind(\"tab: complete\")"
   ]
  },
  {
   "cell_type": "code",
   "execution_count": 5,
   "id": "48e3183e-ced4-4975-8e4b-c9635d7ab7fc",
   "metadata": {},
   "outputs": [],
   "source": [
    "import pyspark\n",
    "from pyspark.sql import SparkSession\n",
    "from pyspark.sql.types import StructType,StructField, StringType, IntegerType, FloatType \n",
    "from pyspark.sql.types import ArrayType, DoubleType, BooleanType\n",
    "from pyspark.sql.functions import col,array_contains"
   ]
  },
  {
   "cell_type": "code",
   "execution_count": 6,
   "id": "498ffb62-5679-4b6c-b4c5-e5ca92806f44",
   "metadata": {},
   "outputs": [],
   "source": [
    "from pyspark.sql import functions"
   ]
  },
  {
   "cell_type": "code",
   "execution_count": 7,
   "id": "0d3db110-f647-4adb-8b54-ac99efd55edc",
   "metadata": {},
   "outputs": [],
   "source": [
    "import itertools"
   ]
  },
  {
   "cell_type": "code",
   "execution_count": 8,
   "id": "381c792f-50e3-4b24-a49a-9912dff7a811",
   "metadata": {},
   "outputs": [],
   "source": [
    "import os"
   ]
  },
  {
   "cell_type": "code",
   "execution_count": 9,
   "id": "8f53229a-9e36-4bdc-a807-311a93e0c08c",
   "metadata": {},
   "outputs": [],
   "source": [
    "os.chdir(\"..\")"
   ]
  },
  {
   "cell_type": "code",
   "execution_count": 10,
   "id": "1262d4e5-21c1-4917-86c5-b591229221fb",
   "metadata": {},
   "outputs": [
    {
     "data": {
      "text/plain": [
       "'E:\\\\coding\\\\repos\\\\BigDataProject'"
      ]
     },
     "execution_count": 10,
     "metadata": {},
     "output_type": "execute_result"
    }
   ],
   "source": [
    "os.getcwd()"
   ]
  },
  {
   "cell_type": "code",
   "execution_count": 11,
   "id": "f5e678cf-9700-45fe-a02b-1a9dac37948d",
   "metadata": {},
   "outputs": [],
   "source": [
    "spark = SparkSession.builder.master(\"local\").appName('SamplingReviews')\\\n",
    ".config('spark.executor.cores', '8').config('spark.executor.memory','16g').getOrCreate()"
   ]
  },
  {
   "cell_type": "markdown",
   "id": "08ed5a24-8e72-407f-8b3e-cee7e9cd13f2",
   "metadata": {
    "jp-MarkdownHeadingCollapsed": true,
    "tags": []
   },
   "source": [
    "# Load Data"
   ]
  },
  {
   "cell_type": "code",
   "execution_count": 12,
   "id": "ee61873f-ae31-4401-acdb-c0d892c6244d",
   "metadata": {},
   "outputs": [],
   "source": [
    "FINAL_DATASET = \"data/steam_reviews_final.csv\""
   ]
  },
  {
   "cell_type": "code",
   "execution_count": 13,
   "id": "8aed801c-532c-4757-84d8-8e34ba20be49",
   "metadata": {},
   "outputs": [],
   "source": [
    "non_null_schema = StructType() \\\n",
    "      .add(\"#\",IntegerType(),True) \\\n",
    "      .add(\"app_id\",IntegerType(),True) \\\n",
    "      .add(\"app_name\",StringType(),True) \\\n",
    "      .add(\"review_id\",IntegerType(),True) \\\n",
    "      .add(\"language\",StringType(),True) \\\n",
    "      .add(\"review\",StringType(),True) \\\n",
    "      .add(\"timestamp_created\",IntegerType(),True) \\\n",
    "      .add(\"timestamp_updated\",IntegerType(),True) \\\n",
    "      .add(\"recommended\",BooleanType(),True) \\\n",
    "      .add(\"votes_helpful\",IntegerType(),True) \\\n",
    "      .add(\"votes_funny\",IntegerType(),True) \\\n",
    "      .add(\"weighted_vote_score\",FloatType(),True) \\\n",
    "      .add(\"comment_count\",IntegerType(),True) \\\n",
    "      .add(\"steam_purchase\",BooleanType(),True) \\\n",
    "      .add(\"received_for_free\",BooleanType(),True) \\\n",
    "      .add(\"written_during_early_access\",BooleanType(),True) \\\n",
    "      .add(\"author_steamid\",IntegerType(),True) \\\n",
    "      .add(\"author_num_games_owned\",IntegerType(),True) \\\n",
    "      .add(\"author_num_reviews\",IntegerType(),True) \\\n",
    "      .add(\"author_playtime_forever\",FloatType(),True) \\\n",
    "      .add(\"author_playtime_last_two_weeks\",FloatType(),True) \\\n",
    "      .add(\"author_playtime_at_review\",FloatType(),True) \\\n",
    "      .add(\"author_last_played\",IntegerType(),True)"
   ]
  },
  {
   "cell_type": "code",
   "execution_count": 14,
   "id": "cc9981fa-a3e8-4841-ac8b-07b94f6c1f8f",
   "metadata": {},
   "outputs": [],
   "source": [
    "INDEX = \"#\"\n",
    "APP_ID = \"app_id\"\n",
    "APP_NAME = \"app_name\"\n",
    "REVIEW_ID = \"review_id\"\n",
    "LANGUAGE = \"language\"\n",
    "REVIEW = \"review\"\n",
    "TIMESTAMP_CREATED = \"timestamp_created\"\n",
    "TIMESTAMP_UPDATED = \"timestamp_updated\"\n",
    "RECOMMENDED = \"recommended\"\n",
    "VOTES_HELPFUL = \"votes_helpful\"\n",
    "VOTES_FUNNY = \"votes_funny\"\n",
    "WEIGHTED_VOTE_SCORE = \"weighted_vote_score\"\n",
    "COMMENT_COUNT = \"comment_count\"\n",
    "STEAM_PURCHASE = \"steam_purchase\"\n",
    "RECEIVED_FOR_FREE = \"received_for_free\"\n",
    "WRITTEN_DURING_EARLY_ACCESS = \"written_during_early_access\"\n",
    "AUTHOR_STEAMID = \"author_steamid\"\n",
    "AUTHOR_NUM_GAMES_OWNED = \"author_num_games_owned\"\n",
    "AUTHOR_NUM_REVIEWS = \"author_num_reviews\"\n",
    "AUTHOR_PLAYTIME_FOREVER = \"author_playtime_forever\"\n",
    "AUTHOR_PLAYTIME_LAST_TWO_WEEKS = \"author_playtime_last_two_weeks\"\n",
    "AUTHOR_PLAYTIME_AT_REVIEW = \"author_playtime_at_review\"\n",
    "AUTHOR_LAST_PLAYED = \"author_last_played\""
   ]
  },
  {
   "cell_type": "code",
   "execution_count": 15,
   "id": "d90cc790-a31f-4e56-9ba5-8c46205551c4",
   "metadata": {},
   "outputs": [],
   "source": [
    "df_non_null_final = spark.read.format(\"csv\") \\\n",
    "      .option(\"header\", True) \\\n",
    "      .option(\"encoding\", \"utf-8\") \\\n",
    "      .schema(non_null_schema) \\\n",
    "      .load(FINAL_DATASET)"
   ]
  },
  {
   "cell_type": "code",
   "execution_count": 16,
   "id": "6f4096d8-212c-4112-9de7-ce3ca9959b99",
   "metadata": {},
   "outputs": [
    {
     "data": {
      "text/plain": [
       "16618478"
      ]
     },
     "execution_count": 16,
     "metadata": {},
     "output_type": "execute_result"
    }
   ],
   "source": [
    "df_non_null_final.count()"
   ]
  },
  {
   "cell_type": "markdown",
   "id": "a8cdf23a-9174-4142-8974-0fff34ec42dc",
   "metadata": {
    "tags": []
   },
   "source": [
    "# Sampling"
   ]
  },
  {
   "cell_type": "code",
   "execution_count": 16,
   "id": "85e83fc2-e397-410c-9418-8b1ad77e8090",
   "metadata": {},
   "outputs": [],
   "source": [
    "df_english_dataset = df_non_null_final.where(df_non_null_final[LANGUAGE] == \"english\")"
   ]
  },
  {
   "cell_type": "code",
   "execution_count": 21,
   "id": "420c02d4-fc61-4d8c-9486-939b16b8d554",
   "metadata": {},
   "outputs": [
    {
     "data": {
      "text/plain": [
       "7240550"
      ]
     },
     "execution_count": 21,
     "metadata": {},
     "output_type": "execute_result"
    }
   ],
   "source": [
    "df_english_dataset.count()"
   ]
  },
  {
   "cell_type": "code",
   "execution_count": 22,
   "id": "ea76e4e5-0fe3-4035-91b4-4ffa1a52a9f6",
   "metadata": {},
   "outputs": [
    {
     "name": "stdout",
     "output_type": "stream",
     "text": [
      "+-----------+-------+\n",
      "|recommended|  count|\n",
      "+-----------+-------+\n",
      "|       true|6572346|\n",
      "|      false| 668204|\n",
      "+-----------+-------+\n",
      "\n"
     ]
    }
   ],
   "source": [
    "df_english_dataset.groupBy(RECOMMENDED).count().show()"
   ]
  },
  {
   "cell_type": "code",
   "execution_count": 17,
   "id": "f078df05-b2b9-46e1-8a29-b1759c9e41fc",
   "metadata": {},
   "outputs": [],
   "source": [
    "df_non_english_dataset = df_non_null_final.where(df_non_null_final[LANGUAGE] != \"english\")"
   ]
  },
  {
   "cell_type": "code",
   "execution_count": 24,
   "id": "fc39fb07-4ae0-45c4-920f-eda041873370",
   "metadata": {},
   "outputs": [
    {
     "data": {
      "text/plain": [
       "9377928"
      ]
     },
     "execution_count": 24,
     "metadata": {},
     "output_type": "execute_result"
    }
   ],
   "source": [
    "df_non_english_dataset.count()"
   ]
  },
  {
   "cell_type": "code",
   "execution_count": 25,
   "id": "f7f0ab26-5f3a-4e2a-b912-19af3dab4521",
   "metadata": {},
   "outputs": [
    {
     "name": "stdout",
     "output_type": "stream",
     "text": [
      "+-----------+-------+\n",
      "|recommended|  count|\n",
      "+-----------+-------+\n",
      "|       true|8109017|\n",
      "|      false|1268911|\n",
      "+-----------+-------+\n",
      "\n"
     ]
    }
   ],
   "source": [
    "df_non_english_dataset.groupBy(RECOMMENDED).count().show()"
   ]
  },
  {
   "cell_type": "code",
   "execution_count": 18,
   "id": "9c81c531-f225-446f-9d3c-f8b7c69ca7a9",
   "metadata": {},
   "outputs": [],
   "source": [
    "SAMPLE_SIZES = [(100_000, \"data/final_dataset_100k\"),\n",
    "                (50_000, \"data/final_dataset_50k\"), \n",
    "                (10_000, \"data/final_dataset_10k\")]"
   ]
  },
  {
   "cell_type": "code",
   "execution_count": 19,
   "id": "3d4dce7b-1437-4db0-9984-353f24df5d27",
   "metadata": {},
   "outputs": [],
   "source": [
    "LANG_DFS = [(df_english_dataset, \"en\"), (df_non_english_dataset, \"non-en\")]"
   ]
  },
  {
   "cell_type": "code",
   "execution_count": 20,
   "id": "cbb921d8-0fc3-4f2f-80e8-2867c6d84401",
   "metadata": {},
   "outputs": [],
   "source": [
    "BALANCE_LABEL = [(RECOMMENDED, 2), (APP_ID, 300)]"
   ]
  },
  {
   "cell_type": "code",
   "execution_count": 43,
   "id": "30fbf9be-21d3-4e69-8a7e-fd6a0b6a4fc9",
   "metadata": {},
   "outputs": [],
   "source": [
    "def sample_big_df(df, sample_size, outdir, lang, label):\n",
    "    fractions = df.groupBy(label).count().withColumn(\"required_n\", sample_size/col(\"count\"))\\\n",
    "                .drop(\"count\").rdd.collectAsMap()\n",
    "    sanitized_fractions = {x:min(1.00, fractions[x]) for x in fractions}\n",
    "    sample_df = df.sampleBy(label, sanitized_fractions)\n",
    "    sample_df.repartition(1).write \\\n",
    "            .options(header='True', delimiter=',') \\\n",
    "            .csv(f\"{outdir}_{lang}_{label.lower()}_{sample_size}per\")"
   ]
  },
  {
   "cell_type": "code",
   "execution_count": 44,
   "id": "4a88e74e-47dd-48cf-b307-d40b1e4ba795",
   "metadata": {},
   "outputs": [],
   "source": [
    "# 100k, 50k, 10k"
   ]
  },
  {
   "cell_type": "code",
   "execution_count": 45,
   "id": "9c1a6dd2-b594-4cd5-ba4e-3d3fa30f47be",
   "metadata": {},
   "outputs": [],
   "source": [
    "# small sample for english dataset balanced around RECOMMENDED"
   ]
  },
  {
   "cell_type": "code",
   "execution_count": 46,
   "id": "d66f9cdb-e9c5-4c88-a0f9-525ffaaf50e6",
   "metadata": {},
   "outputs": [],
   "source": [
    "# small sample for english dataset balanced around APP_ID"
   ]
  },
  {
   "cell_type": "code",
   "execution_count": 47,
   "id": "b87c61e2-a6b2-45ed-8674-340d065cf858",
   "metadata": {},
   "outputs": [],
   "source": [
    "# small sample for non-english dataset balanced around RECOMMENDED"
   ]
  },
  {
   "cell_type": "code",
   "execution_count": 48,
   "id": "848afeb0-69ca-470b-99c1-edf63a7ee227",
   "metadata": {},
   "outputs": [],
   "source": [
    "# small sample for non-english dataset balanced around APP_ID"
   ]
  },
  {
   "cell_type": "code",
   "execution_count": 49,
   "id": "fd1e9b81-640d-4112-a754-d03ad6b98a1b",
   "metadata": {},
   "outputs": [
    {
     "name": "stdout",
     "output_type": "stream",
     "text": [
      "100000 en recommended 50000\n",
      "100000 en app_id 333\n",
      "100000 non-en recommended 50000\n",
      "100000 non-en app_id 333\n",
      "50000 en recommended 25000\n",
      "50000 en app_id 166\n",
      "50000 non-en recommended 25000\n",
      "50000 non-en app_id 166\n",
      "10000 en recommended 5000\n",
      "10000 en app_id 33\n",
      "10000 non-en recommended 5000\n",
      "10000 non-en app_id 33\n"
     ]
    }
   ],
   "source": [
    "for sample, lang, balance_label in itertools.product(SAMPLE_SIZES, LANG_DFS, BALANCE_LABEL):\n",
    "    print(sample[0], lang[1], balance_label[0], int(sample[0]/balance_label[1]))\n",
    "    sample_big_df(lang[0], int(sample[0]/balance_label[1]), sample[1], lang[1], balance_label[0])"
   ]
  },
  {
   "cell_type": "code",
   "execution_count": 30,
   "id": "94e9e175-4fb6-49ba-b548-8aecb33708b1",
   "metadata": {},
   "outputs": [],
   "source": [
    "fractions = df_english_dataset.groupBy(APP_ID).count().withColumn(\"required_n\", 50000/col(\"count\"))\\\n",
    "                .drop(\"count\").rdd.collectAsMap()"
   ]
  },
  {
   "cell_type": "code",
   "execution_count": 29,
   "id": "256bb440-a8a8-4f78-9c20-fb51b8805199",
   "metadata": {},
   "outputs": [
    {
     "data": {
      "text/plain": [
       "315"
      ]
     },
     "execution_count": 29,
     "metadata": {},
     "output_type": "execute_result"
    }
   ],
   "source": [
    "len(fractions)"
   ]
  },
  {
   "cell_type": "code",
   "execution_count": 32,
   "id": "7e1ac925-f897-42c5-88c2-8151812553b4",
   "metadata": {},
   "outputs": [],
   "source": []
  },
  {
   "cell_type": "code",
   "execution_count": null,
   "id": "8722fdca-655d-45ea-9367-fe4005aff5ec",
   "metadata": {},
   "outputs": [],
   "source": []
  }
 ],
 "metadata": {
  "kernelspec": {
   "display_name": "Python 3 (ipykernel)",
   "language": "python",
   "name": "python3"
  },
  "language_info": {
   "codemirror_mode": {
    "name": "ipython",
    "version": 3
   },
   "file_extension": ".py",
   "mimetype": "text/x-python",
   "name": "python",
   "nbconvert_exporter": "python",
   "pygments_lexer": "ipython3",
   "version": "3.10.2"
  }
 },
 "nbformat": 4,
 "nbformat_minor": 5
}
